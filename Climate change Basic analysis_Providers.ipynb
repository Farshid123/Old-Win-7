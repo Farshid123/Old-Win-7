{
 "cells": [
  {
   "cell_type": "markdown",
   "metadata": {},
   "source": [
    "# Basic analysis on the corpus (Providers):"
   ]
  },
  {
   "cell_type": "code",
   "execution_count": 1,
   "metadata": {},
   "outputs": [
    {
     "name": "stdout",
     "output_type": "stream",
     "text": [
      "This string has 87471 characters.\n"
     ]
    }
   ],
   "source": [
    "with open('Providers_text2.txt','r') as myfile:\n",
    "    data_string3=myfile.read().replace('\\n','')\n",
    "print(\"This string has\", len(data_string3), \"characters.\")"
   ]
  },
  {
   "cell_type": "code",
   "execution_count": 2,
   "metadata": {},
   "outputs": [
    {
     "data": {
      "text/plain": [
       "str"
      ]
     },
     "execution_count": 2,
     "metadata": {},
     "output_type": "execute_result"
    }
   ],
   "source": [
    "type (data_string3)"
   ]
  },
  {
   "cell_type": "code",
   "execution_count": 3,
   "metadata": {},
   "outputs": [
    {
     "data": {
      "text/plain": [
       "87471"
      ]
     },
     "execution_count": 3,
     "metadata": {},
     "output_type": "execute_result"
    }
   ],
   "source": [
    "import nltk\n",
    "len(data_string3)"
   ]
  },
  {
   "cell_type": "code",
   "execution_count": 4,
   "metadata": {},
   "outputs": [],
   "source": [
    "from nltk import word_tokenize"
   ]
  },
  {
   "cell_type": "code",
   "execution_count": 6,
   "metadata": {},
   "outputs": [
    {
     "data": {
      "text/plain": [
       "list"
      ]
     },
     "execution_count": 6,
     "metadata": {},
     "output_type": "execute_result"
    }
   ],
   "source": [
    "Tokens1=nltk.word_tokenize(data_string3)\n",
    "type(Tokens1)"
   ]
  },
  {
   "cell_type": "code",
   "execution_count": 7,
   "metadata": {},
   "outputs": [
    {
     "name": "stdout",
     "output_type": "stream",
     "text": [
      "11  7\n"
     ]
    }
   ],
   "source": [
    "print(Tokens1.count(\"climate\"),\"\",Tokens1.count(\"Climate\"))"
   ]
  },
  {
   "cell_type": "markdown",
   "metadata": {},
   "source": [
    "# Lowering the corpus:"
   ]
  },
  {
   "cell_type": "code",
   "execution_count": 8,
   "metadata": {},
   "outputs": [
    {
     "data": {
      "text/plain": [
       "['for',\n",
       " 'many',\n",
       " 'years',\n",
       " 'jaspernp',\n",
       " 'has',\n",
       " 'held',\n",
       " 'a',\n",
       " 'spring',\n",
       " 'flower',\n",
       " 'count',\n",
       " 'volunteers',\n",
       " 'parks',\n",
       " 'staff',\n",
       " 'collect',\n",
       " 'data',\n",
       " 'on',\n",
       " 'the',\n",
       " 'flowers',\n",
       " 'that',\n",
       " 'are',\n",
       " 'blooming',\n",
       " 'in',\n",
       " 'the',\n",
       " 'park',\n",
       " 'which',\n",
       " 'is',\n",
       " 'then',\n",
       " 'used',\n",
       " 'for',\n",
       " 'climate',\n",
       " 'change',\n",
       " 'research',\n",
       " 'as',\n",
       " 'it',\n",
       " 'helps',\n",
       " 'describe',\n",
       " 'ecological',\n",
       " 'trends',\n",
       " 'over',\n",
       " 'time',\n",
       " 'why',\n",
       " 'is',\n",
       " 'there',\n",
       " 'still',\n",
       " 'a',\n",
       " 'fire',\n",
       " 'ban',\n",
       " 'in',\n",
       " 'jnp',\n",
       " 'since']"
      ]
     },
     "execution_count": 8,
     "metadata": {},
     "output_type": "execute_result"
    }
   ],
   "source": [
    "LowerTokens1=[]\n",
    "for token in Tokens1:\n",
    "    if token.isalpha():\n",
    "        LowerTokens1.append(token.lower())\n",
    "        \n",
    "LowerTokens1[:50]"
   ]
  },
  {
   "cell_type": "markdown",
   "metadata": {},
   "source": [
    "# Frequency of words:"
   ]
  },
  {
   "cell_type": "code",
   "execution_count": 9,
   "metadata": {},
   "outputs": [
    {
     "data": {
      "text/plain": [
       "FreqDist({'the': 902, 'and': 528, 'to': 416, 'in': 372, 'fire': 337, 'of': 331, 'is': 223, 'wildfire': 207, 'a': 180, 'for': 169, ...})"
      ]
     },
     "execution_count": 9,
     "metadata": {},
     "output_type": "execute_result"
    }
   ],
   "source": [
    "LowerFreqs1=nltk.FreqDist(LowerTokens1)\n",
    "LowerFreqs1"
   ]
  },
  {
   "cell_type": "code",
   "execution_count": 10,
   "metadata": {},
   "outputs": [
    {
     "name": "stdout",
     "output_type": "stream",
     "text": [
      "     the      and       to       in     fire       of       is wildfire        a      for \n",
      "     902      528      416      372      337      331      223      207      180      169 \n"
     ]
    }
   ],
   "source": [
    "LowerFreqs1.tabulate(10)"
   ]
  },
  {
   "cell_type": "code",
   "execution_count": 11,
   "metadata": {},
   "outputs": [
    {
     "data": {
      "image/png": "[encoded data removed]",
      "text/plain": [
       "<Figure size 432x288 with 1 Axes>"
      ]
     },
     "metadata": {},
     "output_type": "display_data"
    }
   ],
   "source": [
    "import numpy as np\n",
    "import matplotlib.pyplot as plt\n",
    "%matplotlib inline\n",
    "LowerFreqs1.plot(30)"
   ]
  },
  {
   "cell_type": "markdown",
   "metadata": {},
   "source": [
    "# Removing stop words:"
   ]
  },
  {
   "cell_type": "code",
   "execution_count": 12,
   "metadata": {},
   "outputs": [
    {
     "name": "stdout",
     "output_type": "stream",
     "text": [
      "['a', 'about', 'above', 'after', 'again', 'against', 'all', 'am', 'an', 'and', 'any', 'are', \"aren't\", 'as', 'at', 'be', 'because', 'been', 'before', 'being', 'below', 'between', 'both', 'but', 'by', \"can't\", 'cannot', 'could', \"couldn't\", 'did', \"didn't\", 'do', 'does', \"doesn't\", 'doing', \"don't\", 'down', 'during', 'each', 'few', 'for', 'from', 'further', 'had', \"hadn't\", 'has', \"hasn't\", 'have', \"haven't\", 'having', 'he', \"he'd\", \"he'll\", \"he's\", 'her', 'here', \"here's\", 'hers', 'herself', 'him', 'himself', 'his', 'how', \"how's\", 'i', \"i'd\", \"i'll\", \"i'm\", \"i've\", 'if', 'in', 'into', 'is', \"isn't\", 'it', \"it's\", 'its', 'itself', \"let's\", 'me', 'more', 'most', \"mustn't\", 'my', 'myself', 'no', 'nor', 'not', 'of', 'off', 'on', 'once', 'only', 'or', 'other', 'ought', 'our', 'ours', 'ourselves', 'out', 'over', 'own', 'same', \"shan't\", 'she', \"she'd\", \"she'll\", \"she's\", 'should', \"shouldn't\", 'so', 'some', 'such', 'than', 'that', \"that's\", 'the', 'their', 'theirs', 'them', 'themselves', 'then', 'there', \"there's\", 'these', 'they', \"they'd\", \"they'll\", \"they're\", \"they've\", 'this', 'those', 'through', 'to', 'too', 'under', 'until', 'up', 'very', 'was', \"wasn't\", 'we', \"we'd\", \"we'll\", \"we're\", \"we've\", 'were', \"weren't\", 'what', \"what's\", 'when', \"when's\", 'where', \"where's\", 'which', 'while', 'who', \"who's\", 'whom', 'why', \"why's\", 'with', \"won't\", 'would', \"wouldn't\", 'you', \"you'd\", \"you'll\", \"you're\", \"you've\", 'your', 'yours', 'yourself', 'yourselves']\n"
     ]
    }
   ],
   "source": [
    "import stop_words\n",
    "from stop_words import get_stop_words\n",
    "en_stop = get_stop_words('en')\n",
    "print(en_stop)"
   ]
  },
  {
   "cell_type": "code",
   "execution_count": 13,
   "metadata": {},
   "outputs": [
    {
     "name": "stdout",
     "output_type": "stream",
     "text": [
      "['many', 'years', 'jaspernp', 'held', 'spring', 'flower', 'count', 'volunteers', 'parks', 'staff', 'collect', 'data', 'flowers', 'blooming', 'park', 'used', 'climate', 'change', 'research', 'helps']\n"
     ]
    }
   ],
   "source": [
    "# remove stop words from tokens\n",
    "StoppedTokens1 = [i for i in LowerTokens1 if not i in en_stop]\n",
    "\n",
    "print(StoppedTokens1[:20])"
   ]
  },
  {
   "cell_type": "code",
   "execution_count": 14,
   "metadata": {},
   "outputs": [
    {
     "data": {
      "text/plain": [
       "FreqDist({'fire': 337, 'wildfire': 207, 'parks': 151, 'canada': 142, 'national': 137, 'park': 133, 'creek': 109, 'will': 89, 'area': 77, 'kootenay': 77, ...})"
      ]
     },
     "execution_count": 14,
     "metadata": {},
     "output_type": "execute_result"
    }
   ],
   "source": [
    "StoppedTokensFreqs1=nltk.FreqDist(StoppedTokens1)\n",
    "StoppedTokensFreqs1"
   ]
  },
  {
   "cell_type": "code",
   "execution_count": 15,
   "metadata": {},
   "outputs": [
    {
     "data": {
      "image/png": "[encoded data removed]",
      "text/plain": [
       "<Figure size 432x288 with 1 Axes>"
      ]
     },
     "metadata": {},
     "output_type": "display_data"
    }
   ],
   "source": [
    "import matplotlib.pyplot as plt\n",
    "plt.xlabel('Words')\n",
    "plt.ylabel('Counts')\n",
    "plt.title('Top Frequency Content Terms in the corpus')\n",
    "StoppedTokensFreqs1.plot(30)"
   ]
  },
  {
   "cell_type": "markdown",
   "metadata": {},
   "source": [
    "# End of coding!"
   ]
  },
  {
   "cell_type": "code",
   "execution_count": null,
   "metadata": {},
   "outputs": [],
   "source": []
  }
 ],
 "metadata": {
  "kernelspec": {
   "display_name": "Python 3",
   "language": "python",
   "name": "python3"
  },
  "language_info": {
   "codemirror_mode": {
    "name": "ipython",
    "version": 3
   },
   "file_extension": ".py",
   "mimetype": "text/x-python",
   "name": "python",
   "nbconvert_exporter": "python",
   "pygments_lexer": "ipython3",
   "version": "3.6.5"
  }
 },
 "nbformat": 4,
 "nbformat_minor": 2
}
