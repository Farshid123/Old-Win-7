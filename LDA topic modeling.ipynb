{
 "cells": [
  {
   "cell_type": "code",
   "execution_count": 1,
   "metadata": {},
   "outputs": [
    {
     "name": "stderr",
     "output_type": "stream",
     "text": [
      "C:\\Users\\Papar\\Anaconda3\\lib\\site-packages\\gensim\\utils.py:860: UserWarning: detected Windows; aliasing chunkize to chunkize_serial\n",
      "  warnings.warn(\"detected Windows; aliasing chunkize to chunkize_serial\")\n"
     ]
    }
   ],
   "source": [
    "import conda\n",
    "import lda\n",
    "import lda.datasets\n",
    "import gensim\n",
    "from nltk.corpus import stopwords"
   ]
  },
  {
   "cell_type": "code",
   "execution_count": 2,
   "metadata": {},
   "outputs": [
    {
     "data": {
      "text/plain": [
       "30"
      ]
     },
     "execution_count": 2,
     "metadata": {},
     "output_type": "execute_result"
    }
   ],
   "source": [
    "import csv\n",
    "data_list2 = []\n",
    "with open('sample.csv', 'r') as file: # This makes sure that file is closed after reading\n",
    "    data = csv.reader(file)\n",
    "    for row in data:\n",
    "        data_list2.append(row[0]) # This puts all the data from column 5 into a list\n",
    "    file.close()\n",
    "\n",
    "len(data_list2)"
   ]
  },
  {
   "cell_type": "code",
   "execution_count": 3,
   "metadata": {},
   "outputs": [
    {
     "data": {
      "text/plain": [
       "list"
      ]
     },
     "execution_count": 3,
     "metadata": {},
     "output_type": "execute_result"
    }
   ],
   "source": [
    "type(data_list2)"
   ]
  },
  {
   "cell_type": "code",
   "execution_count": 4,
   "metadata": {},
   "outputs": [
    {
     "name": "stdout",
     "output_type": "stream",
     "text": [
      "['It was thrilling to take the bus onto the glacier and walk around it. We parked our RV in the parking lot facing the glacier after the excursion. It is hard to describe how beautiful the scenery is....a must see. Not far from the glacier is the glass sidewalk over the canyon....a real mind blower. The Rocky Mountains truly rejuvenate the soul.', 'We parked at the glacier car park (on the other side of the road to the main park centre). The car park gets quite full but we did manage to jag a spot immediately. The walk up from there to the bottom of the glacier is quite steep and takes 10-20 mins at least depending on how you feel. It can also be a bit slippery with loose gravel and rocks. On the way, note the signs that show where the glacier was in the recent past - and some people say there is no climate change? It may be for normal, natural, cyclical reasons but the glacier is definitely receding. I found it interesting to see the scratches on the rock from where the glacier had moved over it.\\nAs it is a reasonably hard walk up to the glacier, there are fewer people there than you might have expected from seeing how busy the centre is across the road.\\nIt was quite a cold day when we were there and noticeably colder at the glacier than down in the car park so rug up regardless and be prepared.', \"I visited the Ice Field in late October, which may not have been so ideal. It was very cold, hard to walk around the rocks because of the snow, and I only spent around 30 minutes here because of this. The tours don't run during this time either. It was still a wonderful experience, starting with the drive to this area. The actual frozen glaciers are far into the distance, and is not safe to approach due to unstable, snowy paths. But even from afar, the ice looked nice. Knowing I was staring at nature that has stood still in time for millions of years makes this visit worth it.\", 'The ice fields are nice but the pricing of most things is very expensive. The service is reasonable and the servers are pleasant.', 'This was our first trip to an ice field and there is no way to describe how massive the glacier is until you are traveling in the huge coach that takes you there and then stepping out onto the ice. It was a fantastic experience.', 'The Columbia Icefield is about a 2 hour drive from Calgary. it is remarkable to see how the glacier is shrinking over that past 20 years. The walking tour allows the visitor a change to see the size and grandeur of the glacier.', 'We drove through the ice fields. Well worth the drive. First time driving through the Ice Fields. One drawback, no wifi for miles. We did manage to cope though, lol.', 'We paid for the walking tour and it was well worth it. You can drive yourself to the ice field and view it from a reasonable distance, but the walking tour allows you to walk on the glacier and to experience it from a close up view. Our guide was excellent, and spent as much time as necessary making sure that we proceeded at a comfortable speed for everyone in the group. The group was about 16 people.\\nWalking on the glacier, you get to see close up some of the crevaces (and how deep they really are), the colour of the ice, the clarity and just how big the glacier really is. Parking is limited and tight at the icefield. There is a lot of parking across the highway at the visitors centre.\\nThe walk from where the tour meets in the parking lot to the actual glacier is a challenge. It is up a rock pathway for about 1/2 a kilometre, up a steep hill - not an easy walk for anyone limited in their walking abilities.\\nDefinitely glad that we took the time to do this one.', 'The glaciers are a sight to behold. The walkway is not for the faint of heart, although, they do have an option of staying away from the glass.', 'I had an excellent travel experience there. It was my first time walked on the Ice field. I booked a Glacier Adventure Tour via Brewster, the tour was great and so excited, but the actual time we stayed on ice was short... I will take the ice field walking tour if I have second change to visit.', 'We certainly did not expect to experience walking on a Glacier. It is something not to be missed. The extent and depth of the ice was incredible and going on the Ice Explorer was simply fantastic. The tour guide was very knowledgeable which made the experience even more attractive.', 'This is a must for anyone travelling between Jasper and Banff. The buses that take you there are terrific, with a good guide it makes it fun. Great ecperience.', 'This glacier is amazing in that it is receding but it is still accessible to the people who are keen to experience it in all its glory.', \"After an uncomfortable ride on VIA Rail from Vancouver to Jasper, we took our rented Jeep Grand Cherokee on the road from Jasper to Banff. And what a ride!Ê It is ranked as one of National Geographic's Top Ten Scenic Drives in the world. My husband commented that it looked like another planet to him. Because it is Canada's 150th anniversary this year (2017) entrance to the national parks was free. So when we picked up our park pass at the visitor's center in Jasper we got maps and recommendations on everyone's favorite spots to stop along the route.\\n\\nWe left Jasper before lunch and arrived in Banff at dinner time. My husband and I enjoy traveling and sight seeing by car so this was right up our alley. I highly recommend it.\\n\\nBecause of the crush of tour buses (hundreds) and the thousands (I am not exaggerating) of tourists at the Ice Field Center when we pulled in, we were unable to visit the look out nor could we take the tour of the glacier, for both of which we had passes. (Our travel company graciously refunded both of those fees.) But there were plenty of places to get a great picture. I, like many Canadians we spoke with, also felt uneasy about the invasion of the glacier so at least my conscience is clear. \\n\\nIf you can, do it. I would do it again.\", \"We decided not to go on the bus as was bit pricey and next one wasn't for 3 hours so drove over and walked up to rope. Very steep climb, had to stop and rest catch breath. Took in view and took some pics. Very nice.\", 'Incredible views,to think,its basically remained like this for centuries.It really leaves you speechless,the sheer size and thickness of it.Well worth the visit.', \"We were bound to have some rain on our trip, and unfortunately it was on the day we drove past the ice field. But even then it was evident how great this place is. We spent some time in the visitor's centre but decided against taking any tours. If I ever make it back, I would definitely go on a glacier tour!\", \"This visit left us in awe! It's nothing short of amazing that it is even possible to visit a glacier and be able to stand on it, collect some trickling water in your water bottle and drink it. Pretty darn amazing. Once again, Mother Nature leaves me speechless in her grandeur!\", \"Very scenic route. I've heard that you get to view wildlife along the route too. Due to the colder weather I think though there were not much. We saw mountain goats in an area marked on the tourist guide we collected at Information desk. There is no network access. So inform your friends and family you'll be unavailable by phone for most of the day. We didn't see the Glacier on this trip. However there's so much more to see it still took us a full day going from Canmore to Jasper. Keep watching out for lookout spots and don't forget to download web pages or reviews of interest prior to travelling because of patchy network reception.\", \"Peoples, please forget about taking some glacier ruining bus (unless, of course, you happen to have limited mobility) and take a hike on the Athabasca Glacier, which is the same one those large vehicles take you on. I used a tour company called Ice Walk and we hiked on it for almost six hours and what a GREAT experience. (Please don't hesitate to read my review on them). You get to see millwells (moulins), which are basically waterfalls into caves, of which our great guide Ian took one of our hands so we could lean over and look inside. We also saw crevasses, ice caves, streams and the upper part of the Athabasca glacier. The hiking was fairly easy, with the exception of jumping over a couple of streams. If you're a person that's getting a bit long in the tooth, like myself (almost 49) and are pretty fit, you can do it no problem. We had a 61 year old woman in our group who had no problem with the hike. I find it quite funny when the title of this attraction is Columbia Ice Field, where most of those that have written reviews refer to seeing it by getting off a bus. You only see part of the Athabasca Glacier. The Columbia Icefield is huuuge. It's the largest ice Field in the Rocky Mountains in North America, lying partly in the northwestern tip of Banff National Park and the southern end of Jasper National Park. It's about 325 square kilometers/125 square miles in area, with the depth between 100 meters/330 feet and 365 meters/1,200 feet deep. You can see pretty much the whole Icefield by taking the Parker Ridge Trail and the Wilcox Pass Trail across the street from the glacier. The trail heads start not far from the Icefields Discovery Center. If you're in good shape, you could do both in a day pretty easily. The nice thing about the last two options is they don't cost a penny to hike, just your energy. I plan on doing those two trails next time (planned on doing them this time, but the glacier walk was irresistible to me when I found out about it).ÊThanks for reading. If you feel this information helped you, it would be appreciated if you would tap the below. Thank you\", 'The Glacier Adventure that leaves from the Icefields Center is a great experience. A short bus ride takes you to an exchange point where you transfer to their Ice Explorer vehicles. These huge machines transport you over a glacial moraine and out onto a glacier, allowing you time to get out and walk on a glacier. Its cold, so take a warm cover-up. And it is slippery. But you do get a good idea about glacier make-up and how they shape the earth.', 'Going onto the glacier in bus with very large wheels is a good way to see a glacier without having to fly onto one', 'A girlfriend and I did the Columbia Ice Field tour with Brewsters Tours Canada, and so lucky we did, what a site to see, it is a definite must to do this, although we ran into a problem when our Glacier Ice Vehicle had a bit of bad luck as we were on our way back down the glacier the bus broke down and we got stuck on the ice for a couple of hours as they tried to fix the problem but hey in the end we just transferred to another vehicle for our descent back down it was all good though it is a must see.', \"This is the third time I've been out on the glacier and it never fails to wow and educate me. I feel it's a 'must do' if in the area. Our guides were excellent as always, friendly, informative and they really try hard to make the trip memorable for you.ÊThis time we also went on the Sky Walk and I was somewhat underwhelmed by this, next time (because there will be a 'next time') I will just stick to the glacier. \\nIt's certainly not cheap, and it can get super busy, so pick your time carefully, but I still feel it's worth it. And if it causes just some of the people who visit to think more about their climate change footprint, then it's worth it's weight in gold (or trees which will end up being more valuable).\", \"We went on a Brewster - Pursuit group outing from Jasper to the Columbia Ice Fields. This was during the Jasper Dark Sky Festival. \\nIt was amazing all the way through.\\nOur Guide was excellent - providing us with lots of information and history of the area, As part of this event we had cocktails and hors d'oeuvres (some of which were even Gluten Free) , then we went out on the Ice Field in the Crawler and then got out to walk on this amazing piece of Nature - absolutely spectacular. Then we returned to the Ice Field Centre were there was a beautiful and delicious buffet dinner, followed by a presentation conducted by an Astronomer. After this we went out to the Glass Sky Walk - where it was pitch black - to see the night's sky - when the clouds moved out of the way it was breathtaking - so beautiful. There were Telescopes setup. binoculars available to use amazing staff/guides and there was also a warming station, with hot chocolate, coffee and cookies.\\nThen on our drive back into Jasper we could see the Northern Lights - something that I have always wanted to see.\\nThis trip to the Ice Fields was an event that I signed up to do during the Dark Sky Festival, so these little extras will not be available any other time.\\nI would recommend a visit to the Columbia Ice Fields even if it is not during the Dark Sky Festival.\", 'Fabulous trip with Brewsters tours our driver Al gave us so much information before we set off on the ice bus. I was really impressed by our driver of the ice bus who explained all aspects so well, she was so competant in handling such a large vehcle whilst answering questions from the passengers and most importantly she had a wonderful sense of humour. This is a must visit place and experience walking on the icefield.', 'Fab visit to a beautiful glacier. Truck staff are very informative and interesting. Quite disorganised on arrival as no signage on where you have to check in but once you get booked in the tour is excellent and efficient.', 'Amazing experience to be right on the glacier and learn about the glacier fields. Go now because by the time your grandchildren want to go, there will be no glaciers due to globalÊ', 'We drove up to the base, parked, skipped the visitor center and the lines, and walked up to the toe of the glacier. If you take the bus it drives up by a more circuitous route and deposits you in the middle of the glacier. We found the walk easy. The ground was a bit uneven but it was not a problem to get very close to the toe where we could see up the entire glacier. As any geologist can tell you, the underside of a glacier is a messy place with piles of glacial till forming a terminal moraine. It was possible to see the gouges the glacier made in the base rock. Overall a nice walking side trip while travelling in the ice field parkway.', 'This excursion was included as part of our Rocky Mountaineer vacation and was amazing. Yes, the visitor centre was a bit of a tourist trap, but it was modern and clean and there was a Parks Canada kiosk with multilingual attendants answering questions about Jasper National Park. There was a bit of a wait to get on the glacier climber, but it was a neat buggy! Our driver Nick was very knowledgeable about the glaciers and the icefield (there is a difference) and he told some stories and answered questions. The actual time on the icefield is limited and controlled, for which I am glad. The ice is retreating at quite a rate so it was a once in a lifetime experience for us.']\n"
     ]
    }
   ],
   "source": [
    "print(data_list2)"
   ]
  },
  {
   "cell_type": "code",
   "execution_count": 5,
   "metadata": {
    "collapsed": true
   },
   "outputs": [],
   "source": [
    "from nltk.tokenize import RegexpTokenizer\n",
    "tokenizer = RegexpTokenizer(r'\\w+')"
   ]
  },
  {
   "cell_type": "code",
   "execution_count": 6,
   "metadata": {},
   "outputs": [
    {
     "name": "stdout",
     "output_type": "stream",
     "text": [
      "['it', 'was', 'thrilling', 'to', 'take', 'the', 'bus', 'onto', 'the', 'glacier', 'and', 'walk', 'around', 'it', 'we', 'parked', 'our', 'rv', 'in', 'the', 'parking', 'lot', 'facing', 'the', 'glacier', 'after', 'the', 'excursion', 'it', 'is', 'hard', 'to', 'describe', 'how', 'beautiful', 'the', 'scenery', 'is', 'a', 'must', 'see', 'not', 'far', 'from', 'the', 'glacier', 'is', 'the', 'glass', 'sidewalk', 'over', 'the', 'canyon', 'a', 'real', 'mind', 'blower', 'the', 'rocky', 'mountains', 'truly', 'rejuvenate', 'the', 'soul']\n"
     ]
    }
   ],
   "source": [
    "raw = data_list2[0].lower()\n",
    "tokens = tokenizer.tokenize(raw)\n",
    "\n",
    "print(tokens)"
   ]
  },
  {
   "cell_type": "code",
   "execution_count": 7,
   "metadata": {
    "collapsed": true
   },
   "outputs": [],
   "source": [
    "from stop_words import get_stop_words\n",
    "\n",
    "# create English stop words list\n",
    "en_stop = get_stop_words('en')"
   ]
  },
  {
   "cell_type": "code",
   "execution_count": 8,
   "metadata": {},
   "outputs": [
    {
     "name": "stdout",
     "output_type": "stream",
     "text": [
      "['thrilling', 'take', 'bus', 'onto', 'glacier', 'walk', 'around', 'parked', 'rv', 'parking', 'lot', 'facing', 'glacier', 'excursion', 'hard', 'describe', 'beautiful', 'scenery', 'must', 'see', 'far', 'glacier', 'glass', 'sidewalk', 'canyon', 'real', 'mind', 'blower', 'rocky', 'mountains', 'truly', 'rejuvenate', 'soul']\n"
     ]
    }
   ],
   "source": [
    "stopped_tokens = [i for i in tokens if not i in en_stop]\n",
    "\n",
    "print(stopped_tokens)"
   ]
  },
  {
   "cell_type": "code",
   "execution_count": 9,
   "metadata": {
    "collapsed": true
   },
   "outputs": [],
   "source": [
    "from nltk.stem.porter import PorterStemmer\n",
    "\n",
    "# Create p_stemmer of class PorterStemmer\n",
    "p_stemmer = PorterStemmer()"
   ]
  },
  {
   "cell_type": "code",
   "execution_count": 10,
   "metadata": {
    "collapsed": true
   },
   "outputs": [],
   "source": [
    "# stem token\n",
    "texts = [p_stemmer.stem(i) for i in stopped_tokens]"
   ]
  },
  {
   "cell_type": "code",
   "execution_count": 11,
   "metadata": {},
   "outputs": [
    {
     "name": "stdout",
     "output_type": "stream",
     "text": [
      "['thrill', 'take', 'bu', 'onto', 'glacier', 'walk', 'around', 'park', 'rv', 'park', 'lot', 'face', 'glacier', 'excurs', 'hard', 'describ', 'beauti', 'sceneri', 'must', 'see', 'far', 'glacier', 'glass', 'sidewalk', 'canyon', 'real', 'mind', 'blower', 'rocki', 'mountain', 'truli', 'rejuven', 'soul']\n"
     ]
    }
   ],
   "source": [
    "print(texts)"
   ]
  },
  {
   "cell_type": "code",
   "execution_count": 12,
   "metadata": {},
   "outputs": [
    {
     "ename": "TypeError",
     "evalue": "doc2bow expects an array of unicode tokens on input, not a single string",
     "output_type": "error",
     "traceback": [
      "\u001b[1;31m---------------------------------------------------------------------------\u001b[0m",
      "\u001b[1;31mTypeError\u001b[0m                                 Traceback (most recent call last)",
      "\u001b[1;32m<ipython-input-12-2aa340afe69c>\u001b[0m in \u001b[0;36m<module>\u001b[1;34m()\u001b[0m\n\u001b[0;32m      1\u001b[0m \u001b[1;32mfrom\u001b[0m \u001b[0mgensim\u001b[0m \u001b[1;32mimport\u001b[0m \u001b[0mcorpora\u001b[0m\u001b[1;33m,\u001b[0m \u001b[0mmodels\u001b[0m\u001b[1;33m\u001b[0m\u001b[0m\n\u001b[1;32m----> 2\u001b[1;33m \u001b[0mdictionary\u001b[0m \u001b[1;33m=\u001b[0m \u001b[0mcorpora\u001b[0m\u001b[1;33m.\u001b[0m\u001b[0mDictionary\u001b[0m\u001b[1;33m(\u001b[0m\u001b[0mtexts\u001b[0m\u001b[1;33m)\u001b[0m\u001b[1;33m\u001b[0m\u001b[0m\n\u001b[0m",
      "\u001b[1;32m~\\Anaconda3\\lib\\site-packages\\gensim\\corpora\\dictionary.py\u001b[0m in \u001b[0;36m__init__\u001b[1;34m(self, documents, prune_at)\u001b[0m\n\u001b[0;32m     56\u001b[0m \u001b[1;33m\u001b[0m\u001b[0m\n\u001b[0;32m     57\u001b[0m         \u001b[1;32mif\u001b[0m \u001b[0mdocuments\u001b[0m \u001b[1;32mis\u001b[0m \u001b[1;32mnot\u001b[0m \u001b[1;32mNone\u001b[0m\u001b[1;33m:\u001b[0m\u001b[1;33m\u001b[0m\u001b[0m\n\u001b[1;32m---> 58\u001b[1;33m             \u001b[0mself\u001b[0m\u001b[1;33m.\u001b[0m\u001b[0madd_documents\u001b[0m\u001b[1;33m(\u001b[0m\u001b[0mdocuments\u001b[0m\u001b[1;33m,\u001b[0m \u001b[0mprune_at\u001b[0m\u001b[1;33m=\u001b[0m\u001b[0mprune_at\u001b[0m\u001b[1;33m)\u001b[0m\u001b[1;33m\u001b[0m\u001b[0m\n\u001b[0m\u001b[0;32m     59\u001b[0m \u001b[1;33m\u001b[0m\u001b[0m\n\u001b[0;32m     60\u001b[0m     \u001b[1;32mdef\u001b[0m \u001b[0m__getitem__\u001b[0m\u001b[1;33m(\u001b[0m\u001b[0mself\u001b[0m\u001b[1;33m,\u001b[0m \u001b[0mtokenid\u001b[0m\u001b[1;33m)\u001b[0m\u001b[1;33m:\u001b[0m\u001b[1;33m\u001b[0m\u001b[0m\n",
      "\u001b[1;32m~\\Anaconda3\\lib\\site-packages\\gensim\\corpora\\dictionary.py\u001b[0m in \u001b[0;36madd_documents\u001b[1;34m(self, documents, prune_at)\u001b[0m\n\u001b[0;32m    117\u001b[0m \u001b[1;33m\u001b[0m\u001b[0m\n\u001b[0;32m    118\u001b[0m             \u001b[1;31m# update Dictionary with the document\u001b[0m\u001b[1;33m\u001b[0m\u001b[1;33m\u001b[0m\u001b[0m\n\u001b[1;32m--> 119\u001b[1;33m             \u001b[0mself\u001b[0m\u001b[1;33m.\u001b[0m\u001b[0mdoc2bow\u001b[0m\u001b[1;33m(\u001b[0m\u001b[0mdocument\u001b[0m\u001b[1;33m,\u001b[0m \u001b[0mallow_update\u001b[0m\u001b[1;33m=\u001b[0m\u001b[1;32mTrue\u001b[0m\u001b[1;33m)\u001b[0m  \u001b[1;31m# ignore the result, here we only care about updating token ids\u001b[0m\u001b[1;33m\u001b[0m\u001b[0m\n\u001b[0m\u001b[0;32m    120\u001b[0m \u001b[1;33m\u001b[0m\u001b[0m\n\u001b[0;32m    121\u001b[0m         logger.info(\n",
      "\u001b[1;32m~\\Anaconda3\\lib\\site-packages\\gensim\\corpora\\dictionary.py\u001b[0m in \u001b[0;36mdoc2bow\u001b[1;34m(self, document, allow_update, return_missing)\u001b[0m\n\u001b[0;32m    140\u001b[0m         \"\"\"\n\u001b[0;32m    141\u001b[0m         \u001b[1;32mif\u001b[0m \u001b[0misinstance\u001b[0m\u001b[1;33m(\u001b[0m\u001b[0mdocument\u001b[0m\u001b[1;33m,\u001b[0m \u001b[0mstring_types\u001b[0m\u001b[1;33m)\u001b[0m\u001b[1;33m:\u001b[0m\u001b[1;33m\u001b[0m\u001b[0m\n\u001b[1;32m--> 142\u001b[1;33m             \u001b[1;32mraise\u001b[0m \u001b[0mTypeError\u001b[0m\u001b[1;33m(\u001b[0m\u001b[1;34m\"doc2bow expects an array of unicode tokens on input, not a single string\"\u001b[0m\u001b[1;33m)\u001b[0m\u001b[1;33m\u001b[0m\u001b[0m\n\u001b[0m\u001b[0;32m    143\u001b[0m \u001b[1;33m\u001b[0m\u001b[0m\n\u001b[0;32m    144\u001b[0m         \u001b[1;31m# Construct (word, frequency) mapping.\u001b[0m\u001b[1;33m\u001b[0m\u001b[1;33m\u001b[0m\u001b[0m\n",
      "\u001b[1;31mTypeError\u001b[0m: doc2bow expects an array of unicode tokens on input, not a single string"
     ]
    }
   ],
   "source": [
    "from gensim import corpora, models\n",
    "dictionary = corpora.Dictionary(texts)"
   ]
  },
  {
   "cell_type": "code",
   "execution_count": 13,
   "metadata": {},
   "outputs": [
    {
     "ename": "NameError",
     "evalue": "name 'dictionary' is not defined",
     "output_type": "error",
     "traceback": [
      "\u001b[1;31m---------------------------------------------------------------------------\u001b[0m",
      "\u001b[1;31mNameError\u001b[0m                                 Traceback (most recent call last)",
      "\u001b[1;32m<ipython-input-13-3e0e0df2c3b7>\u001b[0m in \u001b[0;36m<module>\u001b[1;34m()\u001b[0m\n\u001b[1;32m----> 1\u001b[1;33m \u001b[0mcorpus\u001b[0m \u001b[1;33m=\u001b[0m \u001b[1;33m[\u001b[0m\u001b[0mdictionary\u001b[0m\u001b[1;33m.\u001b[0m\u001b[0mdoc2bow\u001b[0m\u001b[1;33m(\u001b[0m\u001b[0mtext\u001b[0m\u001b[1;33m)\u001b[0m \u001b[1;32mfor\u001b[0m \u001b[0mtext\u001b[0m \u001b[1;32min\u001b[0m \u001b[0mtexts\u001b[0m\u001b[1;33m]\u001b[0m\u001b[1;33m\u001b[0m\u001b[0m\n\u001b[0m",
      "\u001b[1;32m<ipython-input-13-3e0e0df2c3b7>\u001b[0m in \u001b[0;36m<listcomp>\u001b[1;34m(.0)\u001b[0m\n\u001b[1;32m----> 1\u001b[1;33m \u001b[0mcorpus\u001b[0m \u001b[1;33m=\u001b[0m \u001b[1;33m[\u001b[0m\u001b[0mdictionary\u001b[0m\u001b[1;33m.\u001b[0m\u001b[0mdoc2bow\u001b[0m\u001b[1;33m(\u001b[0m\u001b[0mtext\u001b[0m\u001b[1;33m)\u001b[0m \u001b[1;32mfor\u001b[0m \u001b[0mtext\u001b[0m \u001b[1;32min\u001b[0m \u001b[0mtexts\u001b[0m\u001b[1;33m]\u001b[0m\u001b[1;33m\u001b[0m\u001b[0m\n\u001b[0m",
      "\u001b[1;31mNameError\u001b[0m: name 'dictionary' is not defined"
     ]
    }
   ],
   "source": [
    "corpus = [dictionary.doc2bow(text) for text in texts]"
   ]
  },
  {
   "cell_type": "code",
   "execution_count": 14,
   "metadata": {},
   "outputs": [
    {
     "name": "stdout",
     "output_type": "stream",
     "text": [
      "['a', 'about', 'above', 'after', 'again', 'against', 'all', 'am', 'an', 'and', 'any', 'are', \"aren't\", 'as', 'at', 'be', 'because', 'been', 'before', 'being', 'below', 'between', 'both', 'but', 'by', \"can't\", 'cannot', 'could', \"couldn't\", 'did', \"didn't\", 'do', 'does', \"doesn't\", 'doing', \"don't\", 'down', 'during', 'each', 'few', 'for', 'from', 'further', 'had', \"hadn't\", 'has', \"hasn't\", 'have', \"haven't\", 'having', 'he', \"he'd\", \"he'll\", \"he's\", 'her', 'here', \"here's\", 'hers', 'herself', 'him', 'himself', 'his', 'how', \"how's\", 'i', \"i'd\", \"i'll\", \"i'm\", \"i've\", 'if', 'in', 'into', 'is', \"isn't\", 'it', \"it's\", 'its', 'itself', \"let's\", 'me', 'more', 'most', \"mustn't\", 'my', 'myself', 'no', 'nor', 'not', 'of', 'off', 'on', 'once', 'only', 'or', 'other', 'ought', 'our', 'ours', 'ourselves', 'out', 'over', 'own', 'same', \"shan't\", 'she', \"she'd\", \"she'll\", \"she's\", 'should', \"shouldn't\", 'so', 'some', 'such', 'than', 'that', \"that's\", 'the', 'their', 'theirs', 'them', 'themselves', 'then', 'there', \"there's\", 'these', 'they', \"they'd\", \"they'll\", \"they're\", \"they've\", 'this', 'those', 'through', 'to', 'too', 'under', 'until', 'up', 'very', 'was', \"wasn't\", 'we', \"we'd\", \"we'll\", \"we're\", \"we've\", 'were', \"weren't\", 'what', \"what's\", 'when', \"when's\", 'where', \"where's\", 'which', 'while', 'who', \"who's\", 'whom', 'why', \"why's\", 'with', \"won't\", 'would', \"wouldn't\", 'you', \"you'd\", \"you'll\", \"you're\", \"you've\", 'your', 'yours', 'yourself', 'yourselves']\n"
     ]
    }
   ],
   "source": [
    "print(en_stop)"
   ]
  },
  {
   "cell_type": "code",
   "execution_count": 15,
   "metadata": {
    "collapsed": true
   },
   "outputs": [],
   "source": [
    "import nltk\n",
    "from nltk.stem.porter import PorterStemmer\n",
    "\n",
    "# Create p_stemmer of class PorterStemmer\n",
    "p_stemmer = PorterStemmer()"
   ]
  },
  {
   "cell_type": "code",
   "execution_count": 16,
   "metadata": {
    "collapsed": true
   },
   "outputs": [],
   "source": [
    "from gensim import corpora, models\n",
    "\n",
    "dictionary = corpora.Dictionary()"
   ]
  },
  {
   "cell_type": "markdown",
   "metadata": {},
   "source": [
    "#Now we are doing all of these steps for the whole available text (data_list2 here):"
   ]
  },
  {
   "cell_type": "code",
   "execution_count": 17,
   "metadata": {
    "collapsed": true
   },
   "outputs": [],
   "source": [
    "texts = []\n",
    "\n",
    "# loop through document list\n",
    "for i in data_list2:\n",
    "    \n",
    "    # clean and tokenize document string\n",
    "    raw = i.lower()\n",
    "    tokens = tokenizer.tokenize(raw)\n",
    "\n",
    "    # remove stop words from tokens\n",
    "    stopped_tokens = [i for i in tokens if not i in en_stop]\n",
    "    \n",
    "    # stem tokens\n",
    "    stemmed_tokens = [p_stemmer.stem(i) for i in stopped_tokens]\n",
    "    \n",
    "    # add tokens to list\n",
    "    texts.append(stemmed_tokens)\n",
    "\n",
    "# turn our tokenized documents into a id <-> term dictionary\n",
    "dictionary = corpora.Dictionary(texts)\n",
    "    \n",
    "# convert tokenized documents into a document-term matrix\n",
    "corpus = [dictionary.doc2bow(text) for text in texts]\n",
    "\n",
    "# generate LDA model\n",
    "ldamodel = gensim.models.ldamodel.LdaModel(corpus, num_topics=10, id2word = dictionary, passes=20)"
   ]
  },
  {
   "cell_type": "code",
   "execution_count": 18,
   "metadata": {},
   "outputs": [
    {
     "name": "stdout",
     "output_type": "stream",
     "text": [
      "[(0, '0.064*\"glacier\" + 0.023*\"park\" + 0.023*\"walk\" + 0.020*\"take\" + 0.020*\"see\" + 0.012*\"get\" + 0.009*\"ice\" + 0.009*\"quit\" + 0.009*\"great\" + 0.009*\"centr\"'), (1, '0.018*\"glacier\" + 0.018*\"jasper\" + 0.018*\"s\" + 0.011*\"ice\" + 0.011*\"tour\" + 0.011*\"see\" + 0.011*\"travel\" + 0.011*\"rout\" + 0.007*\"park\" + 0.007*\"experi\"'), (2, '0.002*\"around\" + 0.002*\"still\" + 0.002*\"t\" + 0.002*\"don\" + 0.002*\"day\" + 0.002*\"ice\" + 0.002*\"due\" + 0.002*\"glacier\" + 0.002*\"inform\" + 0.002*\"area\"'), (3, '0.043*\"glacier\" + 0.027*\"amaz\" + 0.016*\"experi\" + 0.016*\"visit\" + 0.011*\"go\" + 0.011*\"time\" + 0.011*\"get\" + 0.011*\"quit\" + 0.011*\"us\" + 0.011*\"water\"'), (4, '0.026*\"ice\" + 0.014*\"way\" + 0.014*\"glacier\" + 0.014*\"onto\" + 0.014*\"take\" + 0.014*\"experi\" + 0.014*\"trip\" + 0.014*\"fantast\" + 0.014*\"describ\" + 0.014*\"travel\"'), (5, '0.028*\"glacier\" + 0.020*\"see\" + 0.020*\"ice\" + 0.014*\"bu\" + 0.014*\"hike\" + 0.011*\"one\" + 0.011*\"problem\" + 0.011*\"trail\" + 0.011*\"take\" + 0.009*\"walk\"'), (6, '0.047*\"ice\" + 0.027*\"field\" + 0.027*\"tour\" + 0.020*\"time\" + 0.020*\"walk\" + 0.014*\"drive\" + 0.014*\"first\" + 0.014*\"experi\" + 0.014*\"bu\" + 0.014*\"brewster\"'), (7, '0.031*\"walk\" + 0.031*\"time\" + 0.024*\"glacier\" + 0.017*\"s\" + 0.017*\"worth\" + 0.014*\"ice\" + 0.014*\"visit\" + 0.014*\"realli\" + 0.014*\"tour\" + 0.011*\"still\"'), (8, '0.015*\"ice\" + 0.015*\"field\" + 0.015*\"nice\" + 0.015*\"thing\" + 0.015*\"reason\" + 0.015*\"expens\" + 0.015*\"server\" + 0.015*\"pleasant\" + 0.015*\"servic\" + 0.015*\"price\"'), (9, '0.028*\"sky\" + 0.028*\"field\" + 0.028*\"ice\" + 0.017*\"jasper\" + 0.017*\"see\" + 0.017*\"went\" + 0.017*\"festiv\" + 0.017*\"amaz\" + 0.017*\"dark\" + 0.012*\"columbia\"')]\n"
     ]
    }
   ],
   "source": [
    "print(ldamodel.print_topics(num_topics=10, num_words=10))"
   ]
  },
  {
   "cell_type": "code",
   "execution_count": 39,
   "metadata": {},
   "outputs": [
    {
     "name": "stdout",
     "output_type": "stream",
     "text": [
      "LdaModel(num_terms=629, num_topics=5, decay=0.5, chunksize=2000)\n"
     ]
    },
    {
     "data": {
      "text/plain": [
       "gensim.models.ldamodel.LdaModel"
      ]
     },
     "execution_count": 39,
     "metadata": {},
     "output_type": "execute_result"
    }
   ],
   "source": [
    "print(ldamodel)\n",
    "\n",
    "\n",
    "type(ldamodel)"
   ]
  },
  {
   "cell_type": "code",
   "execution_count": 41,
   "metadata": {},
   "outputs": [
    {
     "name": "stdout",
     "output_type": "stream",
     "text": [
      "Dictionary(629 unique tokens: ['thrill', 'take', 'bu', 'onto', 'glacier']...)\n"
     ]
    },
    {
     "data": {
      "text/plain": [
       "gensim.corpora.dictionary.Dictionary"
      ]
     },
     "execution_count": 41,
     "metadata": {},
     "output_type": "execute_result"
    }
   ],
   "source": [
    "print(dictionary)\n",
    "\n",
    "type(dictionary)"
   ]
  },
  {
   "cell_type": "code",
   "execution_count": 44,
   "metadata": {},
   "outputs": [
    {
     "data": {
      "text/plain": [
       "list"
      ]
     },
     "execution_count": 44,
     "metadata": {},
     "output_type": "execute_result"
    }
   ],
   "source": [
    "type(corpus)"
   ]
  },
  {
   "cell_type": "code",
   "execution_count": 45,
   "metadata": {},
   "outputs": [
    {
     "data": {
      "text/plain": [
       "30"
      ]
     },
     "execution_count": 45,
     "metadata": {},
     "output_type": "execute_result"
    }
   ],
   "source": [
    "len (corpus)"
   ]
  },
  {
   "cell_type": "code",
   "execution_count": 46,
   "metadata": {},
   "outputs": [
    {
     "name": "stdout",
     "output_type": "stream",
     "text": [
      "[[(0, 1), (1, 1), (2, 1), (3, 1), (4, 3), (5, 1), (6, 1), (7, 2), (8, 1), (9, 1), (10, 1), (11, 1), (12, 1), (13, 1), (14, 1), (15, 1), (16, 1), (17, 1), (18, 1), (19, 1), (20, 1), (21, 1), (22, 1), (23, 1), (24, 1), (25, 1), (26, 1), (27, 1), (28, 1), (29, 1)], [(1, 1), (4, 7), (5, 2), (7, 5), (12, 1), (17, 2), (30, 3), (31, 1), (32, 2), (33, 1), (34, 2), (35, 1), (36, 3), (37, 1), (38, 1), (39, 1), (40, 1), (41, 1), (42, 1), (43, 1), (44, 1), (45, 1), (46, 1), (47, 1), (48, 1), (49, 1), (50, 1), (51, 1), (52, 1), (53, 1), (54, 1), (55, 1), (56, 2), (57, 1), (58, 1), (59, 1), (60, 1), (61, 1), (62, 1), (63, 2), (64, 1), (65, 1), (66, 1), (67, 1), (68, 1), (69, 1), (70, 1), (71, 2), (72, 1), (73, 1), (74, 1), (75, 1), (76, 1), (77, 1), (78, 1), (79, 1), (80, 1), (81, 1), (82, 1), (83, 1), (84, 1), (85, 1), (86, 1), (87, 1), (88, 1), (89, 1)], [(4, 1), (5, 1), (6, 2), (12, 1), (18, 1), (56, 1), (67, 1), (69, 1), (83, 1), (90, 2), (91, 2), (92, 1), (93, 1), (94, 1), (95, 1), (96, 1), (97, 1), (98, 1), (99, 1), (100, 1), (101, 1), (102, 1), (103, 1), (104, 2), (105, 1), (106, 2), (107, 1), (108, 1), (109, 1), (110, 1), (111, 1), (112, 1), (113, 1), (114, 1), (115, 1), (116, 1), (117, 1), (118, 1), (119, 1), (120, 1), (121, 1), (122, 1), (123, 1), (124, 1), (125, 1), (126, 1), (127, 1), (128, 1), (129, 1), (130, 1), (131, 1)], [(71, 1), (91, 1), (92, 1), (124, 1), (132, 1), (133, 1), (134, 1), (135, 1), (136, 1), (137, 1)], [(1, 1), (3, 1), (4, 1), (13, 1), (57, 1), (91, 2), (92, 1), (108, 1), (138, 1), (139, 1), (140, 1), (141, 1), (142, 1), (143, 1), (144, 1), (145, 1)], [(4, 2), (5, 1), (17, 2), (45, 1), (62, 1), (66, 1), (100, 1), (110, 1), (129, 1), (146, 1), (147, 1), (148, 1), (149, 1), (150, 1), (151, 1), (152, 1), (153, 1), (154, 1), (155, 1), (156, 1)], [(38, 1), (91, 2), (92, 2), (104, 1), (110, 2), (131, 1), (138, 1), (157, 1), (158, 1), (159, 1), (160, 1), (161, 1), (162, 1), (163, 1), (164, 1), (165, 1)], [(4, 4), (5, 7), (7, 3), (9, 2), (17, 1), (34, 1), (35, 1), (43, 1), (50, 1), (56, 1), (63, 1), (71, 1), (72, 1), (82, 1), (91, 2), (92, 1), (97, 1), (100, 3), (104, 2), (108, 1), (110, 1), (112, 1), (114, 1), (130, 1), (131, 1), (147, 1), (148, 1), (153, 1), (154, 1), (158, 1), (159, 1), (166, 1), (167, 2), (168, 2), (169, 1), (170, 1), (171, 1), (172, 1), (173, 1), (174, 1), (175, 1), (176, 1), (177, 1), (178, 2), (179, 1), (180, 1), (181, 1), (182, 2), (183, 1), (184, 1), (185, 1), (186, 1), (187, 2), (188, 1), (189, 1), (190, 1), (191, 1), (192, 1), (193, 1), (194, 1), (195, 1), (196, 1), (197, 1), (198, 1), (199, 1), (200, 1)], [(4, 1), (19, 1), (201, 1), (202, 1), (203, 1), (204, 1), (205, 1), (206, 1), (207, 1), (208, 1), (209, 1)], [(1, 1), (4, 1), (5, 2), (66, 1), (90, 1), (91, 3), (92, 2), (100, 3), (104, 2), (108, 1), (112, 1), (138, 1), (141, 1), (170, 1), (208, 1), (210, 1), (211, 1), (212, 1), (213, 1), (214, 1), (215, 1), (216, 1), (217, 1), (218, 1)], [(4, 1), (5, 1), (80, 1), (91, 2), (100, 1), (108, 2), (121, 1), (145, 1), (169, 1), (219, 1), (220, 1), (221, 1), (222, 1), (223, 1), (224, 1), (225, 1), (226, 1), (227, 1), (228, 1), (229, 1), (230, 1)], [(1, 1), (16, 1), (130, 1), (141, 1), (169, 1), (197, 1), (214, 1), (231, 1), (232, 1), (233, 1), (234, 1), (235, 1), (236, 1), (237, 1)], [(4, 1), (63, 1), (73, 1), (106, 1), (108, 1), (238, 1), (239, 1), (240, 1), (241, 1)], [(1, 1), (4, 2), (7, 2), (17, 1), (30, 1), (32, 1), (35, 1), (40, 1), (47, 1), (50, 1), (51, 1), (90, 1), (91, 1), (92, 1), (100, 2), (104, 1), (110, 1), (123, 2), (129, 1), (141, 2), (154, 1), (159, 1), (177, 1), (200, 1), (201, 1), (212, 1), (214, 1), (231, 4), (232, 2), (233, 1), (242, 1), (243, 2), (244, 1), (245, 1), (246, 1), (247, 1), (248, 1), (249, 1), (250, 1), (251, 1), (252, 2), (253, 1), (254, 4), (255, 1), (256, 1), (257, 1), (258, 1), (259, 2), (260, 1), (261, 2), (262, 1), (263, 1), (264, 1), (265, 1), (266, 1), (267, 1), (268, 1), (269, 1), (270, 1), (271, 2), (272, 2), (273, 1), (274, 1), (275, 2), (276, 1), (277, 1), (278, 1), (279, 1), (280, 1), (281, 1), (282, 1), (283, 1), (284, 1), (285, 1), (286, 1), (287, 1), (288, 1), (289, 1), (290, 1), (291, 1), (292, 1), (293, 1), (294, 1), (295, 1), (296, 1), (297, 1), (298, 1), (299, 1), (300, 1), (301, 1), (302, 1), (303, 1), (304, 1), (305, 1), (306, 1), (307, 1), (308, 1), (309, 1)], [(2, 1), (5, 1), (43, 1), (52, 1), (102, 1), (124, 1), (149, 1), (157, 1), (159, 1), (167, 1), (200, 2), (225, 1), (277, 1), (310, 1), (311, 1), (312, 1), (313, 1), (314, 1), (315, 1), (316, 1), (317, 1), (318, 1), (319, 1), (320, 1)], [(90, 1), (131, 1), (155, 1), (158, 1), (167, 1), (182, 1), (224, 1), (261, 1), (321, 1), (322, 1), (323, 1), (324, 1), (325, 1), (326, 1), (327, 1), (328, 1)], [(1, 1), (4, 1), (34, 1), (62, 1), (72, 1), (84, 1), (91, 1), (92, 1), (97, 1), (100, 2), (104, 1), (121, 1), (130, 1), (139, 1), (154, 1), (157, 1), (214, 1), (225, 1), (254, 1), (300, 1), (310, 1), (329, 1), (330, 1), (331, 1), (332, 1), (333, 1), (334, 1)], [(4, 1), (69, 1), (90, 2), (121, 1), (156, 1), (216, 1), (238, 2), (254, 1), (280, 1), (325, 1), (326, 1), (335, 1), (336, 1), (337, 1), (338, 1), (339, 1), (340, 1), (341, 1), (342, 1), (343, 2), (344, 1), (345, 1), (346, 1), (347, 1), (348, 1)], [(4, 1), (17, 2), (26, 1), (35, 1), (37, 1), (40, 1), (75, 1), (84, 2), (86, 1), (101, 1), (102, 2), (106, 1), (111, 1), (117, 1), (139, 1), (141, 1), (164, 1), (167, 1), (169, 1), (171, 2), (200, 1), (225, 1), (231, 1), (239, 1), (254, 1), (257, 1), (278, 1), (279, 2), (292, 1), (321, 1), (335, 1), (341, 1), (349, 1), (350, 1), (351, 1), (352, 1), (353, 1), (354, 1), (355, 1), (356, 2), (357, 1), (358, 2), (359, 1), (360, 1), (361, 1), (362, 1), (363, 1), (364, 1), (365, 1), (366, 1), (367, 1), (368, 1), (369, 1), (370, 1), (371, 1), (372, 1), (373, 1), (374, 1), (375, 1), (376, 1), (377, 1)], [(1, 4), (2, 2), (4, 6), (5, 2), (7, 2), (17, 4), (18, 1), (25, 1), (26, 1), (35, 3), (36, 1), (49, 1), (50, 2), (51, 1), (52, 1), (63, 1), (74, 1), (82, 1), (84, 1), (91, 4), (92, 2), (100, 1), (101, 2), (102, 2), (104, 2), (108, 1), (109, 1), (111, 1), (123, 1), (124, 1), (129, 1), (133, 1), (146, 2), (147, 3), (149, 1), (159, 2), (162, 1), (169, 1), (171, 1), (178, 1), (181, 1), (185, 1), (187, 1), (193, 1), (196, 1), (200, 1), (207, 1), (214, 2), (223, 1), (230, 1), (231, 1), (232, 1), (235, 1), (252, 2), (254, 3), (261, 1), (271, 1), (272, 1), (295, 1), (312, 1), (322, 1), (346, 3), (353, 1), (356, 1), (370, 1), (374, 2), (378, 2), (379, 1), (380, 1), (381, 1), (382, 1), (383, 1), (384, 5), (385, 3), (386, 1), (387, 1), (388, 1), (389, 1), (390, 2), (391, 1), (392, 1), (393, 2), (394, 1), (395, 1), (396, 1), (397, 2), (398, 1), (399, 1), (400, 1), (401, 1), (402, 1), (403, 2), (404, 1), (405, 2), (406, 1), (407, 1), (408, 1), (409, 1), (410, 2), (411, 1), (412, 1), (413, 1), (414, 1), (415, 1), (416, 2), (417, 1), (418, 1), (419, 1), (420, 1), (421, 1), (422, 1), (423, 1), (424, 1), (425, 1), (426, 1), (427, 1), (428, 1), (429, 1), (430, 1), (431, 1), (432, 1), (433, 1), (434, 1), (435, 1), (436, 2), (437, 1), (438, 1), (439, 1), (440, 2), (441, 1), (442, 2), (443, 1), (444, 1), (445, 1), (446, 1), (447, 1), (448, 4), (449, 1), (450, 1), (451, 1), (452, 1), (453, 1), (454, 1), (455, 1), (456, 2), (457, 1), (458, 1), (459, 1), (460, 2), (461, 1), (462, 1), (463, 1), (464, 1), (465, 1), (466, 1)], [(1, 2), (2, 1), (3, 1), (4, 4), (5, 1), (35, 2), (53, 1), (83, 1), (91, 1), (104, 1), (108, 1), (130, 1), (142, 1), (147, 1), (153, 1), (211, 1), (214, 1), (216, 1), (226, 1), (235, 1), (243, 1), (272, 1), (325, 1), (387, 1), (453, 1), (467, 1), (468, 1), (469, 1), (470, 1), (471, 1), (472, 1), (473, 1), (474, 1), (475, 1), (476, 1), (477, 1)], [(2, 1), (3, 2), (4, 2), (17, 1), (57, 1), (159, 1), (225, 1), (235, 1), (386, 1), (478, 1), (479, 1), (480, 1)], [(2, 1), (4, 2), (16, 2), (17, 2), (52, 1), (57, 1), (72, 1), (91, 3), (92, 1), (100, 2), (146, 1), (149, 1), (164, 1), (185, 1), (206, 1), (213, 1), (235, 1), (262, 1), (264, 1), (273, 1), (334, 2), (387, 2), (409, 1), (416, 2), (434, 1), (469, 1), (481, 1), (482, 1), (483, 1), (484, 1), (485, 1), (486, 1), (487, 1), (488, 1), (489, 1), (490, 1), (491, 1), (492, 1)], [(4, 2), (5, 1), (12, 1), (16, 1), (35, 1), (49, 2), (50, 1), (51, 1), (63, 1), (65, 1), (66, 1), (81, 1), (90, 1), (104, 5), (106, 1), (111, 1), (130, 1), (131, 2), (139, 1), (169, 1), (170, 1), (182, 1), (185, 2), (217, 3), (219, 1), (254, 5), (270, 1), (312, 2), (321, 1), (349, 1), (356, 1), (434, 1), (489, 1), (493, 1), (494, 1), (495, 1), (496, 1), (497, 1), (498, 1), (499, 1), (500, 1), (501, 1), (502, 1), (503, 1), (504, 1), (505, 1), (506, 1), (507, 1), (508, 1), (509, 1), (510, 1), (511, 1), (512, 1), (513, 1), (514, 1), (515, 1)], [(5, 2), (9, 1), (14, 2), (17, 3), (19, 1), (34, 1), (51, 1), (57, 2), (59, 1), (69, 1), (77, 1), (90, 1), (91, 5), (92, 5), (104, 1), (110, 1), (111, 1), (121, 2), (139, 1), (146, 2), (169, 2), (170, 1), (178, 1), (213, 1), (217, 1), (220, 1), (231, 3), (238, 3), (254, 1), (269, 1), (273, 1), (275, 1), (283, 1), (334, 1), (335, 1), (356, 1), (388, 1), (405, 1), (474, 1), (498, 1), (502, 3), (503, 5), (516, 1), (517, 1), (518, 3), (519, 3), (520, 1), (521, 1), (522, 2), (523, 1), (524, 1), (525, 1), (526, 1), (527, 1), (528, 1), (529, 1), (530, 1), (531, 1), (532, 1), (533, 1), (534, 1), (535, 1), (536, 1), (537, 1), (538, 1), (539, 1), (540, 1), (541, 1), (542, 1), (543, 1), (544, 1), (545, 1), (546, 1), (547, 2), (548, 1), (549, 1), (550, 1), (551, 1), (552, 1), (553, 1), (554, 1), (555, 1), (556, 1), (557, 1), (558, 1)], [(2, 2), (5, 1), (16, 1), (90, 1), (91, 2), (100, 1), (107, 1), (108, 1), (139, 1), (147, 1), (158, 1), (171, 1), (182, 1), (213, 1), (300, 1), (335, 1), (356, 1), (386, 1), (559, 1), (560, 2), (561, 1), (562, 1), (563, 1), (564, 1), (565, 1), (566, 1), (567, 1), (568, 1), (569, 1), (570, 1), (571, 1), (572, 1), (573, 1), (574, 1), (575, 1), (576, 1)], [(4, 1), (14, 1), (35, 1), (36, 1), (75, 1), (90, 1), (100, 1), (170, 1), (210, 1), (282, 1), (356, 1), (548, 1), (577, 1), (578, 1), (579, 1), (580, 1), (581, 1), (582, 1)], [(4, 3), (92, 1), (104, 1), (108, 1), (117, 1), (217, 1), (225, 2), (238, 1), (285, 1), (556, 1), (583, 1), (584, 1), (585, 1), (586, 1)], [(1, 1), (2, 1), (4, 5), (5, 3), (7, 1), (17, 2), (31, 1), (35, 1), (50, 1), (52, 1), (56, 1), (74, 1), (91, 1), (92, 1), (110, 1), (124, 1), (139, 1), (141, 1), (154, 1), (157, 1), (168, 1), (196, 1), (229, 1), (272, 1), (279, 1), (300, 1), (338, 1), (416, 1), (472, 1), (473, 1), (587, 2), (588, 1), (589, 1), (590, 2), (591, 1), (592, 1), (593, 1), (594, 1), (595, 1), (596, 1), (597, 1), (598, 1), (599, 1), (600, 1), (601, 1), (602, 1), (603, 1), (604, 1), (605, 1), (606, 1), (607, 1)], [(4, 2), (7, 2), (11, 1), (25, 1), (26, 1), (34, 1), (35, 1), (36, 1), (52, 2), (91, 1), (104, 1), (108, 1), (112, 1), (147, 2), (154, 1), (187, 1), (199, 1), (228, 1), (231, 1), (238, 1), (252, 1), (264, 1), (292, 1), (335, 1), (405, 1), (560, 1), (571, 2), (572, 2), (608, 1), (609, 1), (610, 1), (611, 1), (612, 1), (613, 1), (614, 1), (615, 1), (616, 1), (617, 1), (618, 1), (619, 1), (620, 1), (621, 1), (622, 1), (623, 1), (624, 1), (625, 1), (626, 1), (627, 1), (628, 1)]]\n"
     ]
    }
   ],
   "source": [
    "print(corpus)"
   ]
  },
  {
   "cell_type": "markdown",
   "metadata": {},
   "source": [
    "# End of the coding in the following address:\n",
    "## https://rstudio-pubs-static.s3.amazonaws.com/79360_850b2a69980c4488b1db95987a24867a.html#sample-script-in-full"
   ]
  }
 ],
 "metadata": {
  "kernelspec": {
   "display_name": "Python 3",
   "language": "python",
   "name": "python3"
  },
  "language_info": {
   "codemirror_mode": {
    "name": "ipython",
    "version": 3
   },
   "file_extension": ".py",
   "mimetype": "text/x-python",
   "name": "python",
   "nbconvert_exporter": "python",
   "pygments_lexer": "ipython3",
   "version": "3.6.3"
  }
 },
 "nbformat": 4,
 "nbformat_minor": 2
}
