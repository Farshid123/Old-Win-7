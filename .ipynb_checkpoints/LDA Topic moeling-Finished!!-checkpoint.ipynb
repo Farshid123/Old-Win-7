{
 "cells": [
  {
   "cell_type": "markdown",
   "metadata": {},
   "source": [
    "# importing documnets for all of 10 files:"
   ]
  },
  {
   "cell_type": "markdown",
   "metadata": {},
   "source": [
    "# 1. Athabasca Glaciers:"
   ]
  },
  {
   "cell_type": "code",
   "execution_count": 3,
   "metadata": {},
   "outputs": [
    {
     "name": "stdout",
     "output_type": "stream",
     "text": [
      "This string has 260597 characters.\n"
     ]
    }
   ],
   "source": [
    "with open('doc_AthabascaGlaciers.txt','r') as myfile:\n",
    "    doc_AthabascaGlaciers=myfile.read().replace('\\n','')\n",
    "print(\"This string has\", len(doc_AthabascaGlaciers), \"characters.\")"
   ]
  },
  {
   "cell_type": "code",
   "execution_count": 4,
   "metadata": {},
   "outputs": [
    {
     "data": {
      "text/plain": [
       "str"
      ]
     },
     "execution_count": 4,
     "metadata": {},
     "output_type": "execute_result"
    }
   ],
   "source": [
    "type(doc_AthabascaGlaciers)"
   ]
  },
  {
   "cell_type": "markdown",
   "metadata": {},
   "source": [
    "# 2. Athabasca Falls"
   ]
  },
  {
   "cell_type": "code",
   "execution_count": 6,
   "metadata": {},
   "outputs": [
    {
     "name": "stdout",
     "output_type": "stream",
     "text": [
      "This string has 754132 characters.\n"
     ]
    }
   ],
   "source": [
    "with open('doc_AthabscaFalls.txt','r') as myfile:\n",
    "    doc_AthabscaFalls=myfile.read().replace('\\n','')\n",
    "print(\"This string has\", len(doc_AthabscaFalls), \"characters.\")"
   ]
  },
  {
   "cell_type": "code",
   "execution_count": 7,
   "metadata": {},
   "outputs": [
    {
     "data": {
      "text/plain": [
       "str"
      ]
     },
     "execution_count": 7,
     "metadata": {},
     "output_type": "execute_result"
    }
   ],
   "source": [
    "type(doc_AthabscaFalls)"
   ]
  },
  {
   "cell_type": "markdown",
   "metadata": {},
   "source": [
    "# 3. Columbia Ice Fields:"
   ]
  },
  {
   "cell_type": "code",
   "execution_count": 8,
   "metadata": {},
   "outputs": [
    {
     "name": "stdout",
     "output_type": "stream",
     "text": [
      "This string has 1257611 characters.\n"
     ]
    }
   ],
   "source": [
    "with open('doc_ColumbiaIcefield.txt','r') as myfile:\n",
    "    doc_ColumbiaIcefield=myfile.read().replace('\\n','')\n",
    "print(\"This string has\", len(doc_ColumbiaIcefield), \"characters.\")"
   ]
  },
  {
   "cell_type": "code",
   "execution_count": 9,
   "metadata": {},
   "outputs": [
    {
     "data": {
      "text/plain": [
       "str"
      ]
     },
     "execution_count": 9,
     "metadata": {},
     "output_type": "execute_result"
    }
   ],
   "source": [
    "type(doc_ColumbiaIcefield)"
   ]
  },
  {
   "cell_type": "markdown",
   "metadata": {},
   "source": [
    "# 4. Maligne Canyon:"
   ]
  },
  {
   "cell_type": "code",
   "execution_count": 10,
   "metadata": {},
   "outputs": [
    {
     "name": "stdout",
     "output_type": "stream",
     "text": [
      "This string has 881002 characters.\n"
     ]
    }
   ],
   "source": [
    "with open('doc_MaligneCanyon.txt','r') as myfile:\n",
    "    doc_MaligneCanyon=myfile.read().replace('\\n','')\n",
    "print(\"This string has\", len(doc_MaligneCanyon), \"characters.\")"
   ]
  },
  {
   "cell_type": "code",
   "execution_count": 11,
   "metadata": {},
   "outputs": [
    {
     "data": {
      "text/plain": [
       "str"
      ]
     },
     "execution_count": 11,
     "metadata": {},
     "output_type": "execute_result"
    }
   ],
   "source": [
    "type(doc_MaligneCanyon)"
   ]
  },
  {
   "cell_type": "markdown",
   "metadata": {},
   "source": [
    "# 5. Maligne Lake:"
   ]
  },
  {
   "cell_type": "code",
   "execution_count": 12,
   "metadata": {},
   "outputs": [
    {
     "name": "stdout",
     "output_type": "stream",
     "text": [
      "This string has 337112 characters.\n"
     ]
    }
   ],
   "source": [
    "with open('doc_MaligneLake.txt','r') as myfile:\n",
    "    doc_MaligneLake=myfile.read().replace('\\n','')\n",
    "print(\"This string has\", len(doc_MaligneLake), \"characters.\")"
   ]
  },
  {
   "cell_type": "code",
   "execution_count": 13,
   "metadata": {},
   "outputs": [
    {
     "data": {
      "text/plain": [
       "str"
      ]
     },
     "execution_count": 13,
     "metadata": {},
     "output_type": "execute_result"
    }
   ],
   "source": [
    "type(doc_MaligneLake)"
   ]
  },
  {
   "cell_type": "markdown",
   "metadata": {},
   "source": [
    "# 6. Mount Edith Cavell Trail:"
   ]
  },
  {
   "cell_type": "code",
   "execution_count": 14,
   "metadata": {},
   "outputs": [
    {
     "name": "stdout",
     "output_type": "stream",
     "text": [
      "This string has 76115 characters.\n"
     ]
    }
   ],
   "source": [
    "with open('doc_MountEdithCavellTrail.txt','r') as myfile:\n",
    "    doc_MountEdithCavellTrail=myfile.read().replace('\\n','')\n",
    "print(\"This string has\", len(doc_MountEdithCavellTrail), \"characters.\")"
   ]
  },
  {
   "cell_type": "code",
   "execution_count": 15,
   "metadata": {},
   "outputs": [
    {
     "data": {
      "text/plain": [
       "str"
      ]
     },
     "execution_count": 15,
     "metadata": {},
     "output_type": "execute_result"
    }
   ],
   "source": [
    "type(doc_MountEdithCavellTrail)"
   ]
  },
  {
   "cell_type": "markdown",
   "metadata": {},
   "source": [
    "# 7. Mt. Edith Cavell:"
   ]
  },
  {
   "cell_type": "code",
   "execution_count": 19,
   "metadata": {},
   "outputs": [
    {
     "name": "stdout",
     "output_type": "stream",
     "text": [
      "This string has 207499 characters.\n"
     ]
    }
   ],
   "source": [
    "with open('doc_MtEdithCavell.txt','r') as myfile:\n",
    "    doc_MtEdithCavell=myfile.read().replace('\\n','')\n",
    "print(\"This string has\", len(doc_MtEdithCavell), \"characters.\")"
   ]
  },
  {
   "cell_type": "code",
   "execution_count": 20,
   "metadata": {},
   "outputs": [
    {
     "data": {
      "text/plain": [
       "str"
      ]
     },
     "execution_count": 20,
     "metadata": {},
     "output_type": "execute_result"
    }
   ],
   "source": [
    "type(doc_MtEdithCavell)"
   ]
  },
  {
   "cell_type": "markdown",
   "metadata": {},
   "source": [
    "# 8. Pyramid and Patricia Lakes:"
   ]
  },
  {
   "cell_type": "code",
   "execution_count": 21,
   "metadata": {},
   "outputs": [
    {
     "name": "stdout",
     "output_type": "stream",
     "text": [
      "This string has 310959 characters.\n"
     ]
    }
   ],
   "source": [
    "with open('doc_PyramidPatriciaLakes.txt','r') as myfile:\n",
    "    doc_PyramidPatriciaLakes=myfile.read().replace('\\n','')\n",
    "print(\"This string has\", len(doc_PyramidPatriciaLakes), \"characters.\")"
   ]
  },
  {
   "cell_type": "code",
   "execution_count": 22,
   "metadata": {},
   "outputs": [
    {
     "data": {
      "text/plain": [
       "str"
      ]
     },
     "execution_count": 22,
     "metadata": {},
     "output_type": "execute_result"
    }
   ],
   "source": [
    "type(doc_PyramidPatriciaLakes)"
   ]
  },
  {
   "cell_type": "markdown",
   "metadata": {},
   "source": [
    "# 9. Sunwapta Falls:"
   ]
  },
  {
   "cell_type": "code",
   "execution_count": 23,
   "metadata": {},
   "outputs": [
    {
     "name": "stdout",
     "output_type": "stream",
     "text": [
      "This string has 48463 characters.\n"
     ]
    }
   ],
   "source": [
    "with open('doc_SunwaptaFalls.txt','r') as myfile:\n",
    "    doc_SunwaptaFalls=myfile.read().replace('\\n','')\n",
    "print(\"This string has\", len(doc_SunwaptaFalls), \"characters.\")"
   ]
  },
  {
   "cell_type": "code",
   "execution_count": 24,
   "metadata": {},
   "outputs": [
    {
     "data": {
      "text/plain": [
       "str"
      ]
     },
     "execution_count": 24,
     "metadata": {},
     "output_type": "execute_result"
    }
   ],
   "source": [
    "type(doc_SunwaptaFalls)"
   ]
  },
  {
   "cell_type": "markdown",
   "metadata": {},
   "source": [
    "# 10. Sunwapta Falls and Canyons:"
   ]
  },
  {
   "cell_type": "code",
   "execution_count": 25,
   "metadata": {},
   "outputs": [
    {
     "name": "stdout",
     "output_type": "stream",
     "text": [
      "This string has 78629 characters.\n"
     ]
    }
   ],
   "source": [
    "with open('doc_SunwaptaFallsCanyons.txt','r') as myfile:\n",
    "    doc_SunwaptaFallsCanyons=myfile.read().replace('\\n','')\n",
    "print(\"This string has\", len(doc_SunwaptaFallsCanyons), \"characters.\")"
   ]
  },
  {
   "cell_type": "code",
   "execution_count": 26,
   "metadata": {},
   "outputs": [
    {
     "data": {
      "text/plain": [
       "str"
      ]
     },
     "execution_count": 26,
     "metadata": {},
     "output_type": "execute_result"
    }
   ],
   "source": [
    "type(doc_SunwaptaFallsCanyons)"
   ]
  },
  {
   "cell_type": "markdown",
   "metadata": {},
   "source": [
    "# A list that contains all of the 10 documents:"
   ]
  },
  {
   "cell_type": "code",
   "execution_count": 27,
   "metadata": {
    "collapsed": true
   },
   "outputs": [],
   "source": [
    "doc_set = [doc_AthabascaGlaciers, doc_AthabscaFalls, doc_ColumbiaIcefield, doc_MaligneCanyon, doc_MaligneLake, doc_MountEdithCavellTrail, doc_MtEdithCavell, doc_PyramidPatriciaLakes, doc_SunwaptaFalls, doc_SunwaptaFallsCanyons]"
   ]
  },
  {
   "cell_type": "code",
   "execution_count": 28,
   "metadata": {},
   "outputs": [
    {
     "data": {
      "text/plain": [
       "list"
      ]
     },
     "execution_count": 28,
     "metadata": {},
     "output_type": "execute_result"
    }
   ],
   "source": [
    "type(doc_set)"
   ]
  },
  {
   "cell_type": "code",
   "execution_count": 29,
   "metadata": {},
   "outputs": [
    {
     "data": {
      "text/plain": [
       "10"
      ]
     },
     "execution_count": 29,
     "metadata": {},
     "output_type": "execute_result"
    }
   ],
   "source": [
    "len(doc_set)"
   ]
  },
  {
   "cell_type": "markdown",
   "metadata": {},
   "source": [
    "# Now that we have all of 10 documents in string format, we try to clean them:"
   ]
  },
  {
   "cell_type": "markdown",
   "metadata": {},
   "source": [
    "# 1. Cleaning Athabsca Glaciers:"
   ]
  },
  {
   "cell_type": "code",
   "execution_count": 30,
   "metadata": {
    "collapsed": true
   },
   "outputs": [],
   "source": [
    "from nltk.tokenize import RegexpTokenizer\n",
    "tokenizer = RegexpTokenizer(r'\\w+')"
   ]
  },
  {
   "cell_type": "code",
   "execution_count": 32,
   "metadata": {},
   "outputs": [
    {
     "name": "stdout",
     "output_type": "stream",
     "text": [
      "['when', 'we', 'stopped', 'by', 'while', 'passing', 'through', 'in', 'late', 'october', 'there', 'were', 'no', 'open', 'facilities', 'on', 'the', 'way', 'heading', 'north']\n"
     ]
    }
   ],
   "source": [
    "raw1 = doc_AthabascaGlaciers.lower()\n",
    "tokens1 = tokenizer.tokenize(raw1)\n",
    "print(tokens1[:20])"
   ]
  },
  {
   "cell_type": "markdown",
   "metadata": {},
   "source": [
    "#stop words:"
   ]
  },
  {
   "cell_type": "code",
   "execution_count": 33,
   "metadata": {
    "collapsed": true
   },
   "outputs": [],
   "source": [
    "from stop_words import get_stop_words\n",
    "\n",
    "# create English stop words list\n",
    "en_stop = get_stop_words('en')"
   ]
  },
  {
   "cell_type": "code",
   "execution_count": 35,
   "metadata": {},
   "outputs": [
    {
     "name": "stdout",
     "output_type": "stream",
     "text": [
      "['stopped', 'passing', 'late', 'october', 'open', 'facilities', 'way', 'heading', 'north', 'icefield', 'parkway', 'weather', 'conducive', 'going', 'walk', 'closer', 'glacier', 'way', 'back', 'south']\n"
     ]
    }
   ],
   "source": [
    "# remove stop words from tokens\n",
    "stopped_tokens1 = [i for i in tokens1 if not i in en_stop]\n",
    "\n",
    "print(stopped_tokens1[:20])\n"
   ]
  },
  {
   "cell_type": "markdown",
   "metadata": {},
   "source": [
    "#Stemming:"
   ]
  },
  {
   "cell_type": "code",
   "execution_count": 36,
   "metadata": {
    "collapsed": true
   },
   "outputs": [],
   "source": [
    "from nltk.stem.porter import PorterStemmer\n",
    "\n",
    "# Create p_stemmer of class PorterStemmer\n",
    "p_stemmer = PorterStemmer()"
   ]
  },
  {
   "cell_type": "code",
   "execution_count": 39,
   "metadata": {},
   "outputs": [
    {
     "name": "stdout",
     "output_type": "stream",
     "text": [
      "['stop', 'pass', 'late', 'octob', 'open', 'facil', 'way', 'head', 'north', 'icefield', 'parkway', 'weather', 'conduc', 'go', 'walk', 'closer', 'glacier', 'way', 'back', 'south']\n"
     ]
    }
   ],
   "source": [
    "# stem token\n",
    "text1 = [p_stemmer.stem(i) for i in stopped_tokens1]\n",
    "\n",
    "print(text1[:20])"
   ]
  },
  {
   "cell_type": "markdown",
   "metadata": {},
   "source": [
    "# 2. Cleaning Athabsca falls:"
   ]
  },
  {
   "cell_type": "code",
   "execution_count": 40,
   "metadata": {
    "collapsed": true
   },
   "outputs": [],
   "source": [
    "raw2 = doc_AthabscaFalls.lower()\n",
    "tokens2 = tokenizer.tokenize(raw2)"
   ]
  },
  {
   "cell_type": "code",
   "execution_count": 41,
   "metadata": {},
   "outputs": [
    {
     "name": "stdout",
     "output_type": "stream",
     "text": [
      "['alway', 'saw', 'sign', 'along', 'highway', 'never', 'stop', 'think', 'just', 'anoth', 'waterfal', 'final', 'stop', 'see', 'amaz', 'rug', 'power', 'truli', 'don', 't']\n"
     ]
    }
   ],
   "source": [
    "stopped_tokens2 = [i for i in tokens2 if not i in en_stop]\n",
    "text2 = [p_stemmer.stem(i) for i in stopped_tokens2]\n",
    "print(text2[:20])"
   ]
  },
  {
   "cell_type": "markdown",
   "metadata": {},
   "source": [
    "# 3. Cleaning Columbia Ice Fields:"
   ]
  },
  {
   "cell_type": "code",
   "execution_count": 42,
   "metadata": {
    "collapsed": true
   },
   "outputs": [],
   "source": [
    "raw3 = doc_ColumbiaIcefield.lower()\n",
    "tokens3 = tokenizer.tokenize(raw3)"
   ]
  },
  {
   "cell_type": "code",
   "execution_count": 43,
   "metadata": {},
   "outputs": [
    {
     "name": "stdout",
     "output_type": "stream",
     "text": [
      "['thrill', 'take', 'bu', 'onto', 'glacier', 'walk', 'around', 'park', 'rv', 'park', 'lot', 'face', 'glacier', 'excurs', 'hard', 'describ', 'beauti', 'sceneri', 'must', 'see']\n"
     ]
    }
   ],
   "source": [
    "stopped_tokens3 = [i for i in tokens3 if not i in en_stop]\n",
    "text3 = [p_stemmer.stem(i) for i in stopped_tokens3]\n",
    "print(text3[:20])"
   ]
  },
  {
   "cell_type": "markdown",
   "metadata": {},
   "source": [
    "# 4. Cleaning Maligne Canyon:"
   ]
  },
  {
   "cell_type": "code",
   "execution_count": 44,
   "metadata": {
    "collapsed": true
   },
   "outputs": [],
   "source": [
    "raw4 = doc_MaligneCanyon.lower()\n",
    "tokens4 = tokenizer.tokenize(raw4)"
   ]
  },
  {
   "cell_type": "code",
   "execution_count": 45,
   "metadata": {},
   "outputs": [
    {
     "name": "stdout",
     "output_type": "stream",
     "text": [
      "['went', 'young', 'famili', 'although', 'long', 'hike', 'thrill', 'walk', 'along', 'cliff', 'deep', 'canyon', 'rocki', 'mountain', 'just', 'keep', 'track', 'children', 'rug', 'terrain']\n"
     ]
    }
   ],
   "source": [
    "stopped_tokens4 = [i for i in tokens4 if not i in en_stop]\n",
    "text4 = [p_stemmer.stem(i) for i in stopped_tokens4]\n",
    "print(text4[:20])"
   ]
  },
  {
   "cell_type": "markdown",
   "metadata": {},
   "source": [
    "# 5. Cleaning Maligne Lake:"
   ]
  },
  {
   "cell_type": "code",
   "execution_count": 46,
   "metadata": {},
   "outputs": [
    {
     "name": "stdout",
     "output_type": "stream",
     "text": [
      "['woke', 'hotel', 'snow', 'overnight', 'thought', 'might', 'spoil', 'day', 'contrari', 'great', 'day', 'spectacular', 'drive', 'malign', 'lake', 'saw', 'moos', 'carab', 'chipmunk', 'cheaki']\n"
     ]
    }
   ],
   "source": [
    "raw5 = doc_MaligneLake.lower()\n",
    "tokens5 = tokenizer.tokenize(raw5)\n",
    "stopped_tokens5 = [i for i in tokens5 if not i in en_stop]\n",
    "text5 = [p_stemmer.stem(i) for i in stopped_tokens5]\n",
    "print(text5[:20])"
   ]
  },
  {
   "cell_type": "markdown",
   "metadata": {},
   "source": [
    "# 6. Cleaning Mount Edith Cavell Trail:"
   ]
  },
  {
   "cell_type": "code",
   "execution_count": 47,
   "metadata": {},
   "outputs": [
    {
     "name": "stdout",
     "output_type": "stream",
     "text": [
      "['visit', 'park', 'lot', 'road', 'undat', 'traffic', 'limit', '2', 'hour', 'permit', 'time', 'continu', 'trail', 'next', 'time', 'way', 'will', 'add', 'trail', 'list']\n"
     ]
    }
   ],
   "source": [
    "raw6 = doc_MountEdithCavellTrail.lower()\n",
    "tokens6 = tokenizer.tokenize(raw6)\n",
    "stopped_tokens6 = [i for i in tokens6 if not i in en_stop]\n",
    "text6 = [p_stemmer.stem(i) for i in stopped_tokens6]\n",
    "print(text6[:20])"
   ]
  },
  {
   "cell_type": "markdown",
   "metadata": {},
   "source": [
    "# 7. Cleaning Mt. Edith Cavell:"
   ]
  },
  {
   "cell_type": "code",
   "execution_count": 48,
   "metadata": {},
   "outputs": [
    {
     "name": "stdout",
     "output_type": "stream",
     "text": [
      "['use', 'favorit', 'place', 'canadian', 'rocki', 'implement', 'restrict', 'access', 'near', 'water', 's', 'nearli', 'fun', 'explor', 'rememb', 'just', 'year', 'ago', 'go', 'abl']\n"
     ]
    }
   ],
   "source": [
    "raw7 = doc_MtEdithCavell.lower()\n",
    "tokens7 = tokenizer.tokenize(raw7)\n",
    "stopped_tokens7 = [i for i in tokens7 if not i in en_stop]\n",
    "text7 = [p_stemmer.stem(i) for i in stopped_tokens7]\n",
    "print(text7[:20])"
   ]
  },
  {
   "cell_type": "markdown",
   "metadata": {},
   "source": [
    "# 8. Cleaning Pyramid and Patricia Lakes:"
   ]
  },
  {
   "cell_type": "code",
   "execution_count": 49,
   "metadata": {},
   "outputs": [
    {
     "name": "stdout",
     "output_type": "stream",
     "text": [
      "['rent', 'kayak', 'hour', 'reason', 'rate', 'absolut', 'love', 'experi', 'doesn', 't', 'get', 'much', 'better', 'paddl', 'around', 'crystal', 'clear', 'mountain', 'lake', 'surround']\n"
     ]
    }
   ],
   "source": [
    "raw8 = doc_PyramidPatriciaLakes.lower()\n",
    "tokens8 = tokenizer.tokenize(raw8)\n",
    "stopped_tokens8 = [i for i in tokens8 if not i in en_stop]\n",
    "text8 = [p_stemmer.stem(i) for i in stopped_tokens8]\n",
    "print(text8[:20])"
   ]
  },
  {
   "cell_type": "markdown",
   "metadata": {},
   "source": [
    "# 9. Cleaning Sunwapta Falls:"
   ]
  },
  {
   "cell_type": "code",
   "execution_count": 50,
   "metadata": {},
   "outputs": [
    {
     "name": "stdout",
     "output_type": "stream",
     "text": [
      "['natur', 'rocki', 'impress', 'breathtak', 'sunwapta', 'fall', 'great', 'winter', 'summerthi', 'beauti', 'place', 'break', 'drive', 'take', 'amaz', 'fall', 'river', 'quit', 'photo', 'opportun']\n"
     ]
    }
   ],
   "source": [
    "raw9 = doc_SunwaptaFalls.lower()\n",
    "tokens9 = tokenizer.tokenize(raw9)\n",
    "stopped_tokens9 = [i for i in tokens9 if not i in en_stop]\n",
    "text9 = [p_stemmer.stem(i) for i in stopped_tokens9]\n",
    "print(text9[:20])"
   ]
  },
  {
   "cell_type": "markdown",
   "metadata": {},
   "source": [
    "# 10. Cleaning Sunwapta Falls and Canyons:"
   ]
  },
  {
   "cell_type": "code",
   "execution_count": 51,
   "metadata": {},
   "outputs": [
    {
     "name": "stdout",
     "output_type": "stream",
     "text": [
      "['stop', 'visit', 'sunwapta', 'fall', 'way', 'back', 'calgari', 'jasper', 'great', 'locat', 'see', 'fall', 'also', 'eat', 'lunch', 'mani', 'great', 'place', 'stop', 'along']\n"
     ]
    }
   ],
   "source": [
    "raw10 = doc_SunwaptaFallsCanyons.lower()\n",
    "tokens10 = tokenizer.tokenize(raw10)\n",
    "stopped_tokens10 = [i for i in tokens10 if not i in en_stop]\n",
    "text10 = [p_stemmer.stem(i) for i in stopped_tokens10]\n",
    "print(text10[:20])"
   ]
  },
  {
   "cell_type": "markdown",
   "metadata": {},
   "source": [
    "# Making a list of lists:"
   ]
  },
  {
   "cell_type": "code",
   "execution_count": 56,
   "metadata": {
    "collapsed": true
   },
   "outputs": [],
   "source": [
    "texts=[text1, text2, text3, text4, text5, text6, text7, text8, text9, text10]"
   ]
  },
  {
   "cell_type": "code",
   "execution_count": 57,
   "metadata": {},
   "outputs": [
    {
     "data": {
      "text/plain": [
       "list"
      ]
     },
     "execution_count": 57,
     "metadata": {},
     "output_type": "execute_result"
    }
   ],
   "source": [
    "type(texts)"
   ]
  },
  {
   "cell_type": "markdown",
   "metadata": {},
   "source": [
    "# Constructing a document-term matrix:"
   ]
  },
  {
   "cell_type": "code",
   "execution_count": 58,
   "metadata": {},
   "outputs": [
    {
     "name": "stderr",
     "output_type": "stream",
     "text": [
      "C:\\Users\\Papar\\Anaconda3\\lib\\site-packages\\gensim\\utils.py:860: UserWarning: detected Windows; aliasing chunkize to chunkize_serial\n",
      "  warnings.warn(\"detected Windows; aliasing chunkize to chunkize_serial\")\n"
     ]
    }
   ],
   "source": [
    "from gensim import corpora, models\n",
    "\n",
    "dictionary = corpora.Dictionary(texts)"
   ]
  },
  {
   "cell_type": "code",
   "execution_count": 59,
   "metadata": {
    "collapsed": true
   },
   "outputs": [],
   "source": [
    "corpus = [dictionary.doc2bow(text) for text in texts]"
   ]
  },
  {
   "cell_type": "code",
   "execution_count": 61,
   "metadata": {},
   "outputs": [
    {
     "name": "stdout",
     "output_type": "stream",
     "text": [
      "[(0, 80), (1, 17), (2, 10), (3, 2), (4, 12), (5, 5), (6, 99), (7, 11), (8, 11), (9, 144), (10, 52), (11, 29), (12, 1), (13, 144), (14, 393), (15, 10), (16, 1404), (17, 94), (18, 8), (19, 100), (20, 30), (21, 164), (22, 204), (23, 2), (24, 121), (25, 30), (26, 213), (27, 205), (28, 27), (29, 5), (30, 35), (31, 348), (32, 20), (33, 21), (34, 6), (35, 158), (36, 105), (37, 11), (38, 3), (39, 1), (40, 2), (41, 12), (42, 8), (43, 17), (44, 31), (45, 81), (46, 54), (47, 51), (48, 46), (49, 106), (50, 54), (51, 1), (52, 15), (53, 4), (54, 53), (55, 114), (56, 21), (57, 25), (58, 2), (59, 77), (60, 132), (61, 3), (62, 39), (63, 15), (64, 22), (65, 35), (66, 1), (67, 2), (68, 51), (69, 28), (70, 41), (71, 78), (72, 36), (73, 16), (74, 245), (75, 122), (76, 38), (77, 12), (78, 47), (79, 151), (80, 238), (81, 55), (82, 85), (83, 71), (84, 66), (85, 234), (86, 40), (87, 86), (88, 12), (89, 161), (90, 15), (91, 100), (92, 7), (93, 98), (94, 17), (95, 105), (96, 39), (97, 18), (98, 5), (99, 12), (100, 31), (101, 7), (102, 15), (103, 101), (104, 59), (105, 31), (106, 127), (107, 6), (108, 36), (109, 20), (110, 7), (111, 4), (112, 222), (113, 20), (114, 8), (115, 1), (116, 17), (117, 15), (118, 1), (119, 85), (120, 32), (121, 68), (122, 4), (123, 34), (124, 18), (125, 11), (126, 90), (127, 28), (128, 5), (129, 4), (130, 20), (131, 4), (132, 16), (133, 4), (134, 93), (135, 51), (136, 22), (137, 27), (138, 27), (139, 40), (140, 1), (141, 136), (142, 88), (143, 27), (144, 7), (145, 16), (146, 19), (147, 13), (148, 54), (149, 13), (150, 5), (151, 16), (152, 6), (153, 98), (154, 44), (155, 1), (156, 12), (157, 12), (158, 1), (159, 11), (160, 11), (161, 5), (162, 1), (163, 62), (164, 30), (165, 226), (166, 47), (167, 15), (168, 11), (169, 49), (170, 69), (171, 62), (172, 114), (173, 7), (174, 2), (175, 8), (176, 13), (177, 18), (178, 1), (179, 13), (180, 9), (181, 17), (182, 1), (183, 1), (184, 1), (185, 23), (186, 1), (187, 7), (188, 6), (189, 6), (190, 15), (191, 128), (192, 28), (193, 1), (194, 16), (195, 9), (196, 60), (197, 35), (198, 41), (199, 28), (200, 6), (201, 22), (202, 14), (203, 5), (204, 77), (205, 1), (206, 1), (207, 2), (208, 88), (209, 55), (210, 6), (211, 17), (212, 6), (213, 6), (214, 23), (215, 1), (216, 10), (217, 21), (218, 2), (219, 1), (220, 10), (221, 3), (222, 43), (223, 11), (224, 1), (225, 2), (226, 2), (227, 1), (228, 7), (229, 66), (230, 10), (231, 27), (232, 7), (233, 14), (234, 15), (235, 4), (236, 62), (237, 13), (238, 8), (239, 7), (240, 7), (241, 10), (242, 10), (243, 3), (244, 6), (245, 2), (246, 9), (247, 18), (248, 6), (249, 3), (250, 14), (251, 1), (252, 2), (253, 1), (254, 6), (255, 24), (256, 18), (257, 19), (258, 105), (259, 61), (260, 39), (261, 83), (262, 2), (263, 1), (264, 25), (265, 8), (266, 6), (267, 5), (268, 7), (269, 1), (270, 7), (271, 4), (272, 2), (273, 28), (274, 20), (275, 1), (276, 3), (277, 6), (278, 11), (279, 6), (280, 19), (281, 30), (282, 56), (283, 17), (284, 5), (285, 9), (286, 3), (287, 22), (288, 5), (289, 8), (290, 5), (291, 3), (292, 6), (293, 4), (294, 1), (295, 17), (296, 5), (297, 28), (298, 22), (299, 7), (300, 34), (301, 9), (302, 17), (303, 1), (304, 40), (305, 2), (306, 1), (307, 1), (308, 2), (309, 7), (310, 1), (311, 29), (312, 22), (313, 1), (314, 104), (315, 6), (316, 4), (317, 15), (318, 1), (319, 6), (320, 96), (321, 16), (322, 18), (323, 18), (324, 24), (325, 6), (326, 9), (327, 1), (328, 1), (329, 3), (330, 20), (331, 5), (332, 2), (333, 6), (334, 10), (335, 17), (336, 5), (337, 5), (338, 5), (339, 11), (340, 18), (341, 6), (342, 8), (343, 30), (344, 30), (345, 24), (346, 1), (347, 1), (348, 3), (349, 6), (350, 40), (351, 1), (352, 6), (353, 17), (354, 2), (355, 1), (356, 13), (357, 2), (358, 1), (359, 8), (360, 19), (361, 58), (362, 3), (363, 6), (364, 24), (365, 10), (366, 7), (367, 1), (368, 24), (369, 3), (370, 187), (371, 4), (372, 2), (373, 5), (374, 3), (375, 3), (376, 35), (377, 1), (378, 8), (379, 8), (380, 2), (381, 38), (382, 4), (383, 15), (384, 9), (385, 16), (386, 23), (387, 23), (388, 2), (389, 137), (390, 64), (391, 12), (392, 33), (393, 1), (394, 1), (395, 3), (396, 11), (397, 1), (398, 2), (399, 10), (400, 2), (401, 9), (402, 11), (403, 32), (404, 5), (405, 64), (406, 1), (407, 1), (408, 5), (409, 16), (410, 4), (411, 16), (412, 1), (413, 15), (414, 5), (415, 1), (416, 39), (417, 1), (418, 27), (419, 22), (420, 120), (421, 143), (422, 14), (423, 28), (424, 5), (425, 19), (426, 13), (427, 26), (428, 3), (429, 1), (430, 1), (431, 9), (432, 1), (433, 3), (434, 20), (435, 8), (436, 1), (437, 17), (438, 46), (439, 11), (440, 7), (441, 11), (442, 1), (443, 1), (444, 22), (445, 20), (446, 17), (447, 1), (448, 6), (449, 8), (450, 5), (451, 38), (452, 3), (453, 13), (454, 42), (455, 1), (456, 15), (457, 1), (458, 9), (459, 2), (460, 63), (461, 1), (462, 25), (463, 82), (464, 16), (465, 1), (466, 1), (467, 4), (468, 20), (469, 6), (470, 40), (471, 30), (472, 41), (473, 5), (474, 8), (475, 2), (476, 27), (477, 27), (478, 35), (479, 40), (480, 1), (481, 1), (482, 9), (483, 33), (484, 40), (485, 17), (486, 42), (487, 3), (488, 24), (489, 37), (490, 47), (491, 17), (492, 27), (493, 4), (494, 1), (495, 2), (496, 40), (497, 66), (498, 13), (499, 30), (500, 7), (501, 4), (502, 1), (503, 3), (504, 4), (505, 13), (506, 1), (507, 3), (508, 16), (509, 1), (510, 5), (511, 1), (512, 2), (513, 1), (514, 21), (515, 4), (516, 1), (517, 3), (518, 2), (519, 7), (520, 31), (521, 72), (522, 33), (523, 4), (524, 32), (525, 2), (526, 13), (527, 58), (528, 48), (529, 59), (530, 2), (531, 2), (532, 13), (533, 19), (534, 13), (535, 19), (536, 18), (537, 22), (538, 6), (539, 6), (540, 2), (541, 5), (542, 1), (543, 13), (544, 3), (545, 25), (546, 1), (547, 20), (548, 3), (549, 5), (550, 9), (551, 5), (552, 25), (553, 18), (554, 13), (555, 18), (556, 9), (557, 23), (558, 9), (559, 1), (560, 24), (561, 17), (562, 30), (563, 2), (564, 9), (565, 3), (566, 35), (567, 4), (568, 1), (569, 1), (570, 5), (571, 4), (572, 24), (573, 1), (574, 15), (575, 1), (576, 1), (577, 2), (578, 2), (579, 1), (580, 36), (581, 6), (582, 2), (583, 3), (584, 6), (585, 7), (586, 1), (587, 37), (588, 20), (589, 19), (590, 29), (591, 6), (592, 1), (593, 13), (594, 1), (595, 1), (596, 41), (597, 62), (598, 12), (599, 37), (600, 9), (601, 17), (602, 43), (603, 2), (604, 51), (605, 16), (606, 5), (607, 3), (608, 42), (609, 13), (610, 2), (611, 11), (612, 4), (613, 8), (614, 13), (615, 40), (616, 15), (617, 2), (618, 7), (619, 14), (620, 7), (621, 1), (622, 22), (623, 41), (624, 13), (625, 1), (626, 1), (627, 1), (628, 5), (629, 19), (630, 5), (631, 6), (632, 6), (633, 3), (634, 11), (635, 2), (636, 1), (637, 26), (638, 3), (639, 7), (640, 1), (641, 6), (642, 1), (643, 2), (644, 15), (645, 4), (646, 4), (647, 8), (648, 23), (649, 10), (650, 3), (651, 1), (652, 19), (653, 7), (654, 1), (655, 12), (656, 1), (657, 1), (658, 8), (659, 5), (660, 1), (661, 2), (662, 2), (663, 3), (664, 10), (665, 10), (666, 5), (667, 3), (668, 4), (669, 19), (670, 4), (671, 1), (672, 5), (673, 23), (674, 2), (675, 3), (676, 10), (677, 12), (678, 4), (679, 26), (680, 9), (681, 7), (682, 4), (683, 10), (684, 29), (685, 42), (686, 1), (687, 1), (688, 21), (689, 28), (690, 9), (691, 4), (692, 24), (693, 1), (694, 36), (695, 3), (696, 10), (697, 4), (698, 7), (699, 2), (700, 8), (701, 4), (702, 10), (703, 10), (704, 17), (705, 2), (706, 5), (707, 4), (708, 1), (709, 4), (710, 1), (711, 2), (712, 59), (713, 32), (714, 1), (715, 13), (716, 8), (717, 1), (718, 40), (719, 3), (720, 11), (721, 9), (722, 21), (723, 8), (724, 6), (725, 1), (726, 2), (727, 1), (728, 10), (729, 6), (730, 16), (731, 96), (732, 1), (733, 9), (734, 9), (735, 15), (736, 3), (737, 9), (738, 1), (739, 3), (740, 4), (741, 10), (742, 4), (743, 5), (744, 4), (745, 2), (746, 2), (747, 9), (748, 3), (749, 5), (750, 11), (751, 2), (752, 2), (753, 2), (754, 3), (755, 17), (756, 1), (757, 1), (758, 6), (759, 2), (760, 1), (761, 2), (762, 1), (763, 1), (764, 3), (765, 1), (766, 1), (767, 2), (768, 5), (769, 4), (770, 16), (771, 5), (772, 16), (773, 1), (774, 4), (775, 17), (776, 2), (777, 8), (778, 3), (779, 15), (780, 3), (781, 4), (782, 8), (783, 1), (784, 1), (785, 3), (786, 7), (787, 1), (788, 2), (789, 2), (790, 5), (791, 2), (792, 5), (793, 20), (794, 3), (795, 11), (796, 4), (797, 1), (798, 4), (799, 4), (800, 3), (801, 9), (802, 1), (803, 4), (804, 5), (805, 1), (806, 18), (807, 11), (808, 2), (809, 1), (810, 3), (811, 1), (812, 4), (813, 45), (814, 6), (815, 7), (816, 1), (817, 6), (818, 1), (819, 1), (820, 2), (821, 4), (822, 6), (823, 8), (824, 5), (825, 4), (826, 12), (827, 7), (828, 20), (829, 14), (830, 13), (831, 32), (832, 3), (833, 1), (834, 6), (835, 3), (836, 7), (837, 2), (838, 5), (839, 4), (840, 1), (841, 4), (842, 1), (843, 2), (844, 9), (845, 18), (846, 40), (847, 4), (848, 7), (849, 24), (850, 2), (851, 1), (852, 1), (853, 1), (854, 6), (855, 1), (856, 6), (857, 1), (858, 5), (859, 1), (860, 1), (861, 19), (862, 1), (863, 5), (864, 1), (865, 1), (866, 22), (867, 1), (868, 2), (869, 1), (870, 7), (871, 1), (872, 2), (873, 3), (874, 3), (875, 1), (876, 22), (877, 4), (878, 46), (879, 2), (880, 4), (881, 5), (882, 11), (883, 4), (884, 15), (885, 4), (886, 3), (887, 2), (888, 2), (889, 3), (890, 1), (891, 4), (892, 18), (893, 3), (894, 5), (895, 31), (896, 18), (897, 2), (898, 1), (899, 1), (900, 2), (901, 3), (902, 1), (903, 5), (904, 12), (905, 2), (906, 1), (907, 1), (908, 1), (909, 2), (910, 1), (911, 1), (912, 1), (913, 2), (914, 1), (915, 1), (916, 1), (917, 5), (918, 1), (919, 4), (920, 7), (921, 4), (922, 1), (923, 9), (924, 2), (925, 20), (926, 1), (927, 2), (928, 1), (929, 1), (930, 1), (931, 3), (932, 19), (933, 16), (934, 3), (935, 8), (936, 1), (937, 5), (938, 2), (939, 1), (940, 18), (941, 2), (942, 2), (943, 13), (944, 1), (945, 21), (946, 4), (947, 9), (948, 1), (949, 4), (950, 1), (951, 3), (952, 1), (953, 2), (954, 4), (955, 1), (956, 1), (957, 9), (958, 1), (959, 1), (960, 1), (961, 1), (962, 2), (963, 30), (964, 8), (965, 1), (966, 4), (967, 2), (968, 1), (969, 4), (970, 2), (971, 1), (972, 1), (973, 4), (974, 12), (975, 1), (976, 1), (977, 13), (978, 5), (979, 4), (980, 5), (981, 6), (982, 26), (983, 1), (984, 2), (985, 1), (986, 1), (987, 1), (988, 4), (989, 5), (990, 1), (991, 2), (992, 1), (993, 14), (994, 17), (995, 1), (996, 2), (997, 1), (998, 1), (999, 2), (1000, 3), (1001, 1), (1002, 1), (1003, 12), (1004, 2), (1005, 26), (1006, 2), (1007, 1), (1008, 5), (1009, 5), (1010, 3), (1011, 1), (1012, 2), (1013, 18), (1014, 28), (1015, 1), (1016, 3), (1017, 1), (1018, 3), (1019, 2), (1020, 12), (1021, 10), (1022, 28), (1023, 3), (1024, 1), (1025, 4), (1026, 3), (1027, 2), (1028, 1), (1029, 1), (1030, 1), (1031, 4), (1032, 2), (1033, 12), (1034, 9), (1035, 4), (1036, 11), (1037, 15), (1038, 8), (1039, 1), (1040, 5), (1041, 1), (1042, 1), (1043, 7), (1044, 2), (1045, 9), (1046, 4), (1047, 13), (1048, 5), (1049, 5), (1050, 1), (1051, 3), (1052, 16), (1053, 14), (1054, 1), (1055, 2), (1056, 5), (1057, 4), (1058, 8), (1059, 4), (1060, 9), (1061, 9), (1062, 5), (1063, 5), (1064, 5), (1065, 3), (1066, 7), (1067, 2), (1068, 1), (1069, 8), (1070, 1), (1071, 3), (1072, 5), (1073, 2), (1074, 2), (1075, 5), (1076, 7), (1077, 6), (1078, 5), (1079, 4), (1080, 5), (1081, 1), (1082, 23), (1083, 5), (1084, 4), (1085, 1), (1086, 2), (1087, 1), (1088, 2), (1089, 1), (1090, 4), (1091, 7), (1092, 4), (1093, 3), (1094, 4), (1095, 9), (1096, 14), (1097, 1), (1098, 7), (1099, 3), (1100, 1), (1101, 13), (1102, 1), (1103, 16), (1104, 1), (1105, 3), (1106, 2), (1107, 4), (1108, 8), (1109, 5), (1110, 3), (1111, 3), (1112, 4), (1113, 2), (1114, 4), (1115, 5), (1116, 10), (1117, 4), (1118, 8), (1119, 3), (1120, 2), (1121, 5), (1122, 1), (1123, 4), (1124, 3), (1125, 2), (1126, 1), (1127, 1), (1128, 3), (1129, 15), (1130, 7), (1131, 2), (1132, 1), (1133, 5), (1134, 14), (1135, 1), (1136, 1), (1137, 4), (1138, 1), (1139, 28), (1140, 20), (1141, 1), (1142, 1), (1143, 9), (1144, 6), (1145, 1), (1146, 6), (1147, 14), (1148, 6), (1149, 1), (1150, 5), (1151, 7), (1152, 24), (1153, 5), (1154, 1), (1155, 7), (1156, 1), (1157, 4), (1158, 2), (1159, 1), (1160, 6), (1161, 4), (1162, 2), (1163, 1), (1164, 1), (1165, 1), (1166, 1), (1167, 6), (1168, 2), (1169, 11), (1170, 1), (1171, 23), (1172, 1), (1173, 7), (1174, 4), (1175, 2), (1176, 10), (1177, 17), (1178, 5), (1179, 1), (1180, 1), (1181, 5), (1182, 7), (1183, 3), (1184, 9), (1185, 5), (1186, 2), (1187, 2), (1188, 1), (1189, 1), (1190, 1), (1191, 14), (1192, 6), (1193, 2), (1194, 1), (1195, 1), (1196, 8), (1197, 1), (1198, 8), (1199, 8), (1200, 1), (1201, 2), (1202, 1), (1203, 2), (1204, 2), (1205, 1), (1206, 13), (1207, 3), (1208, 2), (1209, 1), (1210, 6), (1211, 1), (1212, 1), (1213, 1), (1214, 3), (1215, 9), (1216, 1), (1217, 1), (1218, 1), (1219, 3), (1220, 2), (1221, 2), (1222, 2), (1223, 2), (1224, 1), (1225, 1), (1226, 3), (1227, 1), (1228, 1), (1229, 1), (1230, 1), (1231, 1), (1232, 5), (1233, 3), (1234, 2), (1235, 3), (1236, 22), (1237, 9), (1238, 1), (1239, 2), (1240, 3), (1241, 1), (1242, 1), (1243, 2), (1244, 2), (1245, 3), (1246, 1), (1247, 1), (1248, 1), (1249, 5), (1250, 2), (1251, 1), (1252, 2), (1253, 1), (1254, 1), (1255, 2), (1256, 2), (1257, 4), (1258, 4), (1259, 3), (1260, 4), (1261, 5), (1262, 2), (1263, 2), (1264, 5), (1265, 3), (1266, 1), (1267, 2), (1268, 2), (1269, 3), (1270, 1), (1271, 13), (1272, 1), (1273, 13), (1274, 5), (1275, 1), (1276, 3), (1277, 2), (1278, 2), (1279, 6), (1280, 5), (1281, 1), (1282, 4), (1283, 1), (1284, 3), (1285, 1), (1286, 1), (1287, 2), (1288, 22), (1289, 5), (1290, 1), (1291, 1), (1292, 17), (1293, 1), (1294, 2), (1295, 1), (1296, 1), (1297, 1), (1298, 1), (1299, 3), (1300, 1), (1301, 1), (1302, 1), (1303, 5), (1304, 1), (1305, 1), (1306, 3), (1307, 13), (1308, 1), (1309, 6), (1310, 1), (1311, 2), (1312, 32), (1313, 14), (1314, 11), (1315, 5), (1316, 1), (1317, 2), (1318, 1), (1319, 1), (1320, 3), (1321, 17), (1322, 7), (1323, 1), (1324, 22), (1325, 16), (1326, 6), (1327, 7), (1328, 4), (1329, 5), (1330, 4), (1331, 2), (1332, 1), (1333, 1), (1334, 1), (1335, 4), (1336, 1), (1337, 3), (1338, 5), (1339, 1), (1340, 13), (1341, 1), (1342, 5), (1343, 3), (1344, 4), (1345, 1), (1346, 5), (1347, 3), (1348, 1), (1349, 4), (1350, 11), (1351, 6), (1352, 12), (1353, 1), (1354, 2), (1355, 1), (1356, 1), (1357, 2), (1358, 4), (1359, 2), (1360, 1), (1361, 2), (1362, 1), (1363, 1), (1364, 4), (1365, 2), (1366, 3), (1367, 1), (1368, 3), (1369, 5), (1370, 1), (1371, 3), (1372, 1), (1373, 3), (1374, 2), (1375, 1), (1376, 4), (1377, 1), (1378, 2), (1379, 2), (1380, 6), (1381, 5), (1382, 3), (1383, 3), (1384, 2), (1385, 1), (1386, 1), (1387, 2), (1388, 1), (1389, 2), (1390, 1), (1391, 1), (1392, 1), (1393, 2), (1394, 1), (1395, 1), (1396, 1), (1397, 5), (1398, 3), (1399, 12), (1400, 2), (1401, 10), (1402, 1), (1403, 1), (1404, 1), (1405, 10), (1406, 1), (1407, 7), (1408, 1), (1409, 3), (1410, 2), (1411, 1), (1412, 4), (1413, 1), (1414, 1), (1415, 1), (1416, 1), (1417, 1), (1418, 1), (1419, 1), (1420, 6), (1421, 1), (1422, 3), (1423, 2), (1424, 1), (1425, 1), (1426, 1), (1427, 1), (1428, 8), (1429, 4), (1430, 1), (1431, 1), (1432, 1), (1433, 1), (1434, 12), (1435, 1), (1436, 3), (1437, 1), (1438, 3), (1439, 1), (1440, 3), (1441, 1), (1442, 3), (1443, 3), (1444, 3), (1445, 9), (1446, 1), (1447, 3), (1448, 4), (1449, 2), (1450, 5), (1451, 2), (1452, 2), (1453, 4), (1454, 1), (1455, 1), (1456, 2), (1457, 3), (1458, 1), (1459, 1), (1460, 1), (1461, 2), (1462, 2), (1463, 4), (1464, 2), (1465, 4), (1466, 1), (1467, 10), (1468, 2), (1469, 5), (1470, 1), (1471, 2), (1472, 2), (1473, 1), (1474, 5), (1475, 4), (1476, 2), (1477, 1), (1478, 1), (1479, 1), (1480, 1), (1481, 1), (1482, 1), (1483, 1), (1484, 1), (1485, 5), (1486, 2), (1487, 2), (1488, 3), (1489, 1), (1490, 12), (1491, 7), (1492, 5), (1493, 6), (1494, 2), (1495, 2), (1496, 2), (1497, 4), (1498, 9), (1499, 2), (1500, 2), (1501, 3), (1502, 1), (1503, 2), (1504, 1), (1505, 5), (1506, 1), (1507, 1), (1508, 1), (1509, 1), (1510, 1), (1511, 1), (1512, 1), (1513, 2), (1514, 3), (1515, 6), (1516, 1), (1517, 2), (1518, 9), (1519, 4), (1520, 2), (1521, 2), (1522, 1), (1523, 1), (1524, 7), (1525, 1), (1526, 1), (1527, 4), (1528, 1), (1529, 4), (1530, 8), (1531, 3), (1532, 3), (1533, 2), (1534, 1), (1535, 2), (1536, 1), (1537, 1), (1538, 2), (1539, 1), (1540, 3), (1541, 3), (1542, 2), (1543, 1), (1544, 2), (1545, 6), (1546, 8), (1547, 1), (1548, 2), (1549, 3), (1550, 3), (1551, 2), (1552, 2), (1553, 3), (1554, 1), (1555, 1), (1556, 1), (1557, 1), (1558, 1), (1559, 1), (1560, 1), (1561, 1), (1562, 1), (1563, 2), (1564, 1), (1565, 1), (1566, 4), (1567, 1), (1568, 1), (1569, 1), (1570, 3), (1571, 1), (1572, 3), (1573, 1), (1574, 1), (1575, 1), (1576, 1), (1577, 1), (1578, 8), (1579, 7), (1580, 1), (1581, 1), (1582, 3), (1583, 3), (1584, 3), (1585, 3), (1586, 3), (1587, 1), (1588, 8), (1589, 2), (1590, 2), (1591, 2), (1592, 2), (1593, 1), (1594, 3), (1595, 1), (1596, 4), (1597, 1), (1598, 1), (1599, 1), (1600, 5), (1601, 2), (1602, 2), (1603, 4), (1604, 4), (1605, 1), (1606, 1), (1607, 2), (1608, 2), (1609, 3), (1610, 5), (1611, 9), (1612, 4), (1613, 3), (1614, 1), (1615, 1), (1616, 12), (1617, 3), (1618, 1), (1619, 1), (1620, 2), (1621, 1), (1622, 2), (1623, 1), (1624, 1), (1625, 1), (1626, 1), (1627, 1), (1628, 1), (1629, 1), (1630, 1), (1631, 1), (1632, 2), (1633, 3), (1634, 9), (1635, 1), (1636, 1), (1637, 2), (1638, 6), (1639, 1), (1640, 2), (1641, 6), (1642, 2), (1643, 3), (1644, 1), (1645, 3), (1646, 9), (1647, 1), (1648, 2), (1649, 5), (1650, 1), (1651, 14), (1652, 2), (1653, 2), (1654, 1), (1655, 2), (1656, 1), (1657, 3), (1658, 1), (1659, 3), (1660, 1), (1661, 4), (1662, 1), (1663, 1), (1664, 1), (1665, 1), (1666, 2), (1667, 2), (1668, 1), (1669, 2), (1670, 5), (1671, 1), (1672, 5), (1673, 1), (1674, 1), (1675, 1), (1676, 1), (1677, 2), (1678, 1), (1679, 7), (1680, 1), (1681, 3), (1682, 2), (1683, 1), (1684, 2), (1685, 2), (1686, 2), (1687, 6), (1688, 1), (1689, 3), (1690, 7), (1691, 1), (1692, 1), (1693, 2), (1694, 2), (1695, 1), (1696, 2), (1697, 1), (1698, 3), (1699, 2), (1700, 1), (1701, 1), (1702, 1), (1703, 1), (1704, 2), (1705, 1), (1706, 1), (1707, 1), (1708, 2), (1709, 3), (1710, 1), (1711, 1), (1712, 1), (1713, 3), (1714, 1), (1715, 1), (1716, 1), (1717, 2), (1718, 1), (1719, 1), (1720, 1), (1721, 3), (1722, 1), (1723, 1), (1724, 2), (1725, 1), (1726, 1), (1727, 4), (1728, 1), (1729, 1), (1730, 1), (1731, 4), (1732, 1), (1733, 2), (1734, 1), (1735, 2), (1736, 3), (1737, 1), (1738, 4), (1739, 3), (1740, 1), (1741, 1), (1742, 1), (1743, 1), (1744, 1), (1745, 3), (1746, 1), (1747, 3), (1748, 2), (1749, 3), (1750, 5), (1751, 1), (1752, 1), (1753, 2), (1754, 1), (1755, 1), (1756, 1), (1757, 1), (1758, 1), (1759, 1), (1760, 1), (1761, 1), (1762, 2), (1763, 2), (1764, 9), (1765, 4), (1766, 1), (1767, 10), (1768, 1), (1769, 2), (1770, 2), (1771, 3), (1772, 2), (1773, 2), (1774, 1), (1775, 2), (1776, 1), (1777, 1), (1778, 3), (1779, 1), (1780, 4), (1781, 3), (1782, 2), (1783, 1), (1784, 8), (1785, 1), (1786, 1), (1787, 3), (1788, 9), (1789, 1), (1790, 1), (1791, 6), (1792, 4), (1793, 1), (1794, 3), (1795, 13), (1796, 2), (1797, 5), (1798, 3), (1799, 1), (1800, 1), (1801, 2), (1802, 1), (1803, 1), (1804, 1), (1805, 1), (1806, 1), (1807, 1), (1808, 2), (1809, 1), (1810, 1), (1811, 2), (1812, 1), (1813, 1), (1814, 2), (1815, 1), (1816, 2), (1817, 1), (1818, 1), (1819, 2), (1820, 3), (1821, 2), (1822, 1), (1823, 2), (1824, 1), (1825, 1), (1826, 1), (1827, 1), (1828, 1), (1829, 5), (1830, 2), (1831, 2), (1832, 16), (1833, 2), (1834, 2), (1835, 1), (1836, 3), (1837, 10), (1838, 10), (1839, 6), (1840, 1), (1841, 1), (1842, 1), (1843, 1), (1844, 1), (1845, 1), (1846, 7), (1847, 2), (1848, 1), (1849, 2), (1850, 1), (1851, 1), (1852, 1), (1853, 6), (1854, 5), (1855, 1), (1856, 2), (1857, 1), (1858, 2), (1859, 1), (1860, 1), (1861, 3), (1862, 1), (1863, 4), (1864, 6), (1865, 1), (1866, 3), (1867, 1), (1868, 4), (1869, 1), (1870, 1), (1871, 1), (1872, 1), (1873, 4), (1874, 6), (1875, 2), (1876, 1), (1877, 2), (1878, 2), (1879, 1), (1880, 1), (1881, 3), (1882, 1), (1883, 1), (1884, 1), (1885, 1), (1886, 1), (1887, 4), (1888, 1), (1889, 1), (1890, 1), (1891, 4), (1892, 4), (1893, 1), (1894, 1), (1895, 1), (1896, 2), (1897, 4), (1898, 4), (1899, 1), (1900, 1), (1901, 1), (1902, 1), (1903, 3), (1904, 1), (1905, 1), (1906, 1), (1907, 1), (1908, 2), (1909, 1), (1910, 2), (1911, 8), (1912, 4), (1913, 5), (1914, 1), (1915, 1), (1916, 3), (1917, 1), (1918, 1), (1919, 1), (1920, 1), (1921, 8), (1922, 2), (1923, 5), (1924, 1), (1925, 1), (1926, 2), (1927, 1), (1928, 4), (1929, 2), (1930, 1), (1931, 1), (1932, 1), (1933, 2), (1934, 1), (1935, 2), (1936, 2), (1937, 1), (1938, 3), (1939, 1), (1940, 1), (1941, 3), (1942, 1), (1943, 1), (1944, 1), (1945, 1), (1946, 10), (1947, 2), (1948, 2), (1949, 1), (1950, 2), (1951, 1), (1952, 1), (1953, 5), (1954, 3), (1955, 4), (1956, 1), (1957, 2), (1958, 3), (1959, 2), (1960, 1), (1961, 1), (1962, 4), (1963, 1), (1964, 1), (1965, 1), (1966, 3), (1967, 1), (1968, 1), (1969, 1), (1970, 3), (1971, 1), (1972, 1), (1973, 1), (1974, 1), (1975, 1), (1976, 2), (1977, 1), (1978, 1), (1979, 1), (1980, 1), (1981, 1), (1982, 1), (1983, 2), (1984, 1), (1985, 1), (1986, 2), (1987, 1), (1988, 3), (1989, 3), (1990, 1), (1991, 1), (1992, 4), (1993, 1), (1994, 1), (1995, 1), (1996, 1), (1997, 2), (1998, 3), (1999, 3), (2000, 2), (2001, 1), (2002, 5), (2003, 1), (2004, 2), (2005, 1), (2006, 6), (2007, 1), (2008, 2), (2009, 1), (2010, 1), (2011, 1), (2012, 1), (2013, 1), (2014, 9), (2015, 1), (2016, 2), (2017, 6), (2018, 1), (2019, 1), (2020, 4), (2021, 1), (2022, 3), (2023, 1), (2024, 2), (2025, 4), (2026, 4), (2027, 1), (2028, 4), (2029, 4), (2030, 2), (2031, 1), (2032, 1), (2033, 2), (2034, 6), (2035, 1), (2036, 1), (2037, 1), (2038, 1), (2039, 1), (2040, 3), (2041, 7), (2042, 1), (2043, 7), (2044, 2), (2045, 1), (2046, 1), (2047, 1), (2048, 1), (2049, 1), (2050, 1), (2051, 5), (2052, 1), (2053, 1), (2054, 6), (2055, 1), (2056, 1), (2057, 1), (2058, 1), (2059, 2), (2060, 1), (2061, 1), (2062, 8), (2063, 7), (2064, 13), (2065, 5), (2066, 1), (2067, 2), (2068, 4), (2069, 2), (2070, 3), (2071, 1), (2072, 1), (2073, 1), (2074, 1), (2075, 1), (2076, 2), (2077, 2), (2078, 5), (2079, 2), (2080, 1), (2081, 5), (2082, 1), (2083, 2), (2084, 2), (2085, 1), (2086, 2), (2087, 2), (2088, 1), (2089, 1), (2090, 1), (2091, 1), (2092, 1), (2093, 2), (2094, 1), (2095, 1), (2096, 3), (2097, 5), (2098, 1), (2099, 1), (2100, 2), (2101, 1), (2102, 4), (2103, 1), (2104, 1), (2105, 1), (2106, 3), (2107, 1), (2108, 2), (2109, 2), (2110, 2), (2111, 2), (2112, 1), (2113, 1), (2114, 1), (2115, 1), (2116, 1), (2117, 3), (2118, 4), (2119, 1), (2120, 4), (2121, 2), (2122, 2), (2123, 2), (2124, 1), (2125, 1), (2126, 1), (2127, 1), (2128, 1), (2129, 4), (2130, 1), (2131, 2), (2132, 2), (2133, 3), (2134, 6), (2135, 1), (2136, 2), (2137, 1), (2138, 1), (2139, 1), (2140, 1), (2141, 1), (2142, 1), (2143, 2), (2144, 2), (2145, 1), (2146, 2), (2147, 2), (2148, 2), (2149, 1), (2150, 1), (2151, 2), (2152, 1), (2153, 2), (2154, 2), (2155, 1), (2156, 1), (2157, 1), (2158, 1), (2159, 1), (2160, 1), (2161, 5), (2162, 2), (2163, 1), (2164, 1), (2165, 1), (2166, 1), (2167, 1), (2168, 1), (2169, 1), (2170, 1), (2171, 1), (2172, 1), (2173, 1), (2174, 1), (2175, 1), (2176, 3), (2177, 2), (2178, 1), (2179, 1), (2180, 2), (2181, 1), (2182, 1), (2183, 3), (2184, 3), (2185, 2), (2186, 1), (2187, 1), (2188, 1), (2189, 2), (2190, 3), (2191, 1), (2192, 2), (2193, 1), (2194, 3), (2195, 3), (2196, 1), (2197, 2), (2198, 1), (2199, 2), (2200, 3), (2201, 1), (2202, 2), (2203, 3), (2204, 1), (2205, 1), (2206, 1), (2207, 1), (2208, 1), (2209, 1), (2210, 2), (2211, 3), (2212, 3), (2213, 1), (2214, 1), (2215, 1), (2216, 1), (2217, 2), (2218, 3), (2219, 3), (2220, 1), (2221, 1), (2222, 2), (2223, 2), (2224, 1), (2225, 2), (2226, 2), (2227, 2), (2228, 2), (2229, 2), (2230, 1), (2231, 7), (2232, 2), (2233, 1), (2234, 1), (2235, 1), (2236, 1), (2237, 1), (2238, 1), (2239, 1), (2240, 1), (2241, 2), (2242, 2), (2243, 1), (2244, 2), (2245, 1), (2246, 1), (2247, 1), (2248, 3), (2249, 1), (2250, 2), (2251, 1), (2252, 1), (2253, 5), (2254, 1), (2255, 1), (2256, 1), (2257, 2), (2258, 1), (2259, 1), (2260, 4), (2261, 1), (2262, 1), (2263, 2), (2264, 1), (2265, 1), (2266, 1), (2267, 2), (2268, 2), (2269, 2), (2270, 1), (2271, 1), (2272, 1), (2273, 1), (2274, 1), (2275, 1), (2276, 1), (2277, 1), (2278, 1), (2279, 6), (2280, 2), (2281, 1), (2282, 1), (2283, 1), (2284, 1), (2285, 1), (2286, 2), (2287, 1), (2288, 1), (2289, 1), (2290, 1), (2291, 1), (2292, 7), (2293, 1), (2294, 1), (2295, 2), (2296, 1), (2297, 3), (2298, 1), (2299, 1), (2300, 1), (2301, 1), (2302, 2), (2303, 1), (2304, 1), (2305, 3), (2306, 1), (2307, 1), (2308, 2), (2309, 5), (2310, 1), (2311, 3), (2312, 1), (2313, 1), (2314, 2), (2315, 1), (2316, 1), (2317, 1), (2318, 1), (2319, 1), (2320, 3), (2321, 1), (2322, 1), (2323, 1), (2324, 1), (2325, 1), (2326, 3), (2327, 2), (2328, 1), (2329, 1), (2330, 1), (2331, 1), (2332, 1), (2333, 1), (2334, 2), (2335, 1), (2336, 1), (2337, 1), (2338, 1), (2339, 1), (2340, 1), (2341, 4), (2342, 3), (2343, 1), (2344, 2), (2345, 1), (2346, 2), (2347, 1), (2348, 1), (2349, 1), (2350, 3), (2351, 1), (2352, 2), (2353, 1), (2354, 1), (2355, 2), (2356, 1), (2357, 2), (2358, 1), (2359, 1), (2360, 1), (2361, 1), (2362, 2), (2363, 1), (2364, 1), (2365, 1), (2366, 4), (2367, 1), (2368, 2), (2369, 1), (2370, 1), (2371, 2), (2372, 2), (2373, 1), (2374, 1), (2375, 1), (2376, 1), (2377, 1), (2378, 1), (2379, 2), (2380, 1), (2381, 1), (2382, 1), (2383, 4), (2384, 1), (2385, 1), (2386, 2), (2387, 3), (2388, 1), (2389, 1), (2390, 2), (2391, 3), (2392, 1), (2393, 5), (2394, 1), (2395, 2), (2396, 1), (2397, 2), (2398, 2), (2399, 1), (2400, 1), (2401, 3), (2402, 2), (2403, 1), (2404, 1), (2405, 1), (2406, 1), (2407, 2), (2408, 3), (2409, 2), (2410, 1), (2411, 3), (2412, 2), (2413, 2), (2414, 1), (2415, 2), (2416, 1), (2417, 1), (2418, 1), (2419, 2), (2420, 1), (2421, 8), (2422, 1), (2423, 1), (2424, 1), (2425, 1), (2426, 5), (2427, 2), (2428, 1), (2429, 1), (2430, 1), (2431, 1), (2432, 1), (2433, 1), (2434, 1), (2435, 1), (2436, 1), (2437, 4), (2438, 1), (2439, 1), (2440, 2), (2441, 1), (2442, 1), (2443, 1), (2444, 1), (2445, 1), (2446, 1), (2447, 1), (2448, 1), (2449, 1), (2450, 1), (2451, 1), (2452, 6), (2453, 1), (2454, 1), (2455, 1), (2456, 2), (2457, 1), (2458, 1), (2459, 1), (2460, 1), (2461, 2), (2462, 1), (2463, 2), (2464, 1), (2465, 1), (2466, 2), (2467, 1), (2468, 1), (2469, 1), (2470, 1), (2471, 1), (2472, 4), (2473, 1), (2474, 1), (2475, 2), (2476, 1), (2477, 4), (2478, 1), (2479, 1), (2480, 1), (2481, 1), (2482, 1), (2483, 1), (2484, 1), (2485, 1), (2486, 2), (2487, 1), (2488, 1), (2489, 1), (2490, 1), (2491, 1), (2492, 1), (2493, 2), (2494, 1), (2495, 1), (2496, 3), (2497, 1), (2498, 1), (2499, 1), (2500, 1), (2501, 1), (2502, 1), (2503, 1), (2504, 1), (2505, 1), (2506, 1), (2507, 2), (2508, 1), (2509, 1), (2510, 1), (2511, 1), (2512, 1), (2513, 1), (2514, 1), (2515, 1), (2516, 1), (2517, 1), (2518, 1), (2519, 1), (2520, 1), (2521, 1), (2522, 1), (2523, 1), (2524, 1), (2525, 1), (2526, 1), (2527, 1), (2528, 1), (2529, 1), (2530, 1), (2531, 1), (2532, 1), (2533, 1), (2534, 1), (2535, 1), (2536, 1), (2537, 2), (2538, 1), (2539, 1), (2540, 1), (2541, 1), (2542, 1), (2543, 1), (2544, 1), (2545, 1), (2546, 1), (2547, 2), (2548, 1), (2549, 1), (2550, 2), (2551, 1), (2552, 2), (2553, 2), (2554, 1), (2555, 1), (2556, 1), (2557, 1), (2558, 1), (2559, 1), (2560, 1), (2561, 3), (2562, 1), (2563, 1), (2564, 1), (2565, 1), (2566, 1), (2567, 1), (2568, 1), (2569, 1), (2570, 2), (2571, 1), (2572, 1), (2573, 1), (2574, 1), (2575, 2), (2576, 1), (2577, 1), (2578, 1), (2579, 1), (2580, 1), (2581, 1), (2582, 2), (2583, 1), (2584, 1), (2585, 1), (2586, 1), (2587, 1), (2588, 1), (2589, 1), (2590, 1), (2591, 2), (2592, 1), (2593, 2), (2594, 1), (2595, 1), (2596, 1), (2597, 1), (2598, 1), (2599, 1), (2600, 2), (2601, 1), (2602, 1), (2603, 1), (2604, 1), (2605, 1), (2606, 1), (2607, 2), (2608, 3), (2609, 1), (2610, 1), (2611, 1), (2612, 1), (2613, 1), (2614, 2), (2615, 1), (2616, 1), (2617, 1), (2618, 1), (2619, 1), (2620, 1), (2621, 2), (2622, 1), (2623, 1), (2624, 1), (2625, 1), (2626, 1), (2627, 1), (2628, 1), (2629, 1), (2630, 1), (2631, 1), (2632, 2), (2633, 1), (2634, 1), (2635, 1), (2636, 1), (2637, 1), (2638, 1), (2639, 2), (2640, 1), (2641, 1), (2642, 1), (2643, 1), (2644, 1), (2645, 1), (2646, 2), (2647, 1), (2648, 1), (2649, 1), (2650, 1), (2651, 1), (2652, 1), (2653, 1), (2654, 2), (2655, 1), (2656, 1), (2657, 1), (2658, 1), (2659, 2), (2660, 1), (2661, 1), (2662, 1), (2663, 1), (2664, 1), (2665, 1), (2666, 2), (2667, 1), (2668, 1), (2669, 1), (2670, 1), (2671, 1), (2672, 1), (2673, 1), (2674, 1), (2675, 2), (2676, 2), (2677, 1), (2678, 2), (2679, 1), (2680, 1), (2681, 1), (2682, 1), (2683, 2), (2684, 1), (2685, 1), (2686, 1), (2687, 1), (2688, 1), (2689, 1), (2690, 1), (2691, 1), (2692, 1), (2693, 1), (2694, 1), (2695, 1), (2696, 1), (2697, 1), (2698, 1), (2699, 1), (2700, 1), (2701, 1), (2702, 1), (2703, 2), (2704, 1), (2705, 1), (2706, 1), (2707, 2), (2708, 2), (2709, 1), (2710, 1), (2711, 1), (2712, 1), (2713, 1), (2714, 1), (2715, 1), (2716, 1), (2717, 2), (2718, 2), (2719, 1), (2720, 1), (2721, 1), (2722, 1), (2723, 1), (2724, 1), (2725, 1), (2726, 1), (2727, 1), (2728, 2), (2729, 1), (2730, 1), (2731, 1), (2732, 1), (2733, 1), (2734, 1), (2735, 1), (2736, 1), (2737, 2), (2738, 1), (2739, 1), (2740, 1), (2741, 1), (2742, 1), (2743, 1), (2744, 2), (2745, 1), (2746, 2), (2747, 1), (2748, 1), (2749, 1), (2750, 1), (2751, 1), (2752, 1), (2753, 1), (2754, 1), (2755, 1), (2756, 1), (2757, 1), (2758, 1), (2759, 1), (2760, 1), (2761, 1), (2762, 1), (2763, 1), (2764, 1), (2765, 1), (2766, 1), (2767, 2), (2768, 1), (2769, 1), (2770, 1), (2771, 1), (2772, 1), (2773, 1), (2774, 1), (2775, 2), (2776, 1), (2777, 1), (2778, 2), (2779, 1), (2780, 1), (2781, 1), (2782, 1), (2783, 1), (2784, 1), (2785, 1), (2786, 1), (2787, 1), (2788, 1), (2789, 1), (2790, 1), (2791, 1), (2792, 1), (2793, 1), (2794, 1), (2795, 1), (2796, 1), (2797, 1), (2798, 2), (2799, 2), (2800, 1), (2801, 1), (2802, 2), (2803, 2), (2804, 1), (2805, 1), (2806, 1), (2807, 1), (2808, 1), (2809, 1), (2810, 1), (2811, 2), (2812, 1), (2813, 1), (2814, 1), (2815, 1), (2816, 1), (2817, 2), (2818, 1), (2819, 2), (2820, 1), (2821, 1), (2822, 2), (2823, 1), (2824, 1), (2825, 1), (2826, 1), (2827, 1), (2828, 1), (2829, 1), (2830, 1), (2831, 1), (2832, 1), (2833, 1), (2834, 1), (2835, 1), (2836, 1), (2837, 1), (2838, 1), (2839, 1), (2840, 1), (2841, 1), (2842, 1), (2843, 1), (2844, 1), (2845, 1), (2846, 1), (2847, 1), (2848, 1), (2849, 1), (2850, 1), (2851, 1), (2852, 1), (2853, 1), (2854, 1), (2855, 1), (2856, 1), (2857, 1), (2858, 1), (2859, 1), (2860, 1), (2861, 1), (2862, 1), (2863, 1), (2864, 1), (2865, 1), (2866, 1), (2867, 2), (2868, 1), (2869, 1), (2870, 1), (2871, 1), (2872, 1), (2873, 1), (2874, 1), (2875, 1), (2876, 1), (2877, 1), (2878, 1), (2879, 1), (2880, 1), (2881, 1), (2882, 1), (2883, 1), (2884, 1), (2885, 1), (2886, 1), (2887, 1), (2888, 1), (2889, 1), (2890, 1), (2891, 2), (2892, 1), (2893, 1), (2894, 2), (2895, 1), (2896, 1), (2897, 1), (2898, 1), (2899, 1), (2900, 1), (2901, 1), (2902, 1), (2903, 1), (2904, 1), (2905, 1), (2906, 1), (2907, 1), (2908, 1), (2909, 1), (2910, 1), (2911, 1), (2912, 1), (2913, 1), (2914, 1), (2915, 1), (2916, 1), (2917, 1), (2918, 1), (2919, 1), (2920, 1), (2921, 1), (2922, 2), (2923, 1), (2924, 1), (2925, 1), (2926, 1), (2927, 1), (2928, 1), (2929, 1), (2930, 1), (2931, 1)]\n"
     ]
    }
   ],
   "source": [
    "print(corpus[0])"
   ]
  },
  {
   "cell_type": "markdown",
   "metadata": {},
   "source": [
    "# Applying the LDA model:"
   ]
  },
  {
   "cell_type": "code",
   "execution_count": 63,
   "metadata": {
    "collapsed": true
   },
   "outputs": [],
   "source": [
    "import gensim"
   ]
  },
  {
   "cell_type": "code",
   "execution_count": 84,
   "metadata": {},
   "outputs": [],
   "source": [
    "ldamodel = gensim.models.ldamodel.LdaModel(corpus, num_topics=5, id2word = dictionary, passes=20)"
   ]
  },
  {
   "cell_type": "code",
   "execution_count": 85,
   "metadata": {},
   "outputs": [
    {
     "name": "stdout",
     "output_type": "stream",
     "text": [
      "[(0, '0.046*\"glacier\" + 0.020*\"ice\" + 0.014*\"walk\" + 0.010*\"tour\" + 0.010*\"take\" + 0.010*\"get\" + 0.010*\"bu\" + 0.009*\"experi\" + 0.009*\"time\" + 0.009*\"see\"'), (1, '0.032*\"canyon\" + 0.023*\"walk\" + 0.021*\"bridg\" + 0.016*\"hike\" + 0.011*\"trail\" + 0.010*\"see\" + 0.010*\"malign\" + 0.010*\"can\" + 0.010*\"beauti\" + 0.009*\"view\"'), (2, '0.039*\"fall\" + 0.016*\"walk\" + 0.014*\"view\" + 0.014*\"see\" + 0.013*\"stop\" + 0.013*\"water\" + 0.012*\"beauti\" + 0.012*\"park\" + 0.011*\"jasper\" + 0.011*\"worth\"'), (3, '0.055*\"lake\" + 0.013*\"beauti\" + 0.013*\"island\" + 0.013*\"pyramid\" + 0.012*\"boat\" + 0.012*\"jasper\" + 0.011*\"view\" + 0.010*\"mountain\" + 0.009*\"walk\" + 0.009*\"drive\"'), (4, '0.000*\"ice\" + 0.000*\"glacier\" + 0.000*\"get\" + 0.000*\"walk\" + 0.000*\"view\" + 0.000*\"time\" + 0.000*\"hike\" + 0.000*\"worth\" + 0.000*\"take\" + 0.000*\"visit\"')]\n"
     ]
    }
   ],
   "source": [
    "print(ldamodel.print_topics(num_topics=5, num_words=10))"
   ]
  },
  {
   "cell_type": "markdown",
   "metadata": {},
   "source": [
    "# This is a different way:"
   ]
  },
  {
   "cell_type": "code",
   "execution_count": 86,
   "metadata": {},
   "outputs": [
    {
     "name": "stdout",
     "output_type": "stream",
     "text": [
      "Number of unique tokens: 9831\n",
      "Number of documents: 10\n"
     ]
    }
   ],
   "source": [
    "print('Number of unique tokens: %d' % len(dictionary))\n",
    "print('Number of documents: %d' % len(corpus))"
   ]
  },
  {
   "cell_type": "code",
   "execution_count": 87,
   "metadata": {},
   "outputs": [
    {
     "name": "stdout",
     "output_type": "stream",
     "text": [
      "Wall time: 21.5 s\n"
     ]
    }
   ],
   "source": [
    "# Train LDA model.\n",
    "\n",
    "from gensim.models import LdaModel\n",
    "\n",
    "# Set training parameters.\n",
    "num_topics = 5\n",
    "chunksize = 2000\n",
    "passes = 20\n",
    "iterations = 400\n",
    "eval_every = None  # Don't evaluate model perplexity, takes too much time.\n",
    "\n",
    "# Make a index to word dictionary.\n",
    "temp = dictionary[0]  # This is only to \"load\" the dictionary.\n",
    "id2word = dictionary.id2token\n",
    "\n",
    "%time model = LdaModel(corpus=corpus, id2word=id2word, chunksize=chunksize, \\\n",
    "                       alpha='auto', eta='auto', \\\n",
    "                       iterations=iterations, num_topics=num_topics, \\\n",
    "                       passes=passes, eval_every=eval_every)"
   ]
  },
  {
   "cell_type": "code",
   "execution_count": 88,
   "metadata": {},
   "outputs": [
    {
     "name": "stdout",
     "output_type": "stream",
     "text": [
      "Average topic coherence: -0.0322.\n",
      "[([(0.042951890230040021, 'fall'),\n",
      "   (0.017131478787768988, 'walk'),\n",
      "   (0.015029464281926773, 'see'),\n",
      "   (0.014434979822792992, 'stop'),\n",
      "   (0.014243210052263588, 'water'),\n",
      "   (0.013414195751311321, 'view'),\n",
      "   (0.012955744848990203, 'beauti'),\n",
      "   (0.011640424746880757, 'park'),\n",
      "   (0.011233877523738429, 'worth'),\n",
      "   (0.010864770707109676, 'jasper')],\n",
      "  1.0000889005818412e-12),\n",
      " ([(0.038930774445585813, 'lake'),\n",
      "   (0.014796729929974701, 'pyramid'),\n",
      "   (0.014356917845191115, 'view'),\n",
      "   (0.012698205002725629, 'jasper'),\n",
      "   (0.012366980049533538, 'trail'),\n",
      "   (0.012185370296249448, 'hike'),\n",
      "   (0.012025600880949068, 'mountain'),\n",
      "   (0.011349840002245414, 'beauti'),\n",
      "   (0.011003265410957364, 'walk'),\n",
      "   (0.0088463287082498638, 'can')],\n",
      "  -0.015403270677909833),\n",
      " ([(0.044554937064006192, 'glacier'),\n",
      "   (0.019552077173471231, 'ice'),\n",
      "   (0.014691224507809035, 'walk'),\n",
      "   (0.010197454280777131, 'tour'),\n",
      "   (0.010102695977015871, 'take'),\n",
      "   (0.010086040652012461, 'get'),\n",
      "   (0.0091844805926845421, 'bu'),\n",
      "   (0.0089078539112488701, 'see'),\n",
      "   (0.008728339086010381, 'experi'),\n",
      "   (0.0087170839625350122, 'time')],\n",
      "  -0.021348159130488081),\n",
      " ([(0.029362350825314586, 'canyon'),\n",
      "   (0.022228328637109787, 'walk'),\n",
      "   (0.019883921293947927, 'bridg'),\n",
      "   (0.015336862371861335, 'hike'),\n",
      "   (0.010737057716228451, 'trail'),\n",
      "   (0.010617067848721481, 'see'),\n",
      "   (0.0096779318828097028, 'beauti'),\n",
      "   (0.0096531186104368907, 'view'),\n",
      "   (0.0096417861482261634, 'can'),\n",
      "   (0.0090582662673097097, 'malign')],\n",
      "  -0.04228736546935874),\n",
      " ([(0.040543793806039605, 'lake'),\n",
      "   (0.015236692009961717, 'boat'),\n",
      "   (0.011902162622521899, 'beauti'),\n",
      "   (0.010504361359556803, 'malign'),\n",
      "   (0.010146433661243433, 'island'),\n",
      "   (0.0091658470334657714, 'take'),\n",
      "   (0.0090577940336050242, 'spirit'),\n",
      "   (0.009043660781934219, 'view'),\n",
      "   (0.008805898116439578, 'see'),\n",
      "   (0.008665256168179503, 'trip')],\n",
      "  -0.081788771211543806)]\n"
     ]
    }
   ],
   "source": [
    "top_topics = model.top_topics(corpus, dictionary, coherence='u_mass', topn=10, processes=-1)\n",
    "\n",
    "# Average topic coherence is the sum of topic coherences of all topics, divided by the number of topics.\n",
    "avg_topic_coherence = sum([t[1] for t in top_topics]) / num_topics\n",
    "print('Average topic coherence: %.4f.' % avg_topic_coherence)\n",
    "\n",
    "from pprint import pprint\n",
    "pprint(top_topics)"
   ]
  },
  {
   "cell_type": "code",
   "execution_count": 89,
   "metadata": {},
   "outputs": [
    {
     "name": "stdout",
     "output_type": "stream",
     "text": [
      "[(0,\n",
      "  '0.029*\"canyon\" + 0.022*\"walk\" + 0.020*\"bridg\" + 0.015*\"hike\" + '\n",
      "  '0.011*\"trail\" + 0.011*\"see\" + 0.010*\"beauti\" + 0.010*\"view\" + 0.010*\"can\" + '\n",
      "  '0.009*\"malign\"'),\n",
      " (1,\n",
      "  '0.039*\"lake\" + 0.015*\"pyramid\" + 0.014*\"view\" + 0.013*\"jasper\" + '\n",
      "  '0.012*\"trail\" + 0.012*\"hike\" + 0.012*\"mountain\" + 0.011*\"beauti\" + '\n",
      "  '0.011*\"walk\" + 0.009*\"can\"'),\n",
      " (2,\n",
      "  '0.041*\"lake\" + 0.015*\"boat\" + 0.012*\"beauti\" + 0.011*\"malign\" + '\n",
      "  '0.010*\"island\" + 0.009*\"take\" + 0.009*\"spirit\" + 0.009*\"view\" + 0.009*\"see\" '\n",
      "  '+ 0.009*\"trip\"'),\n",
      " (3,\n",
      "  '0.045*\"glacier\" + 0.020*\"ice\" + 0.015*\"walk\" + 0.010*\"tour\" + 0.010*\"take\" '\n",
      "  '+ 0.010*\"get\" + 0.009*\"bu\" + 0.009*\"see\" + 0.009*\"experi\" + 0.009*\"time\"'),\n",
      " (4,\n",
      "  '0.043*\"fall\" + 0.017*\"walk\" + 0.015*\"see\" + 0.014*\"stop\" + 0.014*\"water\" + '\n",
      "  '0.013*\"view\" + 0.013*\"beauti\" + 0.012*\"park\" + 0.011*\"worth\" + '\n",
      "  '0.011*\"jasper\"')]\n"
     ]
    }
   ],
   "source": [
    "top_topics = model.show_topics(num_topics=5, num_words=10, log=False, formatted=True)\n",
    "\n",
    "\n",
    "from pprint import pprint\n",
    "pprint(top_topics)"
   ]
  },
  {
   "cell_type": "code",
   "execution_count": null,
   "metadata": {
    "collapsed": true
   },
   "outputs": [],
   "source": []
  }
 ],
 "metadata": {
  "kernelspec": {
   "display_name": "Python 3",
   "language": "python",
   "name": "python3"
  },
  "language_info": {
   "codemirror_mode": {
    "name": "ipython",
    "version": 3
   },
   "file_extension": ".py",
   "mimetype": "text/x-python",
   "name": "python",
   "nbconvert_exporter": "python",
   "pygments_lexer": "ipython3",
   "version": "3.6.3"
  }
 },
 "nbformat": 4,
 "nbformat_minor": 2
}
