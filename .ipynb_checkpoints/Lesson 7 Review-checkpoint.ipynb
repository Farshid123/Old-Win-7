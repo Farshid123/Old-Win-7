{
 "cells": [
  {
   "cell_type": "code",
   "execution_count": 1,
   "metadata": {},
   "outputs": [
    {
     "name": "stdout",
     "output_type": "stream",
     "text": [
      " Volume in drive C has no label.\n",
      " Volume Serial Number is 5682-6DAE\n",
      "\n",
      " Directory of C:\\Users\\Papar\n",
      "\n",
      "14/10/2017  02:25 AM    <DIR>          .\n",
      "14/10/2017  02:25 AM    <DIR>          ..\n",
      "15/09/2017  09:27 PM    <DIR>          .anaconda\n",
      "27/06/2017  01:01 PM    <DIR>          .cisco\n",
      "12/10/2017  11:10 PM    <DIR>          .conda\n",
      "14/10/2017  05:01 PM                43 .condarc\n",
      "13/10/2017  01:28 PM    <DIR>          .ipynb_checkpoints\n",
      "18/09/2017  03:59 PM    <DIR>          .ipython\n",
      "22/09/2017  12:25 PM    <DIR>          .jupyter\n",
      "22/05/2017  11:00 AM    <DIR>          .spss\n",
      "15/09/2017  09:19 PM    <DIR>          Anaconda3\n",
      "24/09/2017  08:34 PM    <DIR>          AnacondaProjects\n",
      "03/10/2017  02:36 AM               124 bigdata\n",
      "03/10/2017  02:39 AM               124 bigdata.txt\n",
      "13/05/2017  10:30 AM    <DIR>          Contacts\n",
      "14/10/2017  04:41 PM    <DIR>          Desktop\n",
      "15/09/2017  09:19 PM    <DIR>          Documents\n",
      "14/10/2017  01:54 PM    <DIR>          Downloads\n",
      "13/05/2017  10:30 AM    <DIR>          Favorites\n",
      "25/09/2017  03:52 PM           490,278 HOMEWORK 1.ipynb\n",
      "03/10/2017  03:06 AM         1,391,706 Homework 3 - Website.ipynb\n",
      "29/09/2017  10:58 AM    <DIR>          HUCO617\n",
      "13/10/2017  01:22 PM            31,003 Learn Python.ipynb\n",
      "14/10/2017  02:25 AM            15,211 Lesson 7 Review.ipynb\n",
      "13/05/2017  10:30 AM    <DIR>          Links\n",
      "13/05/2017  10:30 AM    <DIR>          Music\n",
      "13/05/2017  10:30 AM    <DIR>          Pictures\n",
      "13/05/2017  12:45 PM               473 rarreg.key\n",
      "13/10/2017  01:44 PM             1,252 realConcordance.txt\n",
      "13/05/2017  10:30 AM    <DIR>          Saved Games\n",
      "13/05/2017  10:30 AM    <DIR>          Searches\n",
      "25/09/2017  03:01 PM               620 story.txt\n",
      "03/10/2017  03:04 AM               208 truthConcordance.txt\n",
      "03/10/2017  02:35 AM                 0 untitled\n",
      "18/09/2017  05:47 PM            12,315 Untitled.ipynb\n",
      "03/10/2017  03:48 AM             7,042 Untitled1.ipynb\n",
      "24/09/2017  09:26 PM               398 Untitled1.py\n",
      "13/05/2017  10:30 AM    <DIR>          Videos\n",
      "13/10/2017  01:30 PM               126 Website list\n",
      "13/10/2017  01:32 PM               126 Website list.txt\n",
      "              17 File(s)      1,951,049 bytes\n",
      "              23 Dir(s)  18,735,001,600 bytes free\n"
     ]
    }
   ],
   "source": [
    "%ls"
   ]
  },
  {
   "cell_type": "code",
   "execution_count": 2,
   "metadata": {},
   "outputs": [
    {
     "name": "stdout",
     "output_type": "stream",
     "text": [
      " Volume in drive C has no label.\n",
      " Volume Serial Number is 5682-6DAE\n",
      "\n",
      " Directory of C:\\Users\\Papar\n",
      "\n",
      "14/10/2017  02:25 AM    <DIR>          .\n",
      "14/10/2017  02:25 AM    <DIR>          ..\n",
      "15/09/2017  09:27 PM    <DIR>          .anaconda\n",
      "27/06/2017  01:01 PM    <DIR>          .cisco\n",
      "12/10/2017  11:10 PM    <DIR>          .conda\n",
      "14/10/2017  05:01 PM                43 .condarc\n",
      "13/10/2017  01:28 PM    <DIR>          .ipynb_checkpoints\n",
      "18/09/2017  03:59 PM    <DIR>          .ipython\n",
      "22/09/2017  12:25 PM    <DIR>          .jupyter\n",
      "22/05/2017  11:00 AM    <DIR>          .spss\n",
      "15/09/2017  09:19 PM    <DIR>          Anaconda3\n",
      "24/09/2017  08:34 PM    <DIR>          AnacondaProjects\n",
      "03/10/2017  02:36 AM               124 bigdata\n",
      "03/10/2017  02:39 AM               124 bigdata.txt\n",
      "13/05/2017  10:30 AM    <DIR>          Contacts\n",
      "14/10/2017  04:41 PM    <DIR>          Desktop\n",
      "15/09/2017  09:19 PM    <DIR>          Documents\n",
      "14/10/2017  01:54 PM    <DIR>          Downloads\n",
      "13/05/2017  10:30 AM    <DIR>          Favorites\n",
      "25/09/2017  03:52 PM           490,278 HOMEWORK 1.ipynb\n",
      "03/10/2017  03:06 AM         1,391,706 Homework 3 - Website.ipynb\n",
      "29/09/2017  10:58 AM    <DIR>          HUCO617\n",
      "13/10/2017  01:22 PM            31,003 Learn Python.ipynb\n",
      "14/10/2017  02:25 AM            15,211 Lesson 7 Review.ipynb\n",
      "13/05/2017  10:30 AM    <DIR>          Links\n",
      "13/05/2017  10:30 AM    <DIR>          Music\n",
      "13/05/2017  10:30 AM    <DIR>          Pictures\n",
      "13/05/2017  12:45 PM               473 rarreg.key\n",
      "13/10/2017  01:44 PM             1,252 realConcordance.txt\n",
      "13/05/2017  10:30 AM    <DIR>          Saved Games\n",
      "13/05/2017  10:30 AM    <DIR>          Searches\n",
      "25/09/2017  03:01 PM               620 story.txt\n",
      "03/10/2017  03:04 AM               208 truthConcordance.txt\n",
      "03/10/2017  02:35 AM                 0 untitled\n",
      "18/09/2017  05:47 PM            12,315 Untitled.ipynb\n",
      "03/10/2017  03:48 AM             7,042 Untitled1.ipynb\n",
      "24/09/2017  09:26 PM               398 Untitled1.py\n",
      "13/05/2017  10:30 AM    <DIR>          Videos\n",
      "13/10/2017  01:30 PM               126 Website list\n",
      "13/10/2017  01:32 PM               126 Website list.txt\n",
      "              17 File(s)      1,951,049 bytes\n",
      "              23 Dir(s)  18,735,005,696 bytes free\n"
     ]
    }
   ],
   "source": [
    "%ls"
   ]
  },
  {
   "cell_type": "code",
   "execution_count": 3,
   "metadata": {},
   "outputs": [
    {
     "data": {
      "text/plain": [
       "['https://en.wikipedia.org/wiki/Big_data',\n",
       " 'http://www.ucl.ac.uk/bigdata-theory/',\n",
       " 'https://simons.berkeley.edu/programs/bigdata2013']"
      ]
     },
     "execution_count": 3,
     "metadata": {},
     "output_type": "execute_result"
    }
   ],
   "source": [
    "with open(\"bigdata.txt\", \"r\") as file:\n",
    "    theURLs = file.read()\n",
    "    \n",
    "theList = theURLs.splitlines()\n",
    "theList[:3]"
   ]
  },
  {
   "cell_type": "code",
   "execution_count": 4,
   "metadata": {},
   "outputs": [
    {
     "data": {
      "text/plain": [
       "['https://en.wikipedia.org/wiki/Big_data',\n",
       " 'http://www.ucl.ac.uk/bigdata-theory/',\n",
       " 'https://simons.berkeley.edu/programs/bigdata2013']"
      ]
     },
     "execution_count": 4,
     "metadata": {},
     "output_type": "execute_result"
    }
   ],
   "source": [
    "theListOfURLs = []\n",
    "for line in theList:\n",
    "    theListOfURLs.append(line) \n",
    "    \n",
    "theListOfURLs[:3]"
   ]
  },
  {
   "cell_type": "code",
   "execution_count": 5,
   "metadata": {
    "collapsed": true
   },
   "outputs": [],
   "source": [
    "import urllib.request\n",
    "\n",
    "def getURL(theURL):\n",
    "    path = theURL\n",
    "    with urllib.request.urlopen(path) as response:\n",
    "        fullText = response.read().decode('utf-8')\n",
    "    return fullText"
   ]
  },
  {
   "cell_type": "code",
   "execution_count": 6,
   "metadata": {},
   "outputs": [
    {
     "data": {
      "text/plain": [
       "425383"
      ]
     },
     "execution_count": 6,
     "metadata": {},
     "output_type": "execute_result"
    }
   ],
   "source": [
    "theFullText = \"\"\n",
    "for link in theList:\n",
    "    theFullText += link\n",
    "    theFullText += \"\\n--------------------------------------------------------\\n\"\n",
    "    theFullText += getURL(link)\n",
    "    \n",
    "len(theFullText)"
   ]
  },
  {
   "cell_type": "code",
   "execution_count": 7,
   "metadata": {
    "collapsed": true
   },
   "outputs": [],
   "source": [
    "def pullText(index,what):\n",
    "    leftInd = index - 50\n",
    "    rightInd = index + 50\n",
    "    theFound = what[leftInd:rightInd].replace(\"\\r\\n\",\" \")\n",
    "    return theFound"
   ]
  },
  {
   "cell_type": "code",
   "execution_count": 8,
   "metadata": {},
   "outputs": [
    {
     "name": "stdout",
     "output_type": "stream",
     "text": [
      "What word do you want a concordance for? fun\n",
      "/script>\n",
      "<script>(window.RLQ=window.RLQ||[]).push(function(){mw.config.set({\"wgCanonicalNamespace\":\"\n",
      "\n",
      "ntralNoticeCategoriesUsingLegacy\":[\"Fundraising\",\"fundraising\"],\"wgCategoryTreePageCategoryOptions\":\n",
      "\n",
      "eady\"});mw.loader.implement(\"user.tokens@1dqfd7l\",function ( $, jQuery, require, module ) {\n",
      "mw.user.\n",
      "\n",
      "\">Topological Data Analysis</a> program seeks the fundamental structure of massive data sets and in \n",
      "\n",
      "ote-129\">[129]</a></sup> The AMPLab also received funds from <a href=\"/wiki/DARPA\" title=\"DARPA\">DAR\n",
      "\n",
      "he Department of Energy to provide $25 million in funding over 5 years to establish the Scalable Dat\n",
      "\n",
      "s Big Data Initiative in May 2012, which provides funding from the state government and private comp\n",
      "\n",
      "ombining government, corporate, and institutional funding and research efforts.<sup id=\"cite_ref-134\n",
      "\n",
      "[134]</a></sup></p>\n",
      "<p>The European Commission is funding the 2-year-long Big Data Public Private Fo\n",
      "\n",
      "eviously did not exist. Hence, there is a need to fundamentally change the processing ways.<sup id=\"\n",
      "\n",
      "s\n",
      "Highest expansion depth: 20/40\n",
      "Expensive parser function count: 11/500\n",
      "Lua time usage: 0.645/10.00\n",
      "\n",
      "</div>\n",
      "\t\t<script>(window.RLQ=window.RLQ||[]).push(function(){mw.config.set({\"wgPageParseReport\":{\"li\n",
      "\n",
      "expansiondepth\":{\"value\":20,\"limit\":40},\"expensivefunctioncount\":{\"value\":11,\"limit\":500},\"entityacc\n",
      "\n",
      "</script><script>(window.RLQ=window.RLQ||[]).push(function(){mw.config.set({\"wgBackendResponseTime\":\n",
      "\n",
      "i></i></a>\n",
      "\t\t\t\t\t</div>\n",
      "\t\t</div>\t</div>\n",
      "\t\n",
      "<script>\n",
      "function loopfit(){\n",
      "\t\tvar $loop = jQuery('.vantage\n",
      "\n",
      "H = 0;\n",
      "\t\t\t\t}\n",
      "\t\t\t}\n",
      "\t\t}\n",
      "}\n",
      "\n",
      "//jQuery( window ).load( function() {\n",
      "//\t\tloopfit();\n",
      "//\t} );\n",
      "\n",
      "jQuery( docum\n",
      "\n",
      "//\t\tloopfit();\n",
      "//\t} );\n",
      "\n",
      "jQuery( document ).ready( function( $ ) {\n",
      "\t\n",
      "\tloopfit();\n",
      "\t\n",
      "\t// Check viewport\n",
      "\n",
      " resizes the browser window.\n",
      "\t$( window ).resize( function() {\n",
      "\t\tloopfit();\n",
      "\t} );\n",
      "} );\n",
      "</script></di\n",
      "\n",
      "anel-last-child\" id=\"panel-home-4-0-1\">\n",
      "\n",
      "<script>\n",
      "function loopfit(){\n",
      "\t\tvar $loop = jQuery('.vantage\n",
      "\n",
      "H = 0;\n",
      "\t\t\t\t}\n",
      "\t\t\t}\n",
      "\t\t}\n",
      "}\n",
      "\n",
      "//jQuery( window ).load( function() {\n",
      "//\t\tloopfit();\n",
      "//\t} );\n",
      "\n",
      "jQuery( docum\n",
      "\n",
      "//\t\tloopfit();\n",
      "//\t} );\n",
      "\n",
      "jQuery( document ).ready( function( $ ) {\n",
      "\t\n",
      "\tloopfit();\n",
      "\t\n",
      "\t// Check viewport\n",
      "\n",
      " resizes the browser window.\n",
      "\t$( window ).resize( function() {\n",
      "\t\tloopfit();\n",
      "\t} );\n",
      "} );\n",
      "</script></di\n",
      "\n",
      "ets -->\n",
      "\n",
      "\t\t\t<div id=\"site-info\">\n",
      "\t\t\tThis event is funded through the <a href=\"http://www.ucl.ac.uk/b\n",
      "\n",
      "pvyLnF6N-kjAeKQHYeXR8r1yDA.js\"></script>\n",
      "<script>(function(i,s,o,g,r,a,m){i[\"GoogleAnalyticsObject\"]\n",
      "\n",
      ",g,r,a,m){i[\"GoogleAnalyticsObject\"]=r;i[r]=i[r]||function(){(i[r].q=i[r].q||[]).push(arguments)},i[\n",
      "\n",
      "\n"
     ]
    }
   ],
   "source": [
    "word2find = input(\"What word do you want a concordance for? \").lower()\n",
    "theRange = range(theFullText.count(word2find)) \n",
    "\n",
    "theLocation = theFullText.find(word2find,0)\n",
    "theConc = \"\"\n",
    "for instance in theRange:\n",
    "    theConc += pullText(theLocation,theFullText) + \"\\n\\n\"\n",
    "    theLocation = theFullText.find(word2find,theLocation + 1)\n",
    "    \n",
    "print(theConc)"
   ]
  },
  {
   "cell_type": "code",
   "execution_count": 18,
   "metadata": {
    "collapsed": true
   },
   "outputs": [],
   "source": [
    "nameOfConc = word2find + \"Concordance.txt\"\n",
    "\n",
    "with open(nameOfConc, \"w\") as file:\n",
    "    file.write(theConc)"
   ]
  },
  {
   "cell_type": "code",
   "execution_count": 19,
   "metadata": {},
   "outputs": [
    {
     "name": "stdout",
     "output_type": "stream",
     "text": [
      " Volume in drive C has no label.\n",
      " Volume Serial Number is 5682-6DAE\n",
      "\n",
      " Directory of C:\\Users\\Papar\n",
      "\n",
      "14/10/2017  05:05 PM    <DIR>          .\n",
      "14/10/2017  05:05 PM    <DIR>          ..\n",
      "15/09/2017  09:27 PM    <DIR>          .anaconda\n",
      "27/06/2017  01:01 PM    <DIR>          .cisco\n",
      "12/10/2017  11:10 PM    <DIR>          .conda\n",
      "14/10/2017  05:01 PM                43 .condarc\n",
      "13/10/2017  01:28 PM    <DIR>          .ipynb_checkpoints\n",
      "18/09/2017  03:59 PM    <DIR>          .ipython\n",
      "22/09/2017  12:25 PM    <DIR>          .jupyter\n",
      "22/05/2017  11:00 AM    <DIR>          .spss\n",
      "15/09/2017  09:19 PM    <DIR>          Anaconda3\n",
      "24/09/2017  08:34 PM    <DIR>          AnacondaProjects\n",
      "03/10/2017  02:36 AM               124 bigdata\n",
      "03/10/2017  02:39 AM               124 bigdata.txt\n",
      "13/05/2017  10:30 AM    <DIR>          Contacts\n",
      "14/10/2017  04:41 PM    <DIR>          Desktop\n",
      "15/09/2017  09:19 PM    <DIR>          Documents\n",
      "14/10/2017  01:54 PM    <DIR>          Downloads\n",
      "13/05/2017  10:30 AM    <DIR>          Favorites\n",
      "14/10/2017  05:05 PM             2,665 funConcordance.txt\n",
      "25/09/2017  03:52 PM           490,278 HOMEWORK 1.ipynb\n",
      "03/10/2017  03:06 AM         1,391,706 Homework 3 - Website.ipynb\n",
      "29/09/2017  10:58 AM    <DIR>          HUCO617\n",
      "13/10/2017  01:22 PM            31,003 Learn Python.ipynb\n",
      "14/10/2017  02:25 AM            15,211 Lesson 7 Review.ipynb\n",
      "13/05/2017  10:30 AM    <DIR>          Links\n",
      "13/05/2017  10:30 AM    <DIR>          Music\n",
      "13/05/2017  10:30 AM    <DIR>          Pictures\n",
      "13/05/2017  12:45 PM               473 rarreg.key\n",
      "13/10/2017  01:44 PM             1,252 realConcordance.txt\n",
      "13/05/2017  10:30 AM    <DIR>          Saved Games\n",
      "13/05/2017  10:30 AM    <DIR>          Searches\n",
      "25/09/2017  03:01 PM               620 story.txt\n",
      "03/10/2017  03:04 AM               208 truthConcordance.txt\n",
      "03/10/2017  02:35 AM                 0 untitled\n",
      "18/09/2017  05:47 PM            12,315 Untitled.ipynb\n",
      "03/10/2017  03:48 AM             7,042 Untitled1.ipynb\n",
      "24/09/2017  09:26 PM               398 Untitled1.py\n",
      "13/05/2017  10:30 AM    <DIR>          Videos\n",
      "13/10/2017  01:30 PM               126 Website list\n",
      "13/10/2017  01:32 PM               126 Website list.txt\n",
      "              18 File(s)      1,953,714 bytes\n",
      "              23 Dir(s)  18,734,981,120 bytes free\n"
     ]
    }
   ],
   "source": [
    "%ls"
   ]
  },
  {
   "cell_type": "code",
   "execution_count": 15,
   "metadata": {
    "collapsed": true
   },
   "outputs": [],
   "source": [
    "import nltk"
   ]
  },
  {
   "cell_type": "code",
   "execution_count": 17,
   "metadata": {},
   "outputs": [
    {
     "name": "stdout",
     "output_type": "stream",
     "text": [
      " Volume in drive C has no label.\n",
      " Volume Serial Number is 5682-6DAE\n",
      "\n",
      " Directory of C:\\Users\\Papar\n",
      "\n",
      "03/10/2017  02:39 AM               124 bigdata.txt\n",
      "14/10/2017  05:05 PM             2,665 funConcordance.txt\n",
      "13/10/2017  01:44 PM             1,252 realConcordance.txt\n",
      "25/09/2017  03:01 PM               620 story.txt\n",
      "03/10/2017  03:04 AM               208 truthConcordance.txt\n",
      "13/10/2017  01:32 PM               126 Website list.txt\n",
      "               6 File(s)          4,995 bytes\n",
      "               0 Dir(s)  18,734,981,120 bytes free\n"
     ]
    }
   ],
   "source": [
    "%ls *.txt"
   ]
  },
  {
   "cell_type": "code",
   "execution_count": 21,
   "metadata": {},
   "outputs": [
    {
     "name": "stdout",
     "output_type": "stream",
     "text": [
      "This string has 620 characters!\n",
      "In the US, annual copyright term expiry is set to begin again in 2019, after a 20-year hiatus due to\n"
     ]
    }
   ],
   "source": [
    "Text2Use=\"story.txt\"\n",
    "with open (Text2Use, \"r\") as fileToRead:\n",
    "    theString=fileToRead.read()\n",
    "print(\"This string has\",len(theString),\"characters!\")\n",
    "print(theString[:100])"
   ]
  },
  {
   "cell_type": "code",
   "execution_count": 22,
   "metadata": {
    "collapsed": true
   },
   "outputs": [],
   "source": [
    "Tokenized = nltk.word_tokenize(theString)"
   ]
  },
  {
   "cell_type": "code",
   "execution_count": 23,
   "metadata": {},
   "outputs": [
    {
     "data": {
      "text/plain": [
       "['In',\n",
       " 'the',\n",
       " 'US',\n",
       " ',',\n",
       " 'annual',\n",
       " 'copyright',\n",
       " 'term',\n",
       " 'expiry',\n",
       " 'is',\n",
       " 'set',\n",
       " 'to',\n",
       " 'begin',\n",
       " 'again',\n",
       " 'in',\n",
       " '2019',\n",
       " ',',\n",
       " 'after',\n",
       " 'a',\n",
       " '20-year',\n",
       " 'hiatus',\n",
       " 'due',\n",
       " 'to',\n",
       " 'the',\n",
       " 'Copyright',\n",
       " 'Term',\n",
       " 'Extension',\n",
       " 'Act',\n",
       " 'of',\n",
       " '1998',\n",
       " '.',\n",
       " 'On',\n",
       " 'January',\n",
       " '1',\n",
       " ',',\n",
       " '2019',\n",
       " ',',\n",
       " 'items',\n",
       " 'published',\n",
       " 'in',\n",
       " '1923',\n",
       " 'will',\n",
       " 'enter',\n",
       " 'the',\n",
       " 'public',\n",
       " 'domain',\n",
       " 'in',\n",
       " 'the',\n",
       " 'US',\n",
       " '.',\n",
       " 'In',\n",
       " 'the',\n",
       " 'early',\n",
       " 'days',\n",
       " 'of',\n",
       " 'Project',\n",
       " 'Gutenberg',\n",
       " ',',\n",
       " 'growth',\n",
       " 'of',\n",
       " 'the',\n",
       " 'public',\n",
       " 'domain',\n",
       " 'on',\n",
       " 'January',\n",
       " '1',\n",
       " 'was',\n",
       " 'an',\n",
       " 'annual',\n",
       " 'event',\n",
       " '.',\n",
       " 'See',\n",
       " 'Duke',\n",
       " 'Law',\n",
       " \"'s\",\n",
       " '``',\n",
       " 'Public',\n",
       " 'Domain',\n",
       " 'Day',\n",
       " \"''\",\n",
       " 'for',\n",
       " 'a',\n",
       " 'listing',\n",
       " 'of',\n",
       " 'many',\n",
       " 'items',\n",
       " 'that',\n",
       " 'were',\n",
       " 'scheduled',\n",
       " 'to',\n",
       " 'enter',\n",
       " 'the',\n",
       " 'public',\n",
       " 'domain',\n",
       " ',',\n",
       " 'but',\n",
       " 'have',\n",
       " 'yet',\n",
       " 'to',\n",
       " 'do',\n",
       " 'so',\n",
       " 'because',\n",
       " 'of',\n",
       " 'the',\n",
       " '1998',\n",
       " 'extension',\n",
       " '.',\n",
       " 'Some',\n",
       " 'notable',\n",
       " 'items',\n",
       " 'scheduled',\n",
       " 'to',\n",
       " 'enter',\n",
       " 'the',\n",
       " 'public',\n",
       " 'domain',\n",
       " 'in',\n",
       " '2019',\n",
       " 'include',\n",
       " 'Felix',\n",
       " 'Salten',\n",
       " \"'s\",\n",
       " '``',\n",
       " 'Bambi',\n",
       " \"''\",\n",
       " 'and',\n",
       " 'Kahlil',\n",
       " 'Gibran',\n",
       " \"'s\",\n",
       " '``',\n",
       " 'The',\n",
       " 'Prophet',\n",
       " '.']"
      ]
     },
     "execution_count": 23,
     "metadata": {},
     "output_type": "execute_result"
    }
   ],
   "source": [
    "Tokenized"
   ]
  },
  {
   "cell_type": "code",
   "execution_count": 24,
   "metadata": {},
   "outputs": [
    {
     "data": {
      "text/plain": [
       "132"
      ]
     },
     "execution_count": 24,
     "metadata": {},
     "output_type": "execute_result"
    }
   ],
   "source": [
    "len(Tokenized)"
   ]
  },
  {
   "cell_type": "code",
   "execution_count": 25,
   "metadata": {
    "collapsed": true
   },
   "outputs": [],
   "source": [
    "theText = nltk.Text(Tokenized)"
   ]
  },
  {
   "cell_type": "code",
   "execution_count": 26,
   "metadata": {},
   "outputs": [
    {
     "data": {
      "text/plain": [
       "<Text: In the US , annual copyright term expiry...>"
      ]
     },
     "execution_count": 26,
     "metadata": {},
     "output_type": "execute_result"
    }
   ],
   "source": [
    "theText"
   ]
  },
  {
   "cell_type": "code",
   "execution_count": 27,
   "metadata": {},
   "outputs": [
    {
     "name": "stdout",
     "output_type": "stream",
     "text": [
      "<Text: In the US , annual copyright term expiry...>\n"
     ]
    }
   ],
   "source": [
    "print(theText)"
   ]
  },
  {
   "cell_type": "code",
   "execution_count": 29,
   "metadata": {},
   "outputs": [
    {
     "name": "stdout",
     "output_type": "stream",
     "text": [
      "['In', 'the', 'US', ',', 'annual', 'copyright', 'term', 'expiry', 'is', 'set', 'to', 'begin', 'again', 'in', '2019', ',', 'after', 'a', '20-year', 'hiatus', 'due', 'to', 'the', 'Copyright', 'Term', 'Extension', 'Act', 'of', '1998', '.', 'On', 'January', '1', ',', '2019', ',', 'items', 'published', 'in', '1923', 'will', 'enter', 'the', 'public', 'domain', 'in', 'the', 'US', '.', 'In', 'the', 'early', 'days', 'of', 'Project', 'Gutenberg', ',', 'growth', 'of', 'the', 'public', 'domain', 'on', 'January', '1', 'was', 'an', 'annual', 'event', '.', 'See', 'Duke', 'Law', \"'s\", '``', 'Public', 'Domain', 'Day', \"''\", 'for', 'a', 'listing', 'of', 'many', 'items', 'that', 'were', 'scheduled', 'to', 'enter', 'the', 'public', 'domain', ',', 'but', 'have', 'yet', 'to', 'do', 'so']\n"
     ]
    }
   ],
   "source": [
    "print(Tokenized[:100])"
   ]
  },
  {
   "cell_type": "code",
   "execution_count": 32,
   "metadata": {},
   "outputs": [
    {
     "name": "stdout",
     "output_type": "stream",
     "text": [
      "Displaying 2 of 2 matches:\n",
      "                                      term expiry is set to begin again in 2019 \n",
      "a 20-year hiatus due to the Copyright Term Extension Act of 1998 . On January 1 \n"
     ]
    }
   ],
   "source": [
    "theText.concordance(\"term\", width=80)"
   ]
  },
  {
   "cell_type": "code",
   "execution_count": 36,
   "metadata": {},
   "outputs": [
    {
     "name": "stdout",
     "output_type": "stream",
     "text": [
      "Displaying 10 of 10 matches:\n",
      "                                      the US , annual copyright term expiry is \n",
      " 2019 , after a 20-year hiatus due to the Copyright Term Extension Act of 1998 \n",
      " , items published in 1923 will enter the public domain in the US . In the earl\n",
      " 1923 will enter the public domain in the US . In the early days of Project Gut\n",
      "nter the public domain in the US . In the early days of Project Gutenberg , gro\n",
      "days of Project Gutenberg , growth of the public domain on January 1 was an ann\n",
      "ny items that were scheduled to enter the public domain , but have yet to do so\n",
      "in , but have yet to do so because of the 1998 extension . Some notable items s\n",
      "Some notable items scheduled to enter the public domain in 2019 include Felix S\n",
      "s `` Bambi '' and Kahlil Gibran 's `` The Prophet .\n"
     ]
    }
   ],
   "source": [
    "theText.concordance(\"the\", lines=11)"
   ]
  },
  {
   "cell_type": "code",
   "execution_count": 37,
   "metadata": {
    "collapsed": true
   },
   "outputs": [],
   "source": [
    "import matplotlib"
   ]
  },
  {
   "cell_type": "code",
   "execution_count": 38,
   "metadata": {
    "collapsed": true
   },
   "outputs": [],
   "source": [
    "%matplotlib inline "
   ]
  },
  {
   "cell_type": "code",
   "execution_count": 39,
   "metadata": {},
   "outputs": [
    {
     "data": {
      "image/png": "[encoded data removed]",
      "text/plain": [
       "<matplotlib.figure.Figure at 0xb3ae550>"
      ]
     },
     "metadata": {},
     "output_type": "display_data"
    }
   ],
   "source": [
    "theText.dispersion_plot([\"the\",\"The\"])"
   ]
  },
  {
   "cell_type": "code",
   "execution_count": 40,
   "metadata": {},
   "outputs": [
    {
     "name": "stdout",
     "output_type": "stream",
     "text": [
      "9   1\n"
     ]
    }
   ],
   "source": [
    "print(theText.count(\"the\"), \" \", theText.count(\"The\"))"
   ]
  },
  {
   "cell_type": "code",
   "execution_count": 43,
   "metadata": {},
   "outputs": [
    {
     "name": "stdout",
     "output_type": "stream",
     "text": [
      "['in', 'the', 'us', ',', 'annual', 'copyright', 'term', 'expiry', 'is', 'set', 'to', 'begin', 'again', 'in', '2019', ',', 'after', 'a', '20-year', 'hiatus', 'due', 'to', 'the', 'copyright', 'term', 'extension', 'act', 'of', '1998', '.', 'on', 'january', '1', ',', '2019', ',', 'items', 'published', 'in', '1923', 'will', 'enter', 'the', 'public', 'domain', 'in', 'the', 'us', '.', 'in', 'the', 'early', 'days', 'of', 'project', 'gutenberg', ',', 'growth', 'of', 'the', 'public', 'domain', 'on', 'january', '1', 'was', 'an', 'annual', 'event', '.', 'see', 'duke', 'law', \"'s\", '``', 'public', 'domain', 'day', \"''\", 'for', 'a', 'listing', 'of', 'many', 'items', 'that', 'were', 'scheduled', 'to', 'enter', 'the', 'public', 'domain', ',', 'but', 'have', 'yet', 'to', 'do', 'so', 'because', 'of', 'the', '1998', 'extension', '.', 'some', 'notable', 'items', 'scheduled', 'to', 'enter', 'the', 'public', 'domain', 'in', '2019', 'include', 'felix', 'salten', \"'s\", '``', 'bambi', \"''\", 'and', 'kahlil', 'gibran', \"'s\", '``', 'the', 'prophet', '.']\n"
     ]
    }
   ],
   "source": [
    "theLowerTokens = []\n",
    "for token in Tokenized:\n",
    "    if token.isalpha():\n",
    "        theLowerTokens.append(token.lower())\n",
    "    else:\n",
    "        theLowerTokens.append(token)\n",
    "\n",
    "print(theLowerTokens[:132])"
   ]
  },
  {
   "cell_type": "code",
   "execution_count": 46,
   "metadata": {},
   "outputs": [
    {
     "data": {
      "text/plain": [
       "10"
      ]
     },
     "execution_count": 46,
     "metadata": {},
     "output_type": "execute_result"
    }
   ],
   "source": [
    "theLowerTokens.count(\"the\")"
   ]
  },
  {
   "cell_type": "code",
   "execution_count": 47,
   "metadata": {},
   "outputs": [
    {
     "data": {
      "text/plain": [
       "FreqDist({\"''\": 2,\n",
       "          \"'s\": 3,\n",
       "          ',': 6,\n",
       "          '.': 5,\n",
       "          '1': 2,\n",
       "          '1923': 1,\n",
       "          '1998': 2,\n",
       "          '20-year': 1,\n",
       "          '2019': 3,\n",
       "          '``': 3,\n",
       "          'a': 2,\n",
       "          'act': 1,\n",
       "          'after': 1,\n",
       "          'again': 1,\n",
       "          'an': 1,\n",
       "          'and': 1,\n",
       "          'annual': 2,\n",
       "          'bambi': 1,\n",
       "          'because': 1,\n",
       "          'begin': 1,\n",
       "          'but': 1,\n",
       "          'copyright': 2,\n",
       "          'day': 1,\n",
       "          'days': 1,\n",
       "          'do': 1,\n",
       "          'domain': 5,\n",
       "          'due': 1,\n",
       "          'duke': 1,\n",
       "          'early': 1,\n",
       "          'enter': 3,\n",
       "          'event': 1,\n",
       "          'expiry': 1,\n",
       "          'extension': 2,\n",
       "          'felix': 1,\n",
       "          'for': 1,\n",
       "          'gibran': 1,\n",
       "          'growth': 1,\n",
       "          'gutenberg': 1,\n",
       "          'have': 1,\n",
       "          'hiatus': 1,\n",
       "          'in': 6,\n",
       "          'include': 1,\n",
       "          'is': 1,\n",
       "          'items': 3,\n",
       "          'january': 2,\n",
       "          'kahlil': 1,\n",
       "          'law': 1,\n",
       "          'listing': 1,\n",
       "          'many': 1,\n",
       "          'notable': 1,\n",
       "          'of': 5,\n",
       "          'on': 2,\n",
       "          'project': 1,\n",
       "          'prophet': 1,\n",
       "          'public': 5,\n",
       "          'published': 1,\n",
       "          'salten': 1,\n",
       "          'scheduled': 2,\n",
       "          'see': 1,\n",
       "          'set': 1,\n",
       "          'so': 1,\n",
       "          'some': 1,\n",
       "          'term': 2,\n",
       "          'that': 1,\n",
       "          'the': 10,\n",
       "          'to': 5,\n",
       "          'us': 2,\n",
       "          'was': 1,\n",
       "          'were': 1,\n",
       "          'will': 1,\n",
       "          'yet': 1})"
      ]
     },
     "execution_count": 47,
     "metadata": {},
     "output_type": "execute_result"
    }
   ],
   "source": [
    "theLowerFreqs = nltk.FreqDist(theLowerTokens)\n",
    "theLowerFreqs"
   ]
  },
  {
   "cell_type": "code",
   "execution_count": 48,
   "metadata": {},
   "outputs": [
    {
     "name": "stdout",
     "output_type": "stream",
     "text": [
      "   the     in      ,     to     of      . public domain   2019  items \n",
      "    10      6      6      5      5      5      5      5      3      3 \n"
     ]
    }
   ],
   "source": [
    "theLowerFreqs.tabulate(10)"
   ]
  },
  {
   "cell_type": "code",
   "execution_count": 49,
   "metadata": {},
   "outputs": [
    {
     "data": {
      "text/plain": [
       "6"
      ]
     },
     "execution_count": 49,
     "metadata": {},
     "output_type": "execute_result"
    }
   ],
   "source": [
    "theLowerFreqs[\"in\"]"
   ]
  },
  {
   "cell_type": "code",
   "execution_count": 51,
   "metadata": {},
   "outputs": [
    {
     "data": {
      "text/plain": [
       "0.03787878787878788"
      ]
     },
     "execution_count": 51,
     "metadata": {},
     "output_type": "execute_result"
    }
   ],
   "source": [
    "theLowerFreqs.freq(\"of\")"
   ]
  },
  {
   "cell_type": "code",
   "execution_count": 54,
   "metadata": {},
   "outputs": [
    {
     "data": {
      "image/png": "[encoded data removed]",
      "text/plain": [
       "<matplotlib.figure.Figure at 0xb55a9b0>"
      ]
     },
     "metadata": {},
     "output_type": "display_data"
    }
   ],
   "source": [
    "%matplotlib inline\n",
    "theLowerFreqs.plot(10)"
   ]
  },
  {
   "cell_type": "code",
   "execution_count": 56,
   "metadata": {},
   "outputs": [
    {
     "name": "stdout",
     "output_type": "stream",
     "text": [
      "['i', 'me', 'my', 'myself', 'we', 'our', 'ours', 'ourselves', 'you', 'your', 'yours', 'yourself', 'yourselves', 'he', 'him', 'his', 'himself', 'she', 'her', 'hers', 'herself', 'it', 'its', 'itself', 'they', 'them', 'their', 'theirs', 'themselves', 'what', 'which', 'who', 'whom', 'this', 'that', 'these', 'those', 'am', 'is', 'are', 'was', 'were', 'be', 'been', 'being', 'have', 'has', 'had', 'having', 'do', 'does', 'did', 'doing', 'a', 'an', 'the', 'and', 'but', 'if', 'or', 'because', 'as', 'until', 'while', 'of', 'at', 'by', 'for', 'with', 'about', 'against', 'between', 'into', 'through', 'during', 'before', 'after', 'above', 'below', 'to', 'from', 'up', 'down', 'in', 'out', 'on', 'off', 'over', 'under', 'again', 'further', 'then', 'once', 'here', 'there', 'when', 'where', 'why', 'how', 'all', 'any', 'both', 'each', 'few', 'more', 'most', 'other', 'some', 'such', 'no', 'nor', 'not', 'only', 'own', 'same', 'so', 'than', 'too', 'very', 's', 't', 'can', 'will', 'just', 'don', 'should', 'now', 'd', 'll', 'm', 'o', 're', 've', 'y', 'ain', 'aren', 'couldn', 'didn', 'doesn', 'hadn', 'hasn', 'haven', 'isn', 'ma', 'mightn', 'mustn', 'needn', 'shan', 'shouldn', 'wasn', 'weren', 'won', 'wouldn']\n"
     ]
    }
   ],
   "source": [
    "stopwords = nltk.corpus.stopwords.words(\"english\")\n",
    "print(stopwords)"
   ]
  },
  {
   "cell_type": "code",
   "execution_count": 58,
   "metadata": {},
   "outputs": [
    {
     "data": {
      "text/plain": [
       "['us',\n",
       " ',',\n",
       " 'annual',\n",
       " 'copyright',\n",
       " 'term',\n",
       " 'expiry',\n",
       " 'set',\n",
       " 'begin',\n",
       " '2019',\n",
       " ',',\n",
       " '20-year',\n",
       " 'hiatus',\n",
       " 'due',\n",
       " 'copyright',\n",
       " 'term',\n",
       " 'extension',\n",
       " 'act',\n",
       " '1998',\n",
       " '.',\n",
       " 'january',\n",
       " '1',\n",
       " ',',\n",
       " '2019',\n",
       " ',',\n",
       " 'items',\n",
       " 'published',\n",
       " '1923',\n",
       " 'enter',\n",
       " 'public',\n",
       " 'domain',\n",
       " 'us',\n",
       " '.',\n",
       " 'early',\n",
       " 'days',\n",
       " 'project',\n",
       " 'gutenberg',\n",
       " ',',\n",
       " 'growth',\n",
       " 'public',\n",
       " 'domain',\n",
       " 'january',\n",
       " '1',\n",
       " 'annual',\n",
       " 'event',\n",
       " '.',\n",
       " 'see',\n",
       " 'duke',\n",
       " 'law',\n",
       " \"'s\",\n",
       " '``',\n",
       " 'public',\n",
       " 'domain',\n",
       " 'day',\n",
       " \"''\",\n",
       " 'listing',\n",
       " 'many',\n",
       " 'items',\n",
       " 'scheduled',\n",
       " 'enter',\n",
       " 'public',\n",
       " 'domain',\n",
       " ',',\n",
       " 'yet',\n",
       " '1998',\n",
       " 'extension',\n",
       " '.',\n",
       " 'notable',\n",
       " 'items',\n",
       " 'scheduled',\n",
       " 'enter',\n",
       " 'public',\n",
       " 'domain',\n",
       " '2019',\n",
       " 'include',\n",
       " 'felix',\n",
       " 'salten',\n",
       " \"'s\",\n",
       " '``',\n",
       " 'bambi',\n",
       " \"''\",\n",
       " 'kahlil',\n",
       " 'gibran',\n",
       " \"'s\",\n",
       " '``',\n",
       " 'prophet',\n",
       " '.']"
      ]
     },
     "execution_count": 58,
     "metadata": {},
     "output_type": "execute_result"
    }
   ],
   "source": [
    "theLowerContentWords = []\n",
    "\n",
    "for token in theLowerTokens:\n",
    "    if token not in stopwords:\n",
    "        theLowerContentWords.append(token)\n",
    "\n",
    "theLowerContentWords"
   ]
  },
  {
   "cell_type": "code",
   "execution_count": 61,
   "metadata": {},
   "outputs": [
    {
     "name": "stdout",
     "output_type": "stream",
     "text": [
      "     ,      . public domain   2019  items  enter     's     ``     us \n",
      "     6      5      5      5      3      3      3      3      3      2 \n"
     ]
    }
   ],
   "source": [
    "theLowerContFreqs = nltk.FreqDist(theLowerContentWords)\n",
    "\n",
    "theLowerContFreqs.tabulate(10)"
   ]
  },
  {
   "cell_type": "code",
   "execution_count": 62,
   "metadata": {},
   "outputs": [
    {
     "data": {
      "image/png": "[encoded data removed]",
      "text/plain": [
       "<matplotlib.figure.Figure at 0xb350278>"
      ]
     },
     "metadata": {},
     "output_type": "display_data"
    }
   ],
   "source": [
    "theLowerContFreqs.plot(30)"
   ]
  },
  {
   "cell_type": "code",
   "execution_count": 63,
   "metadata": {},
   "outputs": [
    {
     "name": "stdout",
     "output_type": "stream",
     "text": [
      "Displaying 10 of 10 matches:\n",
      "                                      the US , annual copyright term expiry is \n",
      " 2019 , after a 20-year hiatus due to the Copyright Term Extension Act of 1998 \n",
      " , items published in 1923 will enter the public domain in the US . In the earl\n",
      " 1923 will enter the public domain in the US . In the early days of Project Gut\n",
      "nter the public domain in the US . In the early days of Project Gutenberg , gro\n",
      "days of Project Gutenberg , growth of the public domain on January 1 was an ann\n",
      "ny items that were scheduled to enter the public domain , but have yet to do so\n",
      "in , but have yet to do so because of the 1998 extension . Some notable items s\n",
      "Some notable items scheduled to enter the public domain in 2019 include Felix S\n",
      "s `` Bambi '' and Kahlil Gibran 's `` The Prophet .\n"
     ]
    }
   ],
   "source": [
    "theText.concordance(\"the\", width=80)"
   ]
  },
  {
   "cell_type": "code",
   "execution_count": 69,
   "metadata": {},
   "outputs": [
    {
     "name": "stdout",
     "output_type": "stream",
     "text": [
      "public domain\n"
     ]
    }
   ],
   "source": [
    "theText.collocations()"
   ]
  },
  {
   "cell_type": "code",
   "execution_count": 76,
   "metadata": {},
   "outputs": [
    {
     "name": "stdout",
     "output_type": "stream",
     "text": [
      "\n"
     ]
    }
   ],
   "source": [
    "theText.similar(\"do\")"
   ]
  },
  {
   "cell_type": "code",
   "execution_count": 73,
   "metadata": {},
   "outputs": [
    {
     "name": "stdout",
     "output_type": "stream",
     "text": [
      "GROWTH: \n",
      "Displaying 1 of 1 matches:\n",
      "he early days of Project Gutenberg , growth of the public domain on January 1 wa\n",
      "--------------------------------------------------\n",
      "\n",
      "EXTENSION: \n",
      "Displaying 2 of 2 matches:\n",
      "r hiatus due to the Copyright Term Extension Act of 1998 . On January 1 , 2019 \n",
      "e yet to do so because of the 1998 extension . Some notable items scheduled to \n",
      "--------------------------------------------------\n",
      "\n",
      "NOTABLE: \n",
      "Displaying 1 of 1 matches:\n",
      "ecause of the 1998 extension . Some notable items scheduled to enter the public\n",
      "--------------------------------------------------\n",
      "\n"
     ]
    }
   ],
   "source": [
    "listOfWords2Conc = [\"growth\",\"extension\",\"notable\"]\n",
    "for i in listOfWords2Conc:\n",
    "    print(i.upper() + \": \")\n",
    "    theText.concordance(i, width=80, lines=5)\n",
    "    print(\"--------------------------------------------------\\n\")"
   ]
  },
  {
   "cell_type": "code",
   "execution_count": 79,
   "metadata": {},
   "outputs": [
    {
     "name": "stdout",
     "output_type": "stream",
     "text": [
      "No common contexts were found\n"
     ]
    }
   ],
   "source": [
    "theText.common_contexts([\"public\", \"domain\"],10)"
   ]
  },
  {
   "cell_type": "code",
   "execution_count": null,
   "metadata": {
    "collapsed": true
   },
   "outputs": [],
   "source": []
  }
 ],
 "metadata": {
  "kernelspec": {
   "display_name": "Python 3",
   "language": "python",
   "name": "python3"
  },
  "language_info": {
   "codemirror_mode": {
    "name": "ipython",
    "version": 3
   },
   "file_extension": ".py",
   "mimetype": "text/x-python",
   "name": "python",
   "nbconvert_exporter": "python",
   "pygments_lexer": "ipython3",
   "version": "3.6.1"
  }
 },
 "nbformat": 4,
 "nbformat_minor": 2
}
