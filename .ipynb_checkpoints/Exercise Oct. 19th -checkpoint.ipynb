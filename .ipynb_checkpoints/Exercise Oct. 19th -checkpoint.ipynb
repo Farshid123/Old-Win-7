{
 "cells": [
  {
   "cell_type": "code",
   "execution_count": 2,
   "metadata": {},
   "outputs": [
    {
     "name": "stdout",
     "output_type": "stream",
     "text": [
      " Volume in drive C has no label.\n",
      " Volume Serial Number is 5682-6DAE\n",
      "\n",
      " Directory of C:\\Users\\Papar\n",
      "\n",
      "16/10/2017  05:16 PM             2,372 RAW.csv\n",
      "               1 File(s)          2,372 bytes\n",
      "               0 Dir(s)  14,895,837,184 bytes free\n"
     ]
    }
   ],
   "source": [
    "%ls *csv"
   ]
  },
  {
   "cell_type": "code",
   "execution_count": 3,
   "metadata": {},
   "outputs": [
    {
     "name": "stdout",
     "output_type": "stream",
     "text": [
      " Volume in drive C has no label.\n",
      " Volume Serial Number is 5682-6DAE\n",
      "\n",
      " Directory of C:\\Users\\Papar\n",
      "\n",
      "21/10/2017  11:14 PM    <DIR>          .\n",
      "21/10/2017  11:14 PM    <DIR>          ..\n",
      "15/09/2017  09:27 PM    <DIR>          .anaconda\n",
      "27/06/2017  01:01 PM    <DIR>          .cisco\n",
      "12/10/2017  11:10 PM    <DIR>          .conda\n",
      "21/10/2017  10:02 PM                43 .condarc\n",
      "21/10/2017  10:15 PM    <DIR>          .ipynb_checkpoints\n",
      "18/09/2017  03:59 PM    <DIR>          .ipython\n",
      "22/09/2017  12:25 PM    <DIR>          .jupyter\n",
      "16/10/2017  01:37 PM    <DIR>          .matplotlib\n",
      "22/05/2017  11:00 AM    <DIR>          .spss\n",
      "15/09/2017  09:19 PM    <DIR>          Anaconda3\n",
      "24/09/2017  08:34 PM    <DIR>          AnacondaProjects\n",
      "03/10/2017  02:36 AM               124 bigdata\n",
      "03/10/2017  02:39 AM               124 bigdata.txt\n",
      "13/05/2017  10:30 AM    <DIR>          Contacts\n",
      "21/10/2017  01:28 AM    <DIR>          Desktop\n",
      "15/09/2017  09:19 PM    <DIR>          Documents\n",
      "21/10/2017  01:27 AM    <DIR>          Downloads\n",
      "21/10/2017  11:14 PM             1,135 Exercise Oct. 19th .ipynb\n",
      "13/05/2017  10:30 AM    <DIR>          Favorites\n",
      "14/10/2017  05:05 PM             2,665 funConcordance.txt\n",
      "25/09/2017  03:52 PM           490,278 HOMEWORK 1.ipynb\n",
      "03/10/2017  03:06 AM         1,391,706 Homework 3 - Website.ipynb\n",
      "16/10/2017  02:08 PM         5,729,690 Homework_Oct. 16.ipynb\n",
      "29/09/2017  10:58 AM    <DIR>          HUCO617\n",
      "13/10/2017  01:22 PM            31,003 Learn Python.ipynb\n",
      "14/10/2017  06:41 PM            80,312 Lesson 7 Review.ipynb\n",
      "13/05/2017  10:30 AM    <DIR>          Links\n",
      "13/05/2017  10:30 AM    <DIR>          Music\n",
      "16/10/2017  05:53 PM             8,597 Oct. 16 in class notes.ipynb\n",
      "16/10/2017  01:37 PM         1,223,517 Output.txt\n",
      "13/05/2017  10:30 AM    <DIR>          Pictures\n",
      "16/10/2017  01:37 PM            57,698 powerConcordance.txt\n",
      "13/05/2017  12:45 PM               473 rarreg.key\n",
      "16/10/2017  05:16 PM             2,372 RAW.csv\n",
      "13/10/2017  01:44 PM             1,252 realConcordance.txt\n",
      "13/05/2017  10:30 AM    <DIR>          Saved Games\n",
      "13/05/2017  10:30 AM    <DIR>          Searches\n",
      "25/09/2017  03:01 PM               620 story.txt\n",
      "15/10/2017  12:02 PM                80 TheURL.txt\n",
      "03/10/2017  03:04 AM               208 truthConcordance.txt\n",
      "03/10/2017  02:35 AM                 0 untitled\n",
      "18/09/2017  05:47 PM            12,315 Untitled.ipynb\n",
      "03/10/2017  03:48 AM             7,042 Untitled1.ipynb\n",
      "24/09/2017  09:26 PM               398 Untitled1.py\n",
      "13/05/2017  10:30 AM    <DIR>          Videos\n",
      "13/10/2017  01:30 PM               126 Website list\n",
      "13/10/2017  01:32 PM               126 Website list.txt\n",
      "              25 File(s)      9,041,904 bytes\n",
      "              24 Dir(s)  14,895,706,112 bytes free\n"
     ]
    }
   ],
   "source": [
    "%ls"
   ]
  },
  {
   "cell_type": "code",
   "execution_count": 8,
   "metadata": {},
   "outputs": [
    {
     "data": {
      "text/plain": [
       "4"
      ]
     },
     "execution_count": 8,
     "metadata": {},
     "output_type": "execute_result"
    }
   ],
   "source": [
    "import csv\n",
    "comments = []\n",
    "with open('RAW.csv', 'r') as file: # This makes sure that file is closed after reading\n",
    "    data = csv.reader(file)\n",
    "    for row in data:\n",
    "        if \"MA\" in row[3] or \"PHD\" in row[3]:\n",
    "            comments.append(row[6]) # This puts all the data into a list\n",
    "    file.close()\n",
    "\n",
    "len(comments)"
   ]
  },
  {
   "cell_type": "code",
   "execution_count": 12,
   "metadata": {},
   "outputs": [
    {
     "name": "stdout",
     "output_type": "stream",
     "text": [
      "[\"I have an extremely strong work ethic. When I'm working on a project, I don't want just to meet deadlines. Rather, I prefer to complete the project well ahead of schedule. Last year, I even earned a bonus for completing my three most recent reports one week ahead of time.\", \"When I'm working on a project, I don't want just to meet deadlines. Rather, I prefer to complete the project well ahead of schedule.\", \"I am a skilled salesman with over ten years of experience. I have exceeded my sales goals every quarter and I've earned a bonus each year since I started with my current employer.\", \"I like to make sure that my work is perfect, so I tend to perhaps spend a little too much time checking it. However, I've come to a good balance by setting up a system to ensure everything is done the first time correctly.\"]\n"
     ]
    }
   ],
   "source": [
    "print(comments)"
   ]
  },
  {
   "cell_type": "code",
   "execution_count": 13,
   "metadata": {},
   "outputs": [
    {
     "data": {
      "text/plain": [
       "[\"I have an extremely strong work ethic. When I'm working on a project, I don't want just to meet deadlines. Rather, I prefer to complete the project well ahead of schedule. Last year, I even earned a bonus for completing my three most recent reports one week ahead of time.\",\n",
       " \"When I'm working on a project, I don't want just to meet deadlines. Rather, I prefer to complete the project well ahead of schedule.\",\n",
       " \"I am a skilled salesman with over ten years of experience. I have exceeded my sales goals every quarter and I've earned a bonus each year since I started with my current employer.\",\n",
       " \"I like to make sure that my work is perfect, so I tend to perhaps spend a little too much time checking it. However, I've come to a good balance by setting up a system to ensure everything is done the first time correctly.\"]"
      ]
     },
     "execution_count": 13,
     "metadata": {},
     "output_type": "execute_result"
    }
   ],
   "source": [
    "comments"
   ]
  },
  {
   "cell_type": "code",
   "execution_count": 21,
   "metadata": {},
   "outputs": [
    {
     "name": "stdout",
     "output_type": "stream",
     "text": [
      "\n",
      "I have an extremely strong work ethic. When I'm working on a project, I don't want just to meet dea\n"
     ]
    }
   ],
   "source": [
    "theWholeText = \"\"\n",
    "for comment in comments[:]:\n",
    "    theWholeText = theWholeText + \"\\n\" + comment\n",
    "print(theWholeText[0:100])"
   ]
  },
  {
   "cell_type": "code",
   "execution_count": 22,
   "metadata": {
    "collapsed": true
   },
   "outputs": [],
   "source": [
    "import re\n",
    "tokens = re.findall(r'\\b\\w[\\w-]*\\b', theWholeText.lower())\n",
    "count = len(tokens)"
   ]
  },
  {
   "cell_type": "code",
   "execution_count": 23,
   "metadata": {},
   "outputs": [
    {
     "data": {
      "text/plain": [
       "157"
      ]
     },
     "execution_count": 23,
     "metadata": {},
     "output_type": "execute_result"
    }
   ],
   "source": [
    "count"
   ]
  },
  {
   "cell_type": "code",
   "execution_count": 24,
   "metadata": {},
   "outputs": [
    {
     "name": "stdout",
     "output_type": "stream",
     "text": [
      "Counter({'i': 15, 'a': 8, 'to': 8, 'project': 4, 'of': 4, 'my': 4, 'the': 3, 'ahead': 3, 'time': 3, 'have': 2, 'work': 2, 'when': 2, 'm': 2, 'working': 2, 'on': 2, 'don': 2, 't': 2, 'want': 2, 'just': 2, 'meet': 2, 'deadlines': 2, 'rather': 2, 'prefer': 2, 'complete': 2, 'well': 2, 'schedule': 2, 'year': 2, 'earned': 2, 'bonus': 2, 'with': 2, 've': 2, 'is': 2, 'an': 1, 'extremely': 1, 'strong': 1, 'ethic': 1, 'last': 1, 'even': 1, 'for': 1, 'completing': 1, 'three': 1, 'most': 1, 'recent': 1, 'reports': 1, 'one': 1, 'week': 1, 'am': 1, 'skilled': 1, 'salesman': 1, 'over': 1, 'ten': 1, 'years': 1, 'experience': 1, 'exceeded': 1, 'sales': 1, 'goals': 1, 'every': 1, 'quarter': 1, 'and': 1, 'each': 1, 'since': 1, 'started': 1, 'current': 1, 'employer': 1, 'like': 1, 'make': 1, 'sure': 1, 'that': 1, 'perfect': 1, 'so': 1, 'tend': 1, 'perhaps': 1, 'spend': 1, 'little': 1, 'too': 1, 'much': 1, 'checking': 1, 'it': 1, 'however': 1, 'come': 1, 'good': 1, 'balance': 1, 'by': 1, 'setting': 1, 'up': 1, 'system': 1, 'ensure': 1, 'everything': 1, 'done': 1, 'first': 1, 'correctly': 1})\n"
     ]
    }
   ],
   "source": [
    "from collections import Counter\n",
    "theCounts = Counter(tokens)\n",
    "print(theCounts)"
   ]
  },
  {
   "cell_type": "code",
   "execution_count": 25,
   "metadata": {},
   "outputs": [
    {
     "data": {
      "text/plain": [
       "collections.Counter"
      ]
     },
     "execution_count": 25,
     "metadata": {},
     "output_type": "execute_result"
    }
   ],
   "source": [
    "type(theCounts)"
   ]
  },
  {
   "cell_type": "code",
   "execution_count": 26,
   "metadata": {},
   "outputs": [
    {
     "data": {
      "text/plain": [
       "Counter({'a': 8,\n",
       "         'ahead': 3,\n",
       "         'am': 1,\n",
       "         'an': 1,\n",
       "         'and': 1,\n",
       "         'balance': 1,\n",
       "         'bonus': 2,\n",
       "         'by': 1,\n",
       "         'checking': 1,\n",
       "         'come': 1,\n",
       "         'complete': 2,\n",
       "         'completing': 1,\n",
       "         'correctly': 1,\n",
       "         'current': 1,\n",
       "         'deadlines': 2,\n",
       "         'don': 2,\n",
       "         'done': 1,\n",
       "         'each': 1,\n",
       "         'earned': 2,\n",
       "         'employer': 1,\n",
       "         'ensure': 1,\n",
       "         'ethic': 1,\n",
       "         'even': 1,\n",
       "         'every': 1,\n",
       "         'everything': 1,\n",
       "         'exceeded': 1,\n",
       "         'experience': 1,\n",
       "         'extremely': 1,\n",
       "         'first': 1,\n",
       "         'for': 1,\n",
       "         'goals': 1,\n",
       "         'good': 1,\n",
       "         'have': 2,\n",
       "         'however': 1,\n",
       "         'i': 15,\n",
       "         'is': 2,\n",
       "         'it': 1,\n",
       "         'just': 2,\n",
       "         'last': 1,\n",
       "         'like': 1,\n",
       "         'little': 1,\n",
       "         'm': 2,\n",
       "         'make': 1,\n",
       "         'meet': 2,\n",
       "         'most': 1,\n",
       "         'much': 1,\n",
       "         'my': 4,\n",
       "         'of': 4,\n",
       "         'on': 2,\n",
       "         'one': 1,\n",
       "         'over': 1,\n",
       "         'perfect': 1,\n",
       "         'perhaps': 1,\n",
       "         'prefer': 2,\n",
       "         'project': 4,\n",
       "         'quarter': 1,\n",
       "         'rather': 2,\n",
       "         'recent': 1,\n",
       "         'reports': 1,\n",
       "         'sales': 1,\n",
       "         'salesman': 1,\n",
       "         'schedule': 2,\n",
       "         'setting': 1,\n",
       "         'since': 1,\n",
       "         'skilled': 1,\n",
       "         'so': 1,\n",
       "         'spend': 1,\n",
       "         'started': 1,\n",
       "         'strong': 1,\n",
       "         'sure': 1,\n",
       "         'system': 1,\n",
       "         't': 2,\n",
       "         'ten': 1,\n",
       "         'tend': 1,\n",
       "         'that': 1,\n",
       "         'the': 3,\n",
       "         'three': 1,\n",
       "         'time': 3,\n",
       "         'to': 8,\n",
       "         'too': 1,\n",
       "         'up': 1,\n",
       "         've': 2,\n",
       "         'want': 2,\n",
       "         'week': 1,\n",
       "         'well': 2,\n",
       "         'when': 2,\n",
       "         'with': 2,\n",
       "         'work': 2,\n",
       "         'working': 2,\n",
       "         'year': 2,\n",
       "         'years': 1})"
      ]
     },
     "execution_count": 26,
     "metadata": {},
     "output_type": "execute_result"
    }
   ],
   "source": [
    "theCounts"
   ]
  },
  {
   "cell_type": "code",
   "execution_count": 28,
   "metadata": {},
   "outputs": [
    {
     "data": {
      "text/plain": [
       "2"
      ]
     },
     "execution_count": 28,
     "metadata": {},
     "output_type": "execute_result"
    }
   ],
   "source": [
    "theCounts[\"year\"]"
   ]
  },
  {
   "cell_type": "code",
   "execution_count": 29,
   "metadata": {},
   "outputs": [
    {
     "data": {
      "text/plain": [
       "585"
      ]
     },
     "execution_count": 29,
     "metadata": {},
     "output_type": "execute_result"
    }
   ],
   "source": [
    "import csv\n",
    "comments = []\n",
    "with open('AdamSavageComments.csv', 'r') as file: # This makes sure that file is closed after reading\n",
    "    data = csv.reader(file)\n",
    "    for row in data:\n",
    "        comments.append(row[4]) # This puts all the data from column 5 into a list\n",
    "    file.close()\n",
    "\n",
    "len(comments)"
   ]
  },
  {
   "cell_type": "code",
   "execution_count": 30,
   "metadata": {},
   "outputs": [
    {
     "name": "stdout",
     "output_type": "stream",
     "text": [
      "['commentText', 'Adam avoids question.', \"Adam Savage's stock went way down in my book. Sometimes it's best not to get to know celebrities or what they think... 3:36 Ahh, he's bordering and battling with white guilt. We just saw it's mental evolution. Compare the contradiction 1:45 and 4:04.\", 'not sure what side Adam is talking about... sounds more like the SJW and not GG...']\n"
     ]
    }
   ],
   "source": [
    "print(comments[:4])"
   ]
  },
  {
   "cell_type": "code",
   "execution_count": 35,
   "metadata": {},
   "outputs": [
    {
     "data": {
      "text/plain": [
       "174"
      ]
     },
     "execution_count": 35,
     "metadata": {},
     "output_type": "execute_result"
    }
   ],
   "source": [
    "import csv\n",
    "comments = []\n",
    "with open('AdamSavageComments.csv', 'r') as file: # This makes sure that file is closed after reading\n",
    "    data = csv.reader(file)\n",
    "    for row in data:\n",
    "        if row[5].isdecimal() and int(row[5]) > 3:\n",
    "            comments.append(row[4]) # This puts all the data into a list\n",
    "    file.close()       \n",
    "\n",
    "len(comments)"
   ]
  },
  {
   "cell_type": "code",
   "execution_count": 37,
   "metadata": {},
   "outputs": [
    {
     "name": "stdout",
     "output_type": "stream",
     "text": [
      "['i waited until the end to down vote this video.', '0:35 - \"I don\\'t understand the anger...\" You don\\'t even understand the premise.', 'He doesnt know the answer to the question. Hes being too general.', \"He's avoiding the question. For a man older than the pyramids, you really aren't that bright.\", 'I think he\\'s referring to the interviewer asking \"Why is there so much rage against women an--in these fields?\" instead of asking something along the lines of \"Why are corrupt media groups able to hide behind women and deflect criticism?\"', 'if i was a woman in science my biggest fear would be men with shirts of women. The fear they conjure is unlike any other.', 'Respect for Adam Savage = Lost. I disagree with what he said, but more importantly I disagree with what he did and that is the opposite of the very thing that him and all skeptics push forward... and that is to say \"I don\\'t know\" when you don\\'t know. He clearly doesn\\'t know and so him answering as he did is asinine, especially with regards to his past comments. Fucking Hypocrites', 'Stop lying about us. Just stop, please.', 'Adam really should have done more research before speaking on this topic. He comes off extremely out of touch. ABC also said we are a small group and go check out how that went for them. There are hundreds of thousands of people who have supported #gamergate for almost 5 months. We didn\\'t just band together to \"attack women\" or remove them from the industry. That notion is just absurd.', \">we didn't band together to attack women Yeah, and the Khmer Rouge didn't band together to end the Khmer race, it just kinda happened that way. (No, I don't think you're anywhere near as bad as madmen who left behind literal mountains of skulls, but it's a great example of how intentions and results don't always line up.)\"]\n"
     ]
    }
   ],
   "source": [
    "print(comments[:10])"
   ]
  },
  {
   "cell_type": "code",
   "execution_count": 38,
   "metadata": {},
   "outputs": [
    {
     "data": {
      "text/plain": [
       "1"
      ]
     },
     "execution_count": 38,
     "metadata": {},
     "output_type": "execute_result"
    }
   ],
   "source": [
    "selectedComms = []\n",
    "\n",
    "for comment in comments:\n",
    "    if \"book\" in comment or \"stock\" in comment: # Here we check if the words we want are in the comment.\n",
    "        selectedComms.append(comment)\n",
    "        \n",
    "len(selectedComms)"
   ]
  },
  {
   "cell_type": "code",
   "execution_count": 43,
   "metadata": {},
   "outputs": [
    {
     "data": {
      "text/plain": [
       "[\"The nice thing the real nice thing about that Nightline piece was that it was the first major mistake that Anita made and it exposed how weak they actually are in 2 ways 1. Anita Sarkessian doesn't have anywhere near the popular support she thought she did. Despite almost universal support from the mainline media and now a lot of spare cash 2. The fact that Anita doesn't have popular support like she thought she had means that anytime she steps out of the echo chamber she's going to get creamed. And the nice thing is that in order to win she HAS TO step out of the echo chamber I do have to point out that she does have a deep source of money from Intel that though only helps her and the AntiGGers to a limited extent. They don't have the numbers so in order to balance this out she'll have to bring in hired guns to bolster her support. Thing is that Sam Biddle already tried this a couple of months back and it didn't work then either and it didn't work because (and excuse the lists again 1. These hired guns don't have an emotional investment in the issue 2. They don't know the issue well at all and are easy to spot 3. They're going up against people that have been battle hardened by constant fights on 8chan, Twitter, YouTube, Facebook etc. Some of whom have been doing this via the MRM for a couple of years now. 4. Intel will DEMAND a return on their investment. So as badly as she got licked she HAS to come out and do it all again soon. This is far from over but be on the lookout for decoys and sock puppets from AntiGG and expect a lot more hackings. But the Nightline piece was a HUGE win for GamerGate. There were people ready to throw in the towel when Anita got all that money from Intel. Brianna Wu was even so arrogant as to declare victory, Feminists came out and openly wrote hit pieces that were not even remotely honest. But well we all know how that went Ultimately though we made Anita cry finally, she cannot win unless she controls all the factors and she cannot win unless she lets go. So in effect she's screwed herself over\"]"
      ]
     },
     "execution_count": 43,
     "metadata": {},
     "output_type": "execute_result"
    }
   ],
   "source": [
    "selectedComms"
   ]
  },
  {
   "cell_type": "code",
   "execution_count": 42,
   "metadata": {},
   "outputs": [
    {
     "name": "stdout",
     "output_type": "stream",
     "text": [
      "\n",
      "\n",
      "0:35 - \"I don't understand the anger...\" You don't even understand the premise.\n",
      "\n",
      "He doesnt know th\n"
     ]
    }
   ],
   "source": [
    "theWholeText = \"\"\n",
    "\n",
    "for comment in comments[1:]:\n",
    "    theWholeText = theWholeText + \"\\n\\n\" + comment\n",
    "    \n",
    "print(theWholeText[:100])"
   ]
  },
  {
   "cell_type": "code",
   "execution_count": null,
   "metadata": {
    "collapsed": true
   },
   "outputs": [],
   "source": []
  }
 ],
 "metadata": {
  "kernelspec": {
   "display_name": "Python 3",
   "language": "python",
   "name": "python3"
  },
  "language_info": {
   "codemirror_mode": {
    "name": "ipython",
    "version": 3
   },
   "file_extension": ".py",
   "mimetype": "text/x-python",
   "name": "python",
   "nbconvert_exporter": "python",
   "pygments_lexer": "ipython3",
   "version": "3.6.1"
  }
 },
 "nbformat": 4,
 "nbformat_minor": 2
}
