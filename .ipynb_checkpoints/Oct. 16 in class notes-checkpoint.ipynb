{
 "cells": [
  {
   "cell_type": "code",
   "execution_count": 13,
   "metadata": {},
   "outputs": [
    {
     "name": "stdout",
     "output_type": "stream",
     "text": [
      " Volume in drive C has no label.\n",
      " Volume Serial Number is 5682-6DAE\n",
      "\n",
      " Directory of C:\\Users\\Papar\n",
      "\n",
      "16/10/2017  05:21 PM    <DIR>          .\n",
      "16/10/2017  05:21 PM    <DIR>          ..\n",
      "15/09/2017  09:27 PM    <DIR>          .anaconda\n",
      "27/06/2017  01:01 PM    <DIR>          .cisco\n",
      "12/10/2017  11:10 PM    <DIR>          .conda\n",
      "15/10/2017  11:54 AM                43 .condarc\n",
      "16/10/2017  05:13 PM    <DIR>          .ipynb_checkpoints\n",
      "18/09/2017  03:59 PM    <DIR>          .ipython\n",
      "22/09/2017  12:25 PM    <DIR>          .jupyter\n",
      "16/10/2017  01:37 PM    <DIR>          .matplotlib\n",
      "22/05/2017  11:00 AM    <DIR>          .spss\n",
      "15/09/2017  09:19 PM    <DIR>          Anaconda3\n",
      "24/09/2017  08:34 PM    <DIR>          AnacondaProjects\n",
      "03/10/2017  02:36 AM               124 bigdata\n",
      "03/10/2017  02:39 AM               124 bigdata.txt\n",
      "13/05/2017  10:30 AM    <DIR>          Contacts\n",
      "14/10/2017  04:41 PM    <DIR>          Desktop\n",
      "15/09/2017  09:19 PM    <DIR>          Documents\n",
      "16/10/2017  05:07 PM    <DIR>          Downloads\n",
      "13/05/2017  10:30 AM    <DIR>          Favorites\n",
      "14/10/2017  05:05 PM             2,665 funConcordance.txt\n",
      "25/09/2017  03:52 PM           490,278 HOMEWORK 1.ipynb\n",
      "03/10/2017  03:06 AM         1,391,706 Homework 3 - Website.ipynb\n",
      "16/10/2017  02:08 PM         5,729,690 Homework_Oct. 16.ipynb\n",
      "29/09/2017  10:58 AM    <DIR>          HUCO617\n",
      "13/10/2017  01:22 PM            31,003 Learn Python.ipynb\n",
      "14/10/2017  06:41 PM            80,312 Lesson 7 Review.ipynb\n",
      "13/05/2017  10:30 AM    <DIR>          Links\n",
      "13/05/2017  10:30 AM    <DIR>          Music\n",
      "16/10/2017  05:21 PM             5,851 Oct. 16 in class notes.ipynb\n",
      "16/10/2017  01:37 PM         1,223,517 Output.txt\n",
      "13/05/2017  10:30 AM    <DIR>          Pictures\n",
      "16/10/2017  01:37 PM            57,698 powerConcordance.txt\n",
      "13/05/2017  12:45 PM               473 rarreg.key\n",
      "16/10/2017  05:16 PM             2,372 RAW.csv\n",
      "13/10/2017  01:44 PM             1,252 realConcordance.txt\n",
      "13/05/2017  10:30 AM    <DIR>          Saved Games\n",
      "13/05/2017  10:30 AM    <DIR>          Searches\n",
      "25/09/2017  03:01 PM               620 story.txt\n",
      "15/10/2017  12:02 PM                80 TheURL.txt\n",
      "03/10/2017  03:04 AM               208 truthConcordance.txt\n",
      "03/10/2017  02:35 AM                 0 untitled\n",
      "18/09/2017  05:47 PM            12,315 Untitled.ipynb\n",
      "03/10/2017  03:48 AM             7,042 Untitled1.ipynb\n",
      "24/09/2017  09:26 PM               398 Untitled1.py\n",
      "13/05/2017  10:30 AM    <DIR>          Videos\n",
      "13/10/2017  01:30 PM               126 Website list\n",
      "13/10/2017  01:32 PM               126 Website list.txt\n",
      "              24 File(s)      9,038,023 bytes\n",
      "              24 Dir(s)  17,982,431,232 bytes free\n"
     ]
    }
   ],
   "source": [
    "%ls"
   ]
  },
  {
   "cell_type": "code",
   "execution_count": 14,
   "metadata": {
    "collapsed": true
   },
   "outputs": [],
   "source": [
    "import csv"
   ]
  },
  {
   "cell_type": "code",
   "execution_count": 15,
   "metadata": {},
   "outputs": [
    {
     "name": "stdout",
     "output_type": "stream",
     "text": [
      " Volume in drive C has no label.\n",
      " Volume Serial Number is 5682-6DAE\n",
      "\n",
      " Directory of C:\\Users\\Papar\n",
      "\n",
      "16/10/2017  05:16 PM             2,372 RAW.csv\n",
      "               1 File(s)          2,372 bytes\n",
      "               0 Dir(s)  17,982,414,848 bytes free\n"
     ]
    }
   ],
   "source": [
    "%ls *.csv"
   ]
  },
  {
   "cell_type": "code",
   "execution_count": 16,
   "metadata": {},
   "outputs": [
    {
     "data": {
      "text/plain": [
       "9"
      ]
     },
     "execution_count": 16,
     "metadata": {},
     "output_type": "execute_result"
    }
   ],
   "source": [
    "import csv\n",
    "comments = []\n",
    "with open('RAW.csv', 'r') as file:\n",
    "    data = csv.reader(file)\n",
    "    for row in data:\n",
    "        comments.append(row[6])\n",
    "    file.close()\n",
    "\n",
    "len(comments)"
   ]
  },
  {
   "cell_type": "code",
   "execution_count": 19,
   "metadata": {},
   "outputs": [
    {
     "data": {
      "text/plain": [
       "4"
      ]
     },
     "execution_count": 19,
     "metadata": {},
     "output_type": "execute_result"
    }
   ],
   "source": [
    "import csv\n",
    "comments = []\n",
    "with open('RAW.csv', 'r') as file:\n",
    "    data = csv.reader(file)\n",
    "    for row in data:\n",
    "        if row[3] == 'MA' or row[3] == 'PHD':\n",
    "            comments.append(row[6])\n",
    "    file.close()       \n",
    "\n",
    "len(comments)"
   ]
  },
  {
   "cell_type": "code",
   "execution_count": 20,
   "metadata": {},
   "outputs": [
    {
     "name": "stdout",
     "output_type": "stream",
     "text": [
      "[\"I have an extremely strong work ethic. When I'm working on a project, I don't want just to meet deadlines. Rather, I prefer to complete the project well ahead of schedule. Last year, I even earned a bonus for completing my three most recent reports one week ahead of time.\", \"When I'm working on a project, I don't want just to meet deadlines. Rather, I prefer to complete the project well ahead of schedule.\", \"I am a skilled salesman with over ten years of experience. I have exceeded my sales goals every quarter and I've earned a bonus each year since I started with my current employer.\", \"I like to make sure that my work is perfect, so I tend to perhaps spend a little too much time checking it. However, I've come to a good balance by setting up a system to ensure everything is done the first time correctly.\"]\n"
     ]
    }
   ],
   "source": [
    "print(comments)"
   ]
  },
  {
   "cell_type": "code",
   "execution_count": 21,
   "metadata": {
    "collapsed": true
   },
   "outputs": [],
   "source": [
    "import nltk"
   ]
  },
  {
   "cell_type": "code",
   "execution_count": 24,
   "metadata": {},
   "outputs": [
    {
     "name": "stdout",
     "output_type": "stream",
     "text": [
      "\n",
      "\n",
      "I have an extremely strong work ethic. When I'm working on a project, I don't want just to meet deadlines. Rather, I prefer to complete the project well ahead of schedule. Last year, I even earned a bonus for completing my three most recent reports one week ahead of time.\n",
      "\n",
      "When I'm working on a project, I don't want just to meet deadlines. Rather, I prefer to complete the project well ahead of schedule.\n",
      "\n",
      "I am a skilled salesman with over ten years of experience. I have exceeded my sales goals every quarter and I've earned a bonus each year since I started with my current employer.\n",
      "\n",
      "I like to make sure that my work is perfect, so I tend to perhaps spend a little too much time checking it. However, I've come to a good balance by setting up a system to ensure everything is done the first time correctly.\n"
     ]
    }
   ],
   "source": [
    "theWholeText = \"\"\n",
    "\n",
    "for comment in comments:\n",
    "    theWholeText = theWholeText + \"\\n\\n\" + comment\n",
    "    \n",
    "print(theWholeText)"
   ]
  },
  {
   "cell_type": "code",
   "execution_count": 25,
   "metadata": {
    "collapsed": true
   },
   "outputs": [],
   "source": [
    "import re"
   ]
  },
  {
   "cell_type": "code",
   "execution_count": null,
   "metadata": {
    "collapsed": true
   },
   "outputs": [],
   "source": []
  }
 ],
 "metadata": {
  "kernelspec": {
   "display_name": "Python 3",
   "language": "python",
   "name": "python3"
  },
  "language_info": {
   "codemirror_mode": {
    "name": "ipython",
    "version": 3
   },
   "file_extension": ".py",
   "mimetype": "text/x-python",
   "name": "python",
   "nbconvert_exporter": "python",
   "pygments_lexer": "ipython3",
   "version": "3.6.1"
  }
 },
 "nbformat": 4,
 "nbformat_minor": 2
}
