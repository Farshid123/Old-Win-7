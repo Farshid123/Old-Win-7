{
 "cells": [
  {
   "cell_type": "markdown",
   "metadata": {},
   "source": [
    "# list of negative words:"
   ]
  },
  {
   "cell_type": "code",
   "execution_count": 1,
   "metadata": {},
   "outputs": [
    {
     "name": "stdout",
     "output_type": "stream",
     "text": [
      "['wretchedly', 'wretchedness', 'wrong', 'wrongful', 'wrought', 'wrought', 'yawn', 'zealot', 'zealous', 'zealously']\n"
     ]
    }
   ],
   "source": [
    "with open(\"Negative_words.txt\", \"r\") as f:\n",
    "    negText = f.read()\n",
    "negTokens = negText.split(\"\\n\") # This splits the text file into tokens on the new line character\n",
    "negTokens[-1:] = [] # This strips out the final empty item\n",
    "print(negTokens[-10:])"
   ]
  },
  {
   "cell_type": "markdown",
   "metadata": {},
   "source": [
    "# list of positive words:"
   ]
  },
  {
   "cell_type": "code",
   "execution_count": 2,
   "metadata": {},
   "outputs": [
    {
     "name": "stdout",
     "output_type": "stream",
     "text": [
      "['worthwhile', 'worthy', 'wow', 'wry', 'yearning', 'yearningly', 'youthful', 'zeal', 'zenith', 'zest']\n"
     ]
    }
   ],
   "source": [
    "with open(\"Positive_words.txt\", \"r\") as f:\n",
    "    posText = f.read()\n",
    "posTokens = posText.split(\"\\n\") # This splits the text file into tokens on the new line character\n",
    "posTokens[-1:] = [] # This strips out the final empty item\n",
    "print(posTokens[-10:])"
   ]
  },
  {
   "cell_type": "markdown",
   "metadata": {},
   "source": [
    "# Calling the corpus:"
   ]
  },
  {
   "cell_type": "code",
   "execution_count": 3,
   "metadata": {},
   "outputs": [
    {
     "name": "stdout",
     "output_type": "stream",
     "text": [
      "['Tweet/Post', '\"For many years, #JasperNP has held a Spring Flower Count. Volunteers & Parks staff collect data on the flowers that are blooming in the park, which is then used for climate change research as it helps describe ecological trends over time. \"']\n"
     ]
    }
   ],
   "source": [
    "with open(\"Providers_text2.txt\", \"r\") as f:\n",
    "    tweetsText = f.read()\n",
    "tweetsTokens = tweetsText.split(\"\\n\") # This splits the text file into tokens on the new line character\n",
    "tweetsTokens[-1:] = [] # This strips out the final empty item\n",
    "print(tweetsTokens[:2])"
   ]
  },
  {
   "cell_type": "markdown",
   "metadata": {},
   "source": [
    "# Tokenizing reviews:"
   ]
  },
  {
   "cell_type": "code",
   "execution_count": 4,
   "metadata": {},
   "outputs": [],
   "source": [
    "import re\n",
    "def tokenizer(theText):\n",
    "    theTokens = re.findall(r'\\b\\w[\\w-]*\\b', theText.lower())\n",
    "    return theTokens\n",
    "\n",
    "def calculator(theTweet):\n",
    "    # Count positive words\n",
    "    numPosWords = 0\n",
    "    theTweetTokens = tokenizer(theTweet)\n",
    "    for word in theTweetTokens:\n",
    "        if word in posTokens:\n",
    "            numPosWords += 1\n",
    "            \n",
    "    # Count negative words\n",
    "    numNegWords = 0\n",
    "    for word in theTweetTokens:\n",
    "        if word in negTokens:\n",
    "            numNegWords += 1\n",
    "    \n",
    "    sum = (numPosWords - numNegWords)\n",
    "    return sum\n",
    "\n",
    "# Here is a line for testing this\n",
    "# print(calculator('Obama has called wrong wrong the GOP budget social Darwinism. Nice try, but they believe in social creationism.'))"
   ]
  },
  {
   "cell_type": "markdown",
   "metadata": {},
   "source": [
    "# Number of total reviews, and Pos/Neg/Neutral reviews:"
   ]
  },
  {
   "cell_type": "code",
   "execution_count": 5,
   "metadata": {},
   "outputs": [
    {
     "name": "stdout",
     "output_type": "stream",
     "text": [
      "Total: 602\n",
      "Positive: 98\n",
      "Neutral: 450\n",
      "Negative: 54\n"
     ]
    }
   ],
   "source": [
    "# Here we set up the thresholds\n",
    "posi = 1 # This means there have to be more than 1 positive word\n",
    "nega = 0 # This means there has to be more than 1 negative words\n",
    "\n",
    "# Here we prime our variables\n",
    "numTweets = 0\n",
    "numPosTweets = 0\n",
    "numNegTweets = 0\n",
    "numNeutTweets = 0\n",
    "\n",
    "# This loop goes through all the Tweets and calculates if sums the number of positive or negative ones.\n",
    "for tweet in tweetsTokens:\n",
    "    calc = calculator(tweet)\n",
    "    if calc > posi:\n",
    "        numPosTweets += 1\n",
    "        numTweets += 1\n",
    "    elif calc < nega:\n",
    "        numNegTweets += 1\n",
    "        numTweets += 1\n",
    "    else:\n",
    "        numNeutTweets += 1\n",
    "        numTweets += 1\n",
    "\n",
    "# This prints out the results        \n",
    "print(\"Total: \" + str(numTweets) + \"\\n\" + \"Positive: \" + str(numPosTweets) + \"\\n\" + \"Neutral: \" + str(numNeutTweets) + \"\\n\" + \"Negative: \" +str(numNegTweets))"
   ]
  },
  {
   "cell_type": "markdown",
   "metadata": {},
   "source": [
    "# Examples of positive reviews:"
   ]
  },
  {
   "cell_type": "code",
   "execution_count": 6,
   "metadata": {},
   "outputs": [
    {
     "name": "stdout",
     "output_type": "stream",
     "text": [
      "['\"Why is there still a fire ban in JNP? Since May 1, there has been an average of 66 mm of rainfall in the park. It will take almost the same amount of rain over 2 days to significantly change the moisture of medium & large fuels. Until then, the fire ban remains in effect. \"', '\"When the weather is warm, the thickness of natural ice can change from day to day\"', 'Hi @kifehr The status of the fire ban is difficult to predict in advance as the weather and fuel conditions are always fluctuating. Fine fuels respond rapidly to changes in the environment; even if they are dampened by rain they can rebound given just one sunny day', '\"The fire ban in #JasperNP, as well as the Municipality of Jasper, has been lifted. Thank you for your cooperation and support throughout this wildfire season. \"']\n"
     ]
    }
   ],
   "source": [
    "\n",
    "# Here we set up the threshold.\n",
    "posi = 1 # This means there have to be more than 1 positive word\n",
    "numberWanted = 4 # Here you decide how many tweets you want\n",
    "\n",
    "# Here we prime our variables\n",
    "numTweets = 0\n",
    "numPosTweets = 0\n",
    "posiTweetList = []\n",
    "\n",
    "# This loop goes through all the Tweets and calculates if sums the number of positive or negative ones.\n",
    "for tweet in tweetsTokens:\n",
    "    calc = calculator(tweet)\n",
    "    if calc > posi and numPosTweets < numberWanted:\n",
    "        numPosTweets += 1\n",
    "        posiTweetList.append(tweet)\n",
    "\n",
    "print(posiTweetList)"
   ]
  },
  {
   "cell_type": "markdown",
   "metadata": {},
   "source": [
    "# Examples of negative reviews:"
   ]
  },
  {
   "cell_type": "code",
   "execution_count": 7,
   "metadata": {},
   "outputs": [
    {
     "name": "stdout",
     "output_type": "stream",
     "text": [
      "['\"Snarl Peak Wildfire Update: Fire activity increased yesterday due to high temperatures, low humidity and high winds.\"', 'A fire ban for Jasper National Park is in effect. Fire danger is rated as extreme. Warm, mostly dry weather is anticipated to continue through the Labour Day weekend keeping the fire danger at extreme.', '· Report any wildfires, illegal campfires or suspicious smoke to Parks Canada Dispatch: 780-852-6155.', 'Road construction makes for an added challenge in the daily lives of small terrestrial animals such as ground squirrels. To aid in mitigating the effects of current road paving work in Jasper National Park, our wildlife biologists are tracking the phenology of ground squirrels to ensure that they are kept out of harm’s way #Conservation \"']\n"
     ]
    }
   ],
   "source": [
    "# Here we set up the threshold.\n",
    "nega = -1 # This means there have to be more than 1 positive word\n",
    "numberWanted = 4 # Here you decide how many tweets you want\n",
    "\n",
    "# Here we prime our variables\n",
    "numTweets = 0\n",
    "numNegTweets = 0\n",
    "negaTweetList = []\n",
    "\n",
    "# This loop goes through all the Tweets and calculates if sums the number of positive or negative ones.\n",
    "for tweet in tweetsTokens:\n",
    "    calc = calculator(tweet)\n",
    "    if calc < nega and numNegTweets < numberWanted:\n",
    "        numNegTweets += 1\n",
    "        negaTweetList.append(tweet)\n",
    "\n",
    "print(negaTweetList)"
   ]
  },
  {
   "cell_type": "markdown",
   "metadata": {},
   "source": [
    "# Test a review:"
   ]
  },
  {
   "cell_type": "code",
   "execution_count": 8,
   "metadata": {},
   "outputs": [
    {
     "name": "stdout",
     "output_type": "stream",
     "text": [
      "What is the tweet to calculate?2\n",
      "0\n"
     ]
    }
   ],
   "source": [
    "tweetToCalc = input(\"What is the tweet to calculate?\")\n",
    "print(calculator(tweetToCalc))"
   ]
  },
  {
   "cell_type": "markdown",
   "metadata": {},
   "source": [
    "# Gathering and plotting positive and negative words of a sample review:"
   ]
  },
  {
   "cell_type": "code",
   "execution_count": 9,
   "metadata": {},
   "outputs": [
    {
     "name": "stdout",
     "output_type": "stream",
     "text": [
      "What tweet do you want to process? 2\n",
      "Positive words: []\n",
      "Negative words: []\n"
     ]
    }
   ],
   "source": [
    "import re\n",
    "posWordsList = []\n",
    "negWordsList = []\n",
    "\n",
    "def tokenizer(theText):\n",
    "    theTokens = re.findall(r'\\b\\w[\\w-]*\\b', theText.lower())\n",
    "    return theTokens\n",
    "\n",
    "def wordsCalculator(theTweet):\n",
    "    # Count positive words\n",
    "    numPosWords = 0\n",
    "    theTweetTokens = tokenizer(theTweet)\n",
    "    for word in theTweetTokens:\n",
    "        if word in posTokens:\n",
    "            numPosWords += 1\n",
    "            posWordsList.append(word)\n",
    "            \n",
    "    # Count negative words\n",
    "    numNegWords = 0\n",
    "    for word in theTweetTokens:\n",
    "        if word in negTokens:\n",
    "            numNegWords += 1\n",
    "            negWordsList.append(word)\n",
    "\n",
    "tweet2Process = input(\"What tweet do you want to process? \")\n",
    "wordsCalculator(tweet2Process)\n",
    "print(\"Positive words: \" + str(posWordsList[:10]))\n",
    "print(\"Negative words: \" + str(negWordsList[:10]))"
   ]
  },
  {
   "cell_type": "markdown",
   "metadata": {},
   "source": [
    "# Gathering and plotting all positive and negative words:"
   ]
  },
  {
   "cell_type": "code",
   "execution_count": 10,
   "metadata": {},
   "outputs": [
    {
     "name": "stdout",
     "output_type": "stream",
     "text": [
      "Positive words: 527\n",
      "Negative words: 206\n"
     ]
    }
   ],
   "source": [
    "\n",
    "import re\n",
    "\n",
    "# Here we set up the thresholds\n",
    "posi = 1 # This means there have to be more than 1 positive word\n",
    "nega = 0 # This means there has to be more than 1 negative words\n",
    "\n",
    "# Here we prime our variables\n",
    "posWordsList = []\n",
    "negWordsList = []\n",
    "numTweets = 0\n",
    "numPosTweets = 0\n",
    "numNegTweets = 0\n",
    "numNeutTweets = 0\n",
    "\n",
    "def wordsGathering(theTweet):\n",
    "    # Count positive words\n",
    "    numPosWords = 0\n",
    "    theTweetTokens = tokenizer(theTweet)\n",
    "    for word in theTweetTokens:\n",
    "        if word in posTokens:\n",
    "            numPosWords += 1\n",
    "            posWordsList.append(word)\n",
    "            \n",
    "    # Count negative words\n",
    "    numNegWords = 0\n",
    "    for word in theTweetTokens:\n",
    "        if word in negTokens:\n",
    "            numNegWords += 1\n",
    "            negWordsList.append(word)       \n",
    "    \n",
    "    sum = (numPosWords - numNegWords)\n",
    "    return sum\n",
    "\n",
    "# This loop goes through all the Tweets and calculates if sums the number of positive or negative ones.\n",
    "for tweet in tweetsTokens:\n",
    "    calc = wordsGathering(tweet)\n",
    "    if calc > posi:\n",
    "        numPosTweets += 1\n",
    "        numTweets += 1\n",
    "    elif calc < nega:\n",
    "        numNegTweets += 1\n",
    "        numTweets += 1\n",
    "    else:\n",
    "        numNeutTweets += 1\n",
    "        numTweets += 1\n",
    "\n",
    "print(\"Positive words: \" + str(len(posWordsList)))\n",
    "print(\"Negative words: \" + str(len(negWordsList)))"
   ]
  },
  {
   "cell_type": "markdown",
   "metadata": {},
   "source": [
    "# plotting positive words:"
   ]
  },
  {
   "cell_type": "code",
   "execution_count": 11,
   "metadata": {},
   "outputs": [
    {
     "name": "stdout",
     "output_type": "stream",
     "text": [
      "     will      open      help confident      good potential       hot  elevated      well important \n",
      "       89        64        24        18        15        15        15        14        13        12 \n"
     ]
    },
    {
     "data": {
      "image/png": "[encoded data removed]",
      "text/plain": [
       "<Figure size 432x288 with 1 Axes>"
      ]
     },
     "metadata": {},
     "output_type": "display_data"
    }
   ],
   "source": [
    "import nltk, matplotlib\n",
    "\n",
    "posDist = nltk.FreqDist(posWordsList)\n",
    "posDist.tabulate(10)\n",
    "\n",
    "%matplotlib inline\n",
    "posDist.plot(25, title=\"Top Positive Words\")"
   ]
  },
  {
   "cell_type": "markdown",
   "metadata": {},
   "source": [
    "# Plotting negative words:"
   ]
  },
  {
   "cell_type": "code",
   "execution_count": 12,
   "metadata": {},
   "outputs": [
    {
     "name": "stdout",
     "output_type": "stream",
     "text": [
      "       risk      danger suppression      threat     extreme    concerns        need       fight        hard     fatigue \n",
      "         33          26          23          14           8           5           5           4           4           4 \n"
     ]
    },
    {
     "data": {
      "image/png": "[encoded data removed]",
      "text/plain": [
       "<Figure size 432x288 with 1 Axes>"
      ]
     },
     "metadata": {},
     "output_type": "display_data"
    }
   ],
   "source": [
    "negDist = nltk.FreqDist(negWordsList)\n",
    "negDist.tabulate(10)\n",
    "\n",
    "%matplotlib inline\n",
    "negDist.plot(25, title=\"Top Negative Words\")"
   ]
  },
  {
   "cell_type": "code",
   "execution_count": 10,
   "metadata": {},
   "outputs": [
    {
     "name": "stdout",
     "output_type": "stream",
     "text": [
      "This string has 4212284 characters.\n"
     ]
    }
   ],
   "source": [
    "with open('BIGDATA.txt','r') as myfile:\n",
    "    data_string=myfile.read().replace('\\n','')\n",
    "print(\"This string has\", len(data_string), \"characters.\")"
   ]
  },
  {
   "cell_type": "code",
   "execution_count": 16,
   "metadata": {
    "collapsed": true
   },
   "outputs": [],
   "source": [
    "from textblob import TextBlob\n",
    "testimonial = TextBlob(data_string) # any string (such as our sonnets)"
   ]
  },
  {
   "cell_type": "code",
   "execution_count": null,
   "metadata": {
    "collapsed": true
   },
   "outputs": [],
   "source": []
  }
 ],
 "metadata": {
  "kernelspec": {
   "display_name": "Python 3",
   "language": "python",
   "name": "python3"
  },
  "language_info": {
   "codemirror_mode": {
    "name": "ipython",
    "version": 3
   },
   "file_extension": ".py",
   "mimetype": "text/x-python",
   "name": "python",
   "nbconvert_exporter": "python",
   "pygments_lexer": "ipython3",
   "version": "3.6.5"
  }
 },
 "nbformat": 4,
 "nbformat_minor": 2
}
