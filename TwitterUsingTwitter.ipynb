{
 "cells": [
  {
   "cell_type": "markdown",
   "metadata": {},
   "source": [
    "# Example 1. Authorizing an application to access Twitter account data"
   ]
  },
  {
   "cell_type": "code",
   "execution_count": 1,
   "metadata": {},
   "outputs": [],
   "source": [
    "import twitter"
   ]
  },
  {
   "cell_type": "code",
   "execution_count": 15,
   "metadata": {},
   "outputs": [
    {
     "ename": "SyntaxError",
     "evalue": "invalid syntax (<ipython-input-15-ea7594588708>, line 1)",
     "output_type": "error",
     "traceback": [
      "\u001b[1;36m  File \u001b[1;32m\"<ipython-input-15-ea7594588708>\"\u001b[1;36m, line \u001b[1;32m1\u001b[0m\n\u001b[1;33m    python -m pip install twitterscraper\u001b[0m\n\u001b[1;37m                ^\u001b[0m\n\u001b[1;31mSyntaxError\u001b[0m\u001b[1;31m:\u001b[0m invalid syntax\n"
     ]
    }
   ],
   "source": [
    "python -m pip install twitterscraper"
   ]
  },
  {
   "cell_type": "code",
   "execution_count": 5,
   "metadata": {},
   "outputs": [],
   "source": [
    "from setuptools import setup, find_packages"
   ]
  },
  {
   "cell_type": "code",
   "execution_count": 8,
   "metadata": {},
   "outputs": [],
   "source": [
    "import csv\n",
    "import json\n",
    "import argparse\n",
    "import collections\n",
    "import datetime as dt\n",
    "from os.path import isfile"
   ]
  },
  {
   "cell_type": "code",
   "execution_count": 12,
   "metadata": {},
   "outputs": [],
   "source": [
    "# XXX: Go to http://dev.twitter.com/apps/new to create an app and get values\n",
    "# for these credentials, which you'll need to provide in place of these\n",
    "# empty string values that are defined as placeholders.\n",
    "# See https://dev.twitter.com/docs/auth/oauth for more information on Twitter's OAuth implementation.\n",
    "# access_token = \"4576964834-5ZretFH6XZs605C6lUyWKBBqwe3O2OvLg84mZKZ\"\n",
    "# access_token_secret = \"y9QehXEmGkM4rYYkAGPi7AwDX665qpxOF7UQxjsv0R1yW\"\n",
    "# consumer_key = \"5rEhPV8THryOeTmDVVHi03axp\"\n",
    "# consumer_secret = \"beo4w9LPA1evBexDD3evhVUrO1OFhTwVrpeiozo4HZv5srtBGf\"\n",
    "CONSUMER_KEY =\"5rEhPV8THryOeTmDVVHi03axp\"\n",
    "CONSUMER_SECRET =\"beo4w9LPA1evBexDD3evhVUrO1OFhTwVrpeiozo4HZv5srtBGf\"\n",
    "OAUTH_TOKEN =\"4576964834-5ZretFH6XZs605C6lUyWKBBqwe3O2OvLg84mZKZ\"\n",
    "OAUTH_TOKEN_SECRET =\"y9QehXEmGkM4rYYkAGPi7AwDX665qpxOF7UQxjsv0R1yW\""
   ]
  },
  {
   "cell_type": "code",
   "execution_count": 13,
   "metadata": {},
   "outputs": [
    {
     "ename": "AttributeError",
     "evalue": "module 'twitter' has no attribute 'oauth'",
     "output_type": "error",
     "traceback": [
      "\u001b[1;31m---------------------------------------------------------------------------\u001b[0m",
      "\u001b[1;31mAttributeError\u001b[0m                            Traceback (most recent call last)",
      "\u001b[1;32m<ipython-input-13-d3f205af9d0f>\u001b[0m in \u001b[0;36m<module>\u001b[1;34m()\u001b[0m\n\u001b[1;32m----> 1\u001b[1;33m \u001b[0mauth\u001b[0m \u001b[1;33m=\u001b[0m \u001b[0mtwitter\u001b[0m\u001b[1;33m.\u001b[0m\u001b[0moauth\u001b[0m\u001b[1;33m.\u001b[0m\u001b[0mOAuth\u001b[0m\u001b[1;33m(\u001b[0m\u001b[0mOAUTH_TOKEN\u001b[0m\u001b[1;33m,\u001b[0m \u001b[0mOAUTH_TOKEN_SECRET\u001b[0m\u001b[1;33m,\u001b[0m\u001b[0mCONSUMER_KEY\u001b[0m\u001b[1;33m,\u001b[0m \u001b[0mCONSUMER_SECRET\u001b[0m\u001b[1;33m)\u001b[0m\u001b[1;33m\u001b[0m\u001b[0m\n\u001b[0m",
      "\u001b[1;31mAttributeError\u001b[0m: module 'twitter' has no attribute 'oauth'"
     ]
    }
   ],
   "source": [
    "auth = twitter.oauth.OAuth(OAUTH_TOKEN, OAUTH_TOKEN_SECRET,CONSUMER_KEY, CONSUMER_SECRET)"
   ]
  },
  {
   "cell_type": "code",
   "execution_count": 17,
   "metadata": {},
   "outputs": [
    {
     "ename": "AttributeError",
     "evalue": "module 'twitter' has no attribute 'Twitter'",
     "output_type": "error",
     "traceback": [
      "\u001b[1;31m---------------------------------------------------------------------------\u001b[0m",
      "\u001b[1;31mAttributeError\u001b[0m                            Traceback (most recent call last)",
      "\u001b[1;32m<ipython-input-17-3e97cc9604c5>\u001b[0m in \u001b[0;36m<module>\u001b[1;34m()\u001b[0m\n\u001b[1;32m----> 1\u001b[1;33m \u001b[0mtwitter_api\u001b[0m \u001b[1;33m=\u001b[0m \u001b[0mtwitter\u001b[0m\u001b[1;33m.\u001b[0m\u001b[0mTwitter\u001b[0m\u001b[1;33m(\u001b[0m\u001b[0mauth\u001b[0m\u001b[1;33m=\u001b[0m\u001b[0mauth\u001b[0m\u001b[1;33m)\u001b[0m\u001b[1;33m\u001b[0m\u001b[0m\n\u001b[0m\u001b[0;32m      2\u001b[0m \u001b[1;33m\u001b[0m\u001b[0m\n\u001b[0;32m      3\u001b[0m \u001b[1;31m# Nothing to see by displaying twitter_api except that it's now a defined variable\u001b[0m\u001b[1;33m\u001b[0m\u001b[1;33m\u001b[0m\u001b[0m\n\u001b[0;32m      4\u001b[0m \u001b[1;33m\u001b[0m\u001b[0m\n\u001b[0;32m      5\u001b[0m \u001b[0mprint\u001b[0m \u001b[1;33m(\u001b[0m\u001b[0mtwitter_api\u001b[0m\u001b[1;33m)\u001b[0m\u001b[1;33m\u001b[0m\u001b[0m\n",
      "\u001b[1;31mAttributeError\u001b[0m: module 'twitter' has no attribute 'Twitter'"
     ]
    }
   ],
   "source": [
    "twitter_api = twitter.Twitter(auth=auth)\n",
    "\n",
    "# Nothing to see by displaying twitter_api except that it's now a defined variable\n",
    "\n",
    "print (twitter_api)"
   ]
  },
  {
   "cell_type": "code",
   "execution_count": 20,
   "metadata": {},
   "outputs": [
    {
     "data": {
      "text/plain": [
       "module"
      ]
     },
     "execution_count": 20,
     "metadata": {},
     "output_type": "execute_result"
    }
   ],
   "source": [
    "type(twitter)"
   ]
  },
  {
   "cell_type": "code",
   "execution_count": 27,
   "metadata": {},
   "outputs": [
    {
     "data": {
      "text/plain": [
       "['Api',\n",
       " 'Category',\n",
       " 'DirectMessage',\n",
       " 'Hashtag',\n",
       " 'List',\n",
       " 'Media',\n",
       " 'ParseTweet',\n",
       " 'Status',\n",
       " 'Trend',\n",
       " 'TwitterError',\n",
       " 'Url',\n",
       " 'User',\n",
       " 'UserStatus',\n",
       " '_FileCache',\n",
       " '__author__',\n",
       " '__builtins__',\n",
       " '__cached__',\n",
       " '__copyright__',\n",
       " '__description__',\n",
       " '__doc__',\n",
       " '__download_url__',\n",
       " '__email__',\n",
       " '__file__',\n",
       " '__license__',\n",
       " '__loader__',\n",
       " '__name__',\n",
       " '__package__',\n",
       " '__path__',\n",
       " '__spec__',\n",
       " '__url__',\n",
       " '__version__',\n",
       " '_file_cache',\n",
       " 'absolute_import',\n",
       " 'api',\n",
       " 'error',\n",
       " 'json',\n",
       " 'md5',\n",
       " 'models',\n",
       " 'parse_tweet',\n",
       " 'ratelimit',\n",
       " 'twitter_utils']"
      ]
     },
     "execution_count": 27,
     "metadata": {},
     "output_type": "execute_result"
    }
   ],
   "source": [
    "dir(twitter)"
   ]
  },
  {
   "cell_type": "code",
   "execution_count": 28,
   "metadata": {},
   "outputs": [
    {
     "name": "stdout",
     "output_type": "stream",
     "text": [
      "Help on package twitter:\n",
      "\n",
      "NAME\n",
      "    twitter - A library that provides a Python interface to the Twitter API.\n",
      "\n",
      "PACKAGE CONTENTS\n",
      "    _file_cache\n",
      "    api\n",
      "    debug\n",
      "    error\n",
      "    models\n",
      "    parse_tweet\n",
      "    ratelimit\n",
      "    twitter_utils\n",
      "\n",
      "FUNCTIONS\n",
      "    md5 = openssl_md5(...)\n",
      "        Returns a md5 hash object; optionally initialized with a string\n",
      "\n",
      "DATA\n",
      "    __copyright__ = 'Copyright (c) 2007-2016 The Python-Twitter Developers...\n",
      "    __description__ = 'A Python wrapper around the Twitter API'\n",
      "    __download_url__ = 'https://pypi.python.org/pypi/python-twitter'\n",
      "    __email__ = 'python-twitter@googlegroups.com'\n",
      "    __license__ = 'Apache License 2.0'\n",
      "    __url__ = 'https://github.com/bear/python-twitter'\n",
      "    absolute_import = _Feature((2, 5, 0, 'alpha', 1), (3, 0, 0, 'alpha', 0...\n",
      "\n",
      "VERSION\n",
      "    3.4.2\n",
      "\n",
      "AUTHOR\n",
      "    The Python-Twitter Developers\n",
      "\n",
      "FILE\n",
      "    c:\\users\\papar\\appdata\\local\\continuum\\anaconda3\\lib\\site-packages\\twitter\\__init__.py\n",
      "\n",
      "\n"
     ]
    }
   ],
   "source": [
    "help(twitter)"
   ]
  },
  {
   "cell_type": "code",
   "execution_count": null,
   "metadata": {},
   "outputs": [],
   "source": []
  },
  {
   "cell_type": "code",
   "execution_count": 21,
   "metadata": {},
   "outputs": [],
   "source": [
    "## Example 1. Accessing Twitter's API for development purposes"
   ]
  },
  {
   "cell_type": "code",
   "execution_count": 25,
   "metadata": {},
   "outputs": [],
   "source": [
    "import twitter\n",
    "\n",
    "def oauth_login():\n",
    "    # XXX: Go to http://twitter.com/apps/new to create an app and get values\n",
    "    # for these credentials that you'll need to provide in place of these\n",
    "    # empty string values that are defined as placeholders.\n",
    "    # See https://dev.twitter.com/docs/auth/oauth for more information \n",
    "    # on Twitter's OAuth implementation.\n",
    "    \n",
    "    CONSUMER_KEY =\"5rEhPV8THryOeTmDVVHi03axp\"\n",
    "    CONSUMER_SECRET =\"beo4w9LPA1evBexDD3evhVUrO1OFhTwVrpeiozo4HZv5srtBGf\"\n",
    "    OAUTH_TOKEN =\"4576964834-5ZretFH6XZs605C6lUyWKBBqwe3O2OvLg84mZKZ\"\n",
    "    OAUTH_TOKEN_SECRET =\"y9QehXEmGkM4rYYkAGPi7AwDX665qpxOF7UQxjsv0R1yW\"\n",
    "    \n",
    "    auth = twitter.oauth.OAuth(OAUTH_TOKEN, OAUTH_TOKEN_SECRET, CONSUMER_KEY, CONSUMER_SECRET)\n",
    "    \n",
    "    twitter_api = twitter.Twitter(auth=auth)\n",
    "    return twitter_api"
   ]
  },
  {
   "cell_type": "code",
   "execution_count": 26,
   "metadata": {},
   "outputs": [
    {
     "ename": "AttributeError",
     "evalue": "module 'twitter' has no attribute 'oauth'",
     "output_type": "error",
     "traceback": [
      "\u001b[1;31m---------------------------------------------------------------------------\u001b[0m",
      "\u001b[1;31mAttributeError\u001b[0m                            Traceback (most recent call last)",
      "\u001b[1;32m<ipython-input-26-6242a6c80574>\u001b[0m in \u001b[0;36m<module>\u001b[1;34m()\u001b[0m\n\u001b[0;32m      1\u001b[0m \u001b[1;31m# Sample usage\u001b[0m\u001b[1;33m\u001b[0m\u001b[1;33m\u001b[0m\u001b[0m\n\u001b[1;32m----> 2\u001b[1;33m \u001b[0mtwitter_api\u001b[0m \u001b[1;33m=\u001b[0m \u001b[0moauth_login\u001b[0m\u001b[1;33m(\u001b[0m\u001b[1;33m)\u001b[0m\u001b[1;33m\u001b[0m\u001b[0m\n\u001b[0m\u001b[0;32m      3\u001b[0m \u001b[1;33m\u001b[0m\u001b[0m\n\u001b[0;32m      4\u001b[0m \u001b[1;31m# Nothing to see by displaying twitter_api except that it's now a\u001b[0m\u001b[1;33m\u001b[0m\u001b[1;33m\u001b[0m\u001b[0m\n\u001b[0;32m      5\u001b[0m \u001b[1;31m# defined variable\u001b[0m\u001b[1;33m\u001b[0m\u001b[1;33m\u001b[0m\u001b[0m\n",
      "\u001b[1;32m<ipython-input-25-d82ace7b3d96>\u001b[0m in \u001b[0;36moauth_login\u001b[1;34m()\u001b[0m\n\u001b[0;32m     13\u001b[0m     \u001b[0mOAUTH_TOKEN_SECRET\u001b[0m \u001b[1;33m=\u001b[0m\u001b[1;34m\"y9QehXEmGkM4rYYkAGPi7AwDX665qpxOF7UQxjsv0R1yW\"\u001b[0m\u001b[1;33m\u001b[0m\u001b[0m\n\u001b[0;32m     14\u001b[0m \u001b[1;33m\u001b[0m\u001b[0m\n\u001b[1;32m---> 15\u001b[1;33m     \u001b[0mauth\u001b[0m \u001b[1;33m=\u001b[0m \u001b[0mtwitter\u001b[0m\u001b[1;33m.\u001b[0m\u001b[0moauth\u001b[0m\u001b[1;33m.\u001b[0m\u001b[0mOAuth\u001b[0m\u001b[1;33m(\u001b[0m\u001b[0mOAUTH_TOKEN\u001b[0m\u001b[1;33m,\u001b[0m \u001b[0mOAUTH_TOKEN_SECRET\u001b[0m\u001b[1;33m,\u001b[0m \u001b[0mCONSUMER_KEY\u001b[0m\u001b[1;33m,\u001b[0m \u001b[0mCONSUMER_SECRET\u001b[0m\u001b[1;33m)\u001b[0m\u001b[1;33m\u001b[0m\u001b[0m\n\u001b[0m\u001b[0;32m     16\u001b[0m \u001b[1;33m\u001b[0m\u001b[0m\n\u001b[0;32m     17\u001b[0m     \u001b[0mtwitter_api\u001b[0m \u001b[1;33m=\u001b[0m \u001b[0mtwitter\u001b[0m\u001b[1;33m.\u001b[0m\u001b[0mTwitter\u001b[0m\u001b[1;33m(\u001b[0m\u001b[0mauth\u001b[0m\u001b[1;33m=\u001b[0m\u001b[0mauth\u001b[0m\u001b[1;33m)\u001b[0m\u001b[1;33m\u001b[0m\u001b[0m\n",
      "\u001b[1;31mAttributeError\u001b[0m: module 'twitter' has no attribute 'oauth'"
     ]
    }
   ],
   "source": [
    "# Sample usage\n",
    "twitter_api = oauth_login()    \n",
    "\n",
    "# Nothing to see by displaying twitter_api except that it's now a defined variable\n",
    "\n",
    "print (twitter_api)"
   ]
  },
  {
   "cell_type": "code",
   "execution_count": null,
   "metadata": {},
   "outputs": [],
   "source": []
  }
 ],
 "metadata": {
  "kernelspec": {
   "display_name": "Python 3",
   "language": "python",
   "name": "python3"
  },
  "language_info": {
   "codemirror_mode": {
    "name": "ipython",
    "version": 3
   },
   "file_extension": ".py",
   "mimetype": "text/x-python",
   "name": "python",
   "nbconvert_exporter": "python",
   "pygments_lexer": "ipython3",
   "version": "3.6.5"
  }
 },
 "nbformat": 4,
 "nbformat_minor": 2
}
