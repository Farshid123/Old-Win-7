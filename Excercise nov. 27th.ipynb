{
 "cells": [
  {
   "cell_type": "code",
   "execution_count": 1,
   "metadata": {},
   "outputs": [
    {
     "name": "stdout",
     "output_type": "stream",
     "text": [
      " Volume in drive C has no label.\n",
      " Volume Serial Number is 5682-6DAE\n",
      "\n",
      " Directory of C:\\Users\\Papar\n",
      "\n",
      "30/10/2017  09:37 AM                 0 1986.txt\n",
      "30/10/2017  09:43 AM                 0 Anthony86.txt\n",
      "16/09/2017  02:31 PM               263 ASCII_LOGO.txt\n",
      "02/10/2017  11:39 PM               124 bigdata.txt\n",
      "14/10/2017  02:05 PM             2,665 funConcordance.txt\n",
      "04/11/2017  09:43 AM                49 Negative.words.txt\n",
      "04/11/2017  09:33 AM                53 Obama.tweets.txt\n",
      "16/10/2017  10:37 AM         1,223,517 Output.txt\n",
      "29/10/2017  12:11 PM                 0 Output2.txt\n",
      "04/11/2017  09:42 AM                49 Positive.words.txt\n",
      "16/10/2017  10:37 AM            57,698 powerConcordance.txt\n",
      "13/10/2017  10:44 AM             1,252 realConcordance.txt\n",
      "16/09/2017  02:31 PM                69 requirements.txt\n",
      "30/10/2017  09:55 AM                 0 Robbins1986.txt\n",
      "30/10/2017  09:39 AM         1,137,388 Robbins1991.txt\n",
      "23/10/2017  02:26 PM               620 story.txt\n",
      "16/09/2017  02:31 PM                92 test_requirements.txt\n",
      "30/10/2017  08:51 AM         1,137,388 TextToUse.txt\n",
      "29/10/2017  12:43 PM                 0 TextToUse2.txt\n",
      "15/10/2017  09:02 AM                80 TheURL.txt\n",
      "03/10/2017  12:04 AM               208 truthConcordance.txt\n",
      "29/10/2017  12:05 PM                96 unlimited power.txt\n",
      "23/10/2017  02:19 PM                 0 untitled.txt\n",
      "13/10/2017  10:32 AM               126 Website list.txt\n",
      "              24 File(s)      3,561,737 bytes\n",
      "               0 Dir(s)   9,105,162,240 bytes free\n"
     ]
    }
   ],
   "source": [
    "ls *.txt"
   ]
  },
  {
   "cell_type": "code",
   "execution_count": 2,
   "metadata": {},
   "outputs": [
    {
     "name": "stdout",
     "output_type": "stream",
     "text": [
      "This string has 1137388 characters.\n",
      "Awaken The Giant Within\" See other formats OVER I \n"
     ]
    }
   ],
   "source": [
    "theText2Use = \"TextToUse.txt\"\n",
    "with open(theText2Use, \"r\") as fileToRead:\n",
    "    theString = fileToRead.read()\n",
    "    \n",
    "print(\"This string has\", len(theString), \"characters.\")\n",
    "print(theString[:50])"
   ]
  },
  {
   "cell_type": "code",
   "execution_count": 3,
   "metadata": {
    "collapsed": true
   },
   "outputs": [],
   "source": [
    "from textblob import TextBlob"
   ]
  },
  {
   "cell_type": "code",
   "execution_count": 4,
   "metadata": {},
   "outputs": [
    {
     "data": {
      "text/plain": [
       "TextBlob(\"Awaken The Giant Within\" See other formats OVER I MILLION COPIES SOLD Awaken r \\ i m Within How to T\")"
      ]
     },
     "execution_count": 4,
     "metadata": {},
     "output_type": "execute_result"
    }
   ],
   "source": [
    "\n",
    "theBlob = TextBlob(theString)\n",
    "theBlob[:100]"
   ]
  },
  {
   "cell_type": "code",
   "execution_count": 5,
   "metadata": {},
   "outputs": [
    {
     "data": {
      "text/plain": [
       "[('Awaken', 'IN'),\n",
       " ('The', 'DT'),\n",
       " ('Giant', 'NNP'),\n",
       " ('Within', 'NNP'),\n",
       " ('See', 'VB'),\n",
       " ('other', 'JJ'),\n",
       " ('formats', 'NNS'),\n",
       " ('OVER', 'IN'),\n",
       " ('I', 'PRP'),\n",
       " ('MILLION', 'NNP'),\n",
       " ('COPIES', 'NNP'),\n",
       " ('SOLD', 'NNP'),\n",
       " ('Awaken', 'NNP'),\n",
       " ('r', 'NN'),\n",
       " ('\\\\', 'NN'),\n",
       " ('i', 'NN'),\n",
       " ('m', 'VBP'),\n",
       " ('Within', 'NNP'),\n",
       " ('How', 'NNP'),\n",
       " ('to', 'TO')]"
      ]
     },
     "execution_count": 5,
     "metadata": {},
     "output_type": "execute_result"
    }
   ],
   "source": [
    "partsOfSpeech = theBlob.tags\n",
    "partsOfSpeech[:20]"
   ]
  },
  {
   "cell_type": "code",
   "execution_count": 7,
   "metadata": {},
   "outputs": [
    {
     "data": {
      "text/plain": [
       "WordList(['awaken', 'giant', 'over', 'million copies sold awaken', 'r \\\\ i m', 'immediate', 'control a/your', 'mental', 'emotional', 'physical'])"
      ]
     },
     "execution_count": 7,
     "metadata": {},
     "output_type": "execute_result"
    }
   ],
   "source": [
    "theNPhraseList = theBlob.noun_phrases\n",
    "theNPhraseList[:10]"
   ]
  },
  {
   "cell_type": "code",
   "execution_count": null,
   "metadata": {
    "collapsed": true
   },
   "outputs": [],
   "source": []
  }
 ],
 "metadata": {
  "kernelspec": {
   "display_name": "Python 3",
   "language": "python",
   "name": "python3"
  },
  "language_info": {
   "codemirror_mode": {
    "name": "ipython",
    "version": 3
   },
   "file_extension": ".py",
   "mimetype": "text/x-python",
   "name": "python",
   "nbconvert_exporter": "python",
   "pygments_lexer": "ipython3",
   "version": "3.6.3"
  }
 },
 "nbformat": 4,
 "nbformat_minor": 2
}
