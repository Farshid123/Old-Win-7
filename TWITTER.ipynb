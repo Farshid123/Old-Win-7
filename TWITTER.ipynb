{
 "cells": [
  {
   "cell_type": "code",
   "execution_count": 1,
   "metadata": {},
   "outputs": [
    {
     "name": "stdout",
     "output_type": "stream",
     "text": [
      " Volume in drive C has no label.\n",
      " Volume Serial Number is A0BA-5E4B\n",
      "\n",
      " Directory of C:\\Users\\Papar\\Old Win 7\n",
      "\n",
      "2018-06-11  09:38 AM    <DIR>          .\n",
      "2018-06-11  09:38 AM    <DIR>          ..\n",
      "2018-06-02  03:41 PM    <DIR>          .ipynb_checkpoints\n",
      "2017-12-06  06:50 PM                31 1.csv\n",
      "2017-10-30  11:37 AM                 0 1986.txt\n",
      "2017-12-06  06:50 PM                79 2.csv\n",
      "2017-10-21  11:30 PM           312,593 AdamSavageComments.csv\n",
      "2017-09-16  04:31 PM               263 ASCII_LOGO.txt\n",
      "2017-12-05  11:50 AM           760,973 Athabasca_falls.csv\n",
      "2017-12-05  11:54 AM           760,973 Athabasca_falls.txt\n",
      "2017-12-08  12:35 AM         4,238,973 BIGDATA.csv\n",
      "2017-12-08  12:36 AM         4,238,973 BIGDATA.txt\n",
      "2017-12-07  10:55 PM         1,820,967 BIGDATA.xlsx\n",
      "2017-09-16  04:31 PM               836 bindings_url_parser.py\n",
      "2017-09-16  04:31 PM             4,509 CHANGELOG.md\n",
      "2017-09-16  04:31 PM               626 CONTRIBUTORS\n",
      "2017-12-11  10:32 AM           130,834 Corpus analysis-Finished!!.ipynb\n",
      "2017-12-08  04:27 PM           261,622 doc_AthabascaGlaciers.txt\n",
      "2017-12-08  04:27 PM           760,973 doc_AthabscaFalls.txt\n",
      "2017-12-08  04:27 PM         1,264,226 doc_ColumbiaIcefield.txt\n",
      "2017-12-08  04:27 PM           886,983 doc_MaligneCanyon.txt\n",
      "2017-12-08  04:28 PM           338,808 doc_MaligneLake.txt\n",
      "2017-12-08  04:28 PM            76,391 doc_MountEdithCavellTrail.txt\n",
      "2017-12-08  04:28 PM           208,411 doc_MtEdithCavell.txt\n",
      "2017-12-08  04:28 PM           313,309 doc_PyramidPatriciaLakes.txt\n",
      "2017-12-08  04:29 PM            48,911 doc_SunwaptaFalls.txt\n",
      "2017-12-08  04:29 PM            79,154 doc_SunwaptaFallsCanyons.txt\n",
      "2017-11-27  04:53 PM             5,281 Excercise nov. 27th.ipynb\n",
      "2017-10-21  04:22 PM            21,526 Exercise Oct. 19th .ipynb\n",
      "2017-10-30  12:43 PM         7,188,924 Farshid Homework-Oct. 30.ipynb\n",
      "2017-12-06  11:32 AM         1,237,285 Farshid's homework Nov. 6.ipynb\n",
      "2017-12-11  12:19 PM            70,330 Final_Sentiment Analysis.ipynb\n",
      "2017-09-25  02:52 PM           490,278 HOMEWORK 1.ipynb\n",
      "2017-10-03  02:06 AM         1,391,706 Homework 3 - Website.ipynb\n",
      "2017-10-16  01:08 PM         5,729,690 Homework_Oct. 16.ipynb\n",
      "2017-10-30  11:25 AM         5,512,900 Homework_Oct. 23.ipynb\n",
      "2017-11-20  04:37 PM           173,771 Homework-Nov. 20th .ipynb\n",
      "2017-12-01  02:38 PM            85,026 LDA learning.ipynb\n",
      "2017-12-08  01:01 PM            45,414 LDA topic modeling.ipynb\n",
      "2017-12-09  12:17 PM            43,467 LDA topic modeling-BIGDATA (aggragated).ipynb\n",
      "2017-12-09  12:17 PM            43,018 LDA topic modeling-BIGDATA.ipynb\n",
      "2017-12-11  07:39 PM            62,961 LDA Topic moeling-Finished!!.ipynb\n",
      "2017-09-16  04:31 PM             1,077 LICENSE\n",
      "2017-09-16  04:31 PM                25 MANIFEST.in\n",
      "2017-12-06  04:07 PM             1,658 my_csv.csv\n",
      "2017-11-15  01:20 AM             1,432 nano.rc\n",
      "2017-11-04  11:43 AM                49 Negative.words.txt\n",
      "2017-12-06  11:33 AM            41,983 Negative_words.txt\n",
      "2018-06-02  03:41 PM    <DIR>          Novels\n",
      "2017-11-04  11:33 AM                53 Obama.tweets.txt\n",
      "2017-10-16  04:53 PM             8,597 Oct. 16 in class notes.ipynb\n",
      "2017-11-30  02:04 PM            14,961 Only_reviews.txt\n",
      "2017-10-16  12:37 PM         1,223,517 Output.txt\n",
      "2017-10-29  02:11 PM                 0 Output2.txt\n",
      "2017-12-06  11:32 AM            23,722 Positive_words.txt\n",
      "2017-10-16  12:37 PM            57,698 powerConcordance.txt\n",
      "2017-05-13  11:45 AM               473 rarreg.key\n",
      "2017-09-16  04:31 PM             1,203 README.md\n",
      "2017-10-30  11:39 AM         1,137,388 Robbins1991.txt\n",
      "2017-11-29  01:33 PM            15,691 Sample _Columbia Ice Field.txt\n",
      "2017-12-01  02:10 PM            17,336 Sample _Columbia Ice Field.xlsx\n",
      "2017-11-29  04:33 PM            15,691 Sample _ColumbiaIceField.csv\n",
      "2017-12-02  08:18 PM            14,985 Sample.csv\n",
      "2017-12-04  01:45 PM           384,953 Sample.ipynb\n",
      "2017-12-11  12:15 PM             9,413 Sentiment exam.ipynb\n",
      "2017-12-22  02:01 PM            71,872 Sentiment_finished!!.ipynb\n",
      "2017-12-06  04:23 PM             1,072 Sentiment_list.csv\n",
      "2017-09-16  04:31 PM                28 setup.cfg\n",
      "2017-09-16  04:31 PM             1,606 setup.py\n",
      "2018-06-02  03:41 PM    <DIR>          sonnets\n",
      "2017-12-04  01:45 PM           442,049 SonnetsCorpus.ipynb\n",
      "2017-10-23  04:26 PM               620 story.txt\n",
      "2017-09-16  04:31 PM                92 test_requirements.txt\n",
      "2017-11-09  07:56 PM                 0 testreview.csv\n",
      "2017-10-23  04:34 PM         1,136,155 TextToUse\n",
      "2017-10-30  10:51 AM         1,137,388 TextToUse.txt\n",
      "2017-10-15  11:02 AM                80 TheURL.txt\n",
      "2017-11-24  07:28 PM            21,849 TripAdvisor scraping.ipynb\n",
      "2017-11-17  10:57 AM           742,204 tripadvisor.html\n",
      "2017-12-08  12:18 PM           127,943 TripAdvisor_sentiment Analysis.ipynb\n",
      "2017-12-08  12:17 PM         3,151,353 TripAdvisor_sentiment Analysis-Copy1.ipynb\n",
      "2018-06-11  09:38 AM            31,888 TWITTER.ipynb\n",
      "2018-06-11  09:38 AM            55,737 TwitterUseProject.ipynb\n",
      "2017-10-29  02:05 PM                96 unlimited power.txt\n",
      "2017-09-18  04:47 PM            12,315 Untitled.ipynb\n",
      "2018-05-16  12:26 PM               740 Untitled1.ipynb\n",
      "2017-12-08  11:18 AM               581 Untitled1-Copy1.ipynb\n",
      "2017-10-13  12:30 PM               126 Website list\n",
      "2017-10-13  12:32 PM               126 Website list.txt\n",
      "2017-12-06  07:05 PM         4,249,312 ZZAll.csv\n",
      "              85 File(s)     52,768,132 bytes\n",
      "               5 Dir(s)  176,607,211,520 bytes free\n"
     ]
    }
   ],
   "source": [
    "ls"
   ]
  },
  {
   "cell_type": "code",
   "execution_count": 2,
   "metadata": {},
   "outputs": [
    {
     "name": "stdout",
     "output_type": "stream",
     "text": [
      " Volume in drive C has no label.\n",
      " Volume Serial Number is A0BA-5E4B\n",
      "\n",
      " Directory of C:\\Users\\Papar\\Old Win 7\n",
      "\n",
      "2017-10-30  11:37 AM                 0 1986.txt\n",
      "2017-09-16  04:31 PM               263 ASCII_LOGO.txt\n",
      "2017-12-05  11:54 AM           760,973 Athabasca_falls.txt\n",
      "2017-12-08  12:36 AM         4,238,973 BIGDATA.txt\n",
      "2017-12-08  04:27 PM           261,622 doc_AthabascaGlaciers.txt\n",
      "2017-12-08  04:27 PM           760,973 doc_AthabscaFalls.txt\n",
      "2017-12-08  04:27 PM         1,264,226 doc_ColumbiaIcefield.txt\n",
      "2017-12-08  04:27 PM           886,983 doc_MaligneCanyon.txt\n",
      "2017-12-08  04:28 PM           338,808 doc_MaligneLake.txt\n",
      "2017-12-08  04:28 PM            76,391 doc_MountEdithCavellTrail.txt\n",
      "2017-12-08  04:28 PM           208,411 doc_MtEdithCavell.txt\n",
      "2017-12-08  04:28 PM           313,309 doc_PyramidPatriciaLakes.txt\n",
      "2017-12-08  04:29 PM            48,911 doc_SunwaptaFalls.txt\n",
      "2017-12-08  04:29 PM            79,154 doc_SunwaptaFallsCanyons.txt\n",
      "2017-11-04  11:43 AM                49 Negative.words.txt\n",
      "2017-12-06  11:33 AM            41,983 Negative_words.txt\n",
      "2017-11-04  11:33 AM                53 Obama.tweets.txt\n",
      "2017-11-30  02:04 PM            14,961 Only_reviews.txt\n",
      "2017-10-16  12:37 PM         1,223,517 Output.txt\n",
      "2017-10-29  02:11 PM                 0 Output2.txt\n",
      "2017-12-06  11:32 AM            23,722 Positive_words.txt\n",
      "2017-10-16  12:37 PM            57,698 powerConcordance.txt\n",
      "2017-10-30  11:39 AM         1,137,388 Robbins1991.txt\n",
      "2017-11-29  01:33 PM            15,691 Sample _Columbia Ice Field.txt\n",
      "2017-10-23  04:26 PM               620 story.txt\n",
      "2017-09-16  04:31 PM                92 test_requirements.txt\n",
      "2017-10-30  10:51 AM         1,137,388 TextToUse.txt\n",
      "2017-10-15  11:02 AM                80 TheURL.txt\n",
      "2017-10-29  02:05 PM                96 unlimited power.txt\n",
      "2017-10-13  12:32 PM               126 Website list.txt\n",
      "              30 File(s)     12,892,461 bytes\n",
      "               0 Dir(s)  176,577,081,344 bytes free\n"
     ]
    }
   ],
   "source": [
    "ls *.txt"
   ]
  },
  {
   "cell_type": "code",
   "execution_count": 27,
   "metadata": {},
   "outputs": [],
   "source": [
    "import tweepy"
   ]
  },
  {
   "cell_type": "code",
   "execution_count": 7,
   "metadata": {},
   "outputs": [
    {
     "name": "stdout",
     "output_type": "stream",
     "text": [
      "\n",
      "The following command must be run outside of the IPython shell:\n",
      "\n",
      "    $ pip install tweepy\n",
      "\n",
      "The Python package manager (pip) can only be used from outside of IPython.\n",
      "Please reissue the `pip` command in a separate terminal or command prompt.\n",
      "\n",
      "See the Python documentation for more information on how to install packages:\n",
      "\n",
      "    https://docs.python.org/3/installing/\n"
     ]
    }
   ],
   "source": [
    "pip install tweepy"
   ]
  },
  {
   "cell_type": "code",
   "execution_count": 13,
   "metadata": {},
   "outputs": [
    {
     "ename": "SyntaxError",
     "evalue": "invalid syntax (<ipython-input-13-c9438e149231>, line 1)",
     "output_type": "error",
     "traceback": [
      "\u001b[1;36m  File \u001b[1;32m\"<ipython-input-13-c9438e149231>\"\u001b[1;36m, line \u001b[1;32m1\u001b[0m\n\u001b[1;33m    python3.4 -m pip install SomePackage\u001b[0m\n\u001b[1;37m            ^\u001b[0m\n\u001b[1;31mSyntaxError\u001b[0m\u001b[1;31m:\u001b[0m invalid syntax\n"
     ]
    }
   ],
   "source": [
    "python3.4 -m pip install SomePackage"
   ]
  },
  {
   "cell_type": "code",
   "execution_count": 6,
   "metadata": {},
   "outputs": [],
   "source": [
    "import nltk"
   ]
  },
  {
   "cell_type": "code",
   "execution_count": 14,
   "metadata": {},
   "outputs": [
    {
     "ename": "ModuleNotFoundError",
     "evalue": "No module named 'twitter'",
     "output_type": "error",
     "traceback": [
      "\u001b[1;31m---------------------------------------------------------------------------\u001b[0m",
      "\u001b[1;31mModuleNotFoundError\u001b[0m                       Traceback (most recent call last)",
      "\u001b[1;32m<ipython-input-14-401aa7b6a498>\u001b[0m in \u001b[0;36m<module>\u001b[1;34m()\u001b[0m\n\u001b[1;32m----> 1\u001b[1;33m \u001b[1;32mimport\u001b[0m \u001b[0mtwitter\u001b[0m\u001b[1;33m\u001b[0m\u001b[0m\n\u001b[0m",
      "\u001b[1;31mModuleNotFoundError\u001b[0m: No module named 'twitter'"
     ]
    }
   ],
   "source": [
    "import twitter"
   ]
  },
  {
   "cell_type": "code",
   "execution_count": 15,
   "metadata": {},
   "outputs": [
    {
     "ename": "SyntaxError",
     "evalue": "invalid syntax (<ipython-input-15-a71c14cbc16c>, line 1)",
     "output_type": "error",
     "traceback": [
      "\u001b[1;36m  File \u001b[1;32m\"<ipython-input-15-a71c14cbc16c>\"\u001b[1;36m, line \u001b[1;32m1\u001b[0m\n\u001b[1;33m    easy_install twitter\u001b[0m\n\u001b[1;37m                       ^\u001b[0m\n\u001b[1;31mSyntaxError\u001b[0m\u001b[1;31m:\u001b[0m invalid syntax\n"
     ]
    }
   ],
   "source": [
    "easy_install twitter"
   ]
  },
  {
   "cell_type": "code",
   "execution_count": 17,
   "metadata": {},
   "outputs": [
    {
     "name": "stdout",
     "output_type": "stream",
     "text": [
      "\n",
      "The following command must be run outside of the IPython shell:\n",
      "\n",
      "    $ pip install twitter\n",
      "\n",
      "The Python package manager (pip) can only be used from outside of IPython.\n",
      "Please reissue the `pip` command in a separate terminal or command prompt.\n",
      "\n",
      "See the Python documentation for more information on how to install packages:\n",
      "\n",
      "    https://docs.python.org/3/installing/\n"
     ]
    }
   ],
   "source": [
    "pip install twitter"
   ]
  },
  {
   "cell_type": "code",
   "execution_count": 12,
   "metadata": {},
   "outputs": [
    {
     "ename": "NameError",
     "evalue": "name 'twitter' is not defined",
     "output_type": "error",
     "traceback": [
      "\u001b[1;31m---------------------------------------------------------------------------\u001b[0m",
      "\u001b[1;31mNameError\u001b[0m                                 Traceback (most recent call last)",
      "\u001b[1;32m<ipython-input-12-2766261fd348>\u001b[0m in \u001b[0;36m<module>\u001b[1;34m()\u001b[0m\n\u001b[1;32m----> 1\u001b[1;33m \u001b[0mtwitter\u001b[0m\u001b[1;33m\u001b[0m\u001b[0m\n\u001b[0m",
      "\u001b[1;31mNameError\u001b[0m: name 'twitter' is not defined"
     ]
    }
   ],
   "source": [
    "twitter"
   ]
  },
  {
   "cell_type": "code",
   "execution_count": 13,
   "metadata": {},
   "outputs": [
    {
     "ename": "NameError",
     "evalue": "name 'twitter' is not defined",
     "output_type": "error",
     "traceback": [
      "\u001b[1;31m---------------------------------------------------------------------------\u001b[0m",
      "\u001b[1;31mNameError\u001b[0m                                 Traceback (most recent call last)",
      "\u001b[1;32m<ipython-input-13-780b918ac85c>\u001b[0m in \u001b[0;36m<module>\u001b[1;34m()\u001b[0m\n\u001b[1;32m----> 1\u001b[1;33m \u001b[0mtype\u001b[0m\u001b[1;33m(\u001b[0m\u001b[0mtwitter\u001b[0m\u001b[1;33m)\u001b[0m\u001b[1;33m\u001b[0m\u001b[0m\n\u001b[0m",
      "\u001b[1;31mNameError\u001b[0m: name 'twitter' is not defined"
     ]
    }
   ],
   "source": [
    "type(twitter)"
   ]
  },
  {
   "cell_type": "code",
   "execution_count": 18,
   "metadata": {},
   "outputs": [
    {
     "ename": "SyntaxError",
     "evalue": "invalid syntax (<ipython-input-18-ae5cdb531f7e>, line 1)",
     "output_type": "error",
     "traceback": [
      "\u001b[1;36m  File \u001b[1;32m\"<ipython-input-18-ae5cdb531f7e>\"\u001b[1;36m, line \u001b[1;32m1\u001b[0m\n\u001b[1;33m    python -m pip install twitter\u001b[0m\n\u001b[1;37m                ^\u001b[0m\n\u001b[1;31mSyntaxError\u001b[0m\u001b[1;31m:\u001b[0m invalid syntax\n"
     ]
    }
   ],
   "source": [
    "python -m pip install twitter"
   ]
  },
  {
   "cell_type": "code",
   "execution_count": 16,
   "metadata": {},
   "outputs": [
    {
     "ename": "SyntaxError",
     "evalue": "invalid syntax (<ipython-input-16-e2991b298a27>, line 1)",
     "output_type": "error",
     "traceback": [
      "\u001b[1;36m  File \u001b[1;32m\"<ipython-input-16-e2991b298a27>\"\u001b[1;36m, line \u001b[1;32m1\u001b[0m\n\u001b[1;33m    -m ensurepip --default-pip\u001b[0m\n\u001b[1;37m               ^\u001b[0m\n\u001b[1;31mSyntaxError\u001b[0m\u001b[1;31m:\u001b[0m invalid syntax\n"
     ]
    }
   ],
   "source": [
    "-m ensurepip --default-pip"
   ]
  },
  {
   "cell_type": "code",
   "execution_count": 17,
   "metadata": {},
   "outputs": [
    {
     "name": "stdout",
     "output_type": "stream",
     "text": [
      "\n",
      "The following command must be run outside of the IPython shell:\n",
      "\n",
      "    $ pip \n",
      "\n",
      "The Python package manager (pip) can only be used from outside of IPython.\n",
      "Please reissue the `pip` command in a separate terminal or command prompt.\n",
      "\n",
      "See the Python documentation for more informations on how to install packages:\n",
      "\n",
      "    https://docs.python.org/3/installing/\n"
     ]
    }
   ],
   "source": [
    "pip"
   ]
  },
  {
   "cell_type": "code",
   "execution_count": 21,
   "metadata": {},
   "outputs": [
    {
     "name": "stdout",
     "output_type": "stream",
     "text": [
      "\n",
      "The following command must be run outside of the IPython shell:\n",
      "\n",
      "    $ pip install twitter\n",
      "\n",
      "The Python package manager (pip) can only be used from outside of IPython.\n",
      "Please reissue the `pip` command in a separate terminal or command prompt.\n",
      "\n",
      "See the Python documentation for more informations on how to install packages:\n",
      "\n",
      "    https://docs.python.org/3/installing/\n"
     ]
    }
   ],
   "source": [
    "pip install twitter"
   ]
  },
  {
   "cell_type": "code",
   "execution_count": 19,
   "metadata": {},
   "outputs": [
    {
     "name": "stdout",
     "output_type": "stream",
     "text": [
      "\n",
      "The following command must be run outside of the IPython shell:\n",
      "\n",
      "    $ pip twitter\n",
      "\n",
      "The Python package manager (pip) can only be used from outside of IPython.\n",
      "Please reissue the `pip` command in a separate terminal or command prompt.\n",
      "\n",
      "See the Python documentation for more information on how to install packages:\n",
      "\n",
      "    https://docs.python.org/3/installing/\n"
     ]
    }
   ],
   "source": [
    "pip twitter"
   ]
  },
  {
   "cell_type": "code",
   "execution_count": 22,
   "metadata": {},
   "outputs": [
    {
     "ename": "NameError",
     "evalue": "name 'twitter' is not defined",
     "output_type": "error",
     "traceback": [
      "\u001b[1;31m---------------------------------------------------------------------------\u001b[0m",
      "\u001b[1;31mNameError\u001b[0m                                 Traceback (most recent call last)",
      "\u001b[1;32m<ipython-input-22-780b918ac85c>\u001b[0m in \u001b[0;36m<module>\u001b[1;34m()\u001b[0m\n\u001b[1;32m----> 1\u001b[1;33m \u001b[0mtype\u001b[0m\u001b[1;33m(\u001b[0m\u001b[0mtwitter\u001b[0m\u001b[1;33m)\u001b[0m\u001b[1;33m\u001b[0m\u001b[0m\n\u001b[0m",
      "\u001b[1;31mNameError\u001b[0m: name 'twitter' is not defined"
     ]
    }
   ],
   "source": [
    "type(twitter)"
   ]
  },
  {
   "cell_type": "code",
   "execution_count": 23,
   "metadata": {},
   "outputs": [
    {
     "ename": "ModuleNotFoundError",
     "evalue": "No module named 'twitter'",
     "output_type": "error",
     "traceback": [
      "\u001b[1;31m---------------------------------------------------------------------------\u001b[0m",
      "\u001b[1;31mModuleNotFoundError\u001b[0m                       Traceback (most recent call last)",
      "\u001b[1;32m<ipython-input-23-645f6dc1896f>\u001b[0m in \u001b[0;36m<module>\u001b[1;34m()\u001b[0m\n\u001b[1;32m----> 1\u001b[1;33m \u001b[1;32mimport\u001b[0m \u001b[0mtwitter\u001b[0m\u001b[1;33m\u001b[0m\u001b[0m\n\u001b[0m",
      "\u001b[1;31mModuleNotFoundError\u001b[0m: No module named 'twitter'"
     ]
    }
   ],
   "source": [
    "import twitter"
   ]
  },
  {
   "cell_type": "code",
   "execution_count": 20,
   "metadata": {},
   "outputs": [
    {
     "ename": "ModuleNotFoundError",
     "evalue": "No module named 'ny'",
     "output_type": "error",
     "traceback": [
      "\u001b[1;31m---------------------------------------------------------------------------\u001b[0m",
      "\u001b[1;31mModuleNotFoundError\u001b[0m                       Traceback (most recent call last)",
      "\u001b[1;32m<ipython-input-20-199c85ee0457>\u001b[0m in \u001b[0;36m<module>\u001b[1;34m()\u001b[0m\n\u001b[1;32m----> 1\u001b[1;33m \u001b[1;32mimport\u001b[0m \u001b[0mny\u001b[0m\u001b[1;33m\u001b[0m\u001b[0m\n\u001b[0m",
      "\u001b[1;31mModuleNotFoundError\u001b[0m: No module named 'ny'"
     ]
    }
   ],
   "source": [
    "import ny"
   ]
  },
  {
   "cell_type": "code",
   "execution_count": 21,
   "metadata": {},
   "outputs": [],
   "source": [
    "import conda"
   ]
  },
  {
   "cell_type": "code",
   "execution_count": 22,
   "metadata": {},
   "outputs": [
    {
     "ename": "SyntaxError",
     "evalue": "invalid syntax (<ipython-input-22-a63329705f73>, line 1)",
     "output_type": "error",
     "traceback": [
      "\u001b[1;36m  File \u001b[1;32m\"<ipython-input-22-a63329705f73>\"\u001b[1;36m, line \u001b[1;32m1\u001b[0m\n\u001b[1;33m    conda install twitter\u001b[0m\n\u001b[1;37m                ^\u001b[0m\n\u001b[1;31mSyntaxError\u001b[0m\u001b[1;31m:\u001b[0m invalid syntax\n"
     ]
    }
   ],
   "source": [
    "conda install twitter"
   ]
  },
  {
   "cell_type": "code",
   "execution_count": 23,
   "metadata": {},
   "outputs": [],
   "source": [
    "import numpy"
   ]
  },
  {
   "cell_type": "code",
   "execution_count": 24,
   "metadata": {},
   "outputs": [],
   "source": [
    "import sys"
   ]
  },
  {
   "cell_type": "code",
   "execution_count": 25,
   "metadata": {},
   "outputs": [
    {
     "ename": "ModuleNotFoundError",
     "evalue": "No module named 'twitter'",
     "output_type": "error",
     "traceback": [
      "\u001b[1;31m---------------------------------------------------------------------------\u001b[0m",
      "\u001b[1;31mModuleNotFoundError\u001b[0m                       Traceback (most recent call last)",
      "\u001b[1;32m<ipython-input-25-401aa7b6a498>\u001b[0m in \u001b[0;36m<module>\u001b[1;34m()\u001b[0m\n\u001b[1;32m----> 1\u001b[1;33m \u001b[1;32mimport\u001b[0m \u001b[0mtwitter\u001b[0m\u001b[1;33m\u001b[0m\u001b[0m\n\u001b[0m",
      "\u001b[1;31mModuleNotFoundError\u001b[0m: No module named 'twitter'"
     ]
    }
   ],
   "source": [
    "import twitter"
   ]
  },
  {
   "cell_type": "code",
   "execution_count": 32,
   "metadata": {},
   "outputs": [
    {
     "name": "stderr",
     "output_type": "stream",
     "text": [
      "ERROR:root:Line magic function `%bash` not found (But cell magic `%%bash` exists, did you mean that instead?).\n"
     ]
    }
   ],
   "source": [
    "%bash pip install tweepy"
   ]
  },
  {
   "cell_type": "code",
   "execution_count": 33,
   "metadata": {},
   "outputs": [
    {
     "name": "stdout",
     "output_type": "stream",
     "text": [
      "\n",
      "The following command must be run outside of the IPython shell:\n",
      "\n",
      "    $ pip search python_package\n",
      "\n",
      "The Python package manager (pip) can only be used from outside of IPython.\n",
      "Please reissue the `pip` command in a separate terminal or command prompt.\n",
      "\n",
      "See the Python documentation for more informations on how to install packages:\n",
      "\n",
      "    https://docs.python.org/3/installing/\n"
     ]
    }
   ],
   "source": [
    "pip search python_package"
   ]
  },
  {
   "cell_type": "code",
   "execution_count": 34,
   "metadata": {},
   "outputs": [
    {
     "ename": "ModuleNotFoundError",
     "evalue": "No module named 'requests_oauthlib'",
     "output_type": "error",
     "traceback": [
      "\u001b[1;31m---------------------------------------------------------------------------\u001b[0m",
      "\u001b[1;31mModuleNotFoundError\u001b[0m                       Traceback (most recent call last)",
      "\u001b[1;32m<ipython-input-34-9d8dd8a91c0e>\u001b[0m in \u001b[0;36m<module>\u001b[1;34m()\u001b[0m\n\u001b[1;32m----> 1\u001b[1;33m \u001b[1;32mimport\u001b[0m \u001b[0mtweepy\u001b[0m\u001b[1;33m\u001b[0m\u001b[0m\n\u001b[0m",
      "\u001b[1;32m~\\tweepy\\__init__.py\u001b[0m in \u001b[0;36m<module>\u001b[1;34m()\u001b[0m\n\u001b[0;32m     14\u001b[0m \u001b[1;32mfrom\u001b[0m \u001b[0mtweepy\u001b[0m\u001b[1;33m.\u001b[0m\u001b[0mapi\u001b[0m \u001b[1;32mimport\u001b[0m \u001b[0mAPI\u001b[0m\u001b[1;33m\u001b[0m\u001b[0m\n\u001b[0;32m     15\u001b[0m \u001b[1;32mfrom\u001b[0m \u001b[0mtweepy\u001b[0m\u001b[1;33m.\u001b[0m\u001b[0mcache\u001b[0m \u001b[1;32mimport\u001b[0m \u001b[0mCache\u001b[0m\u001b[1;33m,\u001b[0m \u001b[0mMemoryCache\u001b[0m\u001b[1;33m,\u001b[0m \u001b[0mFileCache\u001b[0m\u001b[1;33m\u001b[0m\u001b[0m\n\u001b[1;32m---> 16\u001b[1;33m \u001b[1;32mfrom\u001b[0m \u001b[0mtweepy\u001b[0m\u001b[1;33m.\u001b[0m\u001b[0mauth\u001b[0m \u001b[1;32mimport\u001b[0m \u001b[0mOAuthHandler\u001b[0m\u001b[1;33m,\u001b[0m \u001b[0mAppAuthHandler\u001b[0m\u001b[1;33m\u001b[0m\u001b[0m\n\u001b[0m\u001b[0;32m     17\u001b[0m \u001b[1;32mfrom\u001b[0m \u001b[0mtweepy\u001b[0m\u001b[1;33m.\u001b[0m\u001b[0mstreaming\u001b[0m \u001b[1;32mimport\u001b[0m \u001b[0mStream\u001b[0m\u001b[1;33m,\u001b[0m \u001b[0mStreamListener\u001b[0m\u001b[1;33m\u001b[0m\u001b[0m\n\u001b[0;32m     18\u001b[0m \u001b[1;32mfrom\u001b[0m \u001b[0mtweepy\u001b[0m\u001b[1;33m.\u001b[0m\u001b[0mcursor\u001b[0m \u001b[1;32mimport\u001b[0m \u001b[0mCursor\u001b[0m\u001b[1;33m\u001b[0m\u001b[0m\n",
      "\u001b[1;32m~\\tweepy\\auth.py\u001b[0m in \u001b[0;36m<module>\u001b[1;34m()\u001b[0m\n\u001b[0;32m      7\u001b[0m \u001b[1;32mfrom\u001b[0m \u001b[0mtweepy\u001b[0m\u001b[1;33m.\u001b[0m\u001b[0mapi\u001b[0m \u001b[1;32mimport\u001b[0m \u001b[0mAPI\u001b[0m\u001b[1;33m\u001b[0m\u001b[0m\n\u001b[0;32m      8\u001b[0m \u001b[1;32mimport\u001b[0m \u001b[0mrequests\u001b[0m\u001b[1;33m\u001b[0m\u001b[0m\n\u001b[1;32m----> 9\u001b[1;33m \u001b[1;32mfrom\u001b[0m \u001b[0mrequests_oauthlib\u001b[0m \u001b[1;32mimport\u001b[0m \u001b[0mOAuth1Session\u001b[0m\u001b[1;33m,\u001b[0m \u001b[0mOAuth1\u001b[0m\u001b[1;33m\u001b[0m\u001b[0m\n\u001b[0m\u001b[0;32m     10\u001b[0m \u001b[1;32mfrom\u001b[0m \u001b[0mrequests\u001b[0m\u001b[1;33m.\u001b[0m\u001b[0mauth\u001b[0m \u001b[1;32mimport\u001b[0m \u001b[0mAuthBase\u001b[0m\u001b[1;33m\u001b[0m\u001b[0m\n\u001b[0;32m     11\u001b[0m \u001b[1;32mfrom\u001b[0m \u001b[0msix\u001b[0m\u001b[1;33m.\u001b[0m\u001b[0mmoves\u001b[0m\u001b[1;33m.\u001b[0m\u001b[0murllib\u001b[0m\u001b[1;33m.\u001b[0m\u001b[0mparse\u001b[0m \u001b[1;32mimport\u001b[0m \u001b[0mparse_qs\u001b[0m\u001b[1;33m\u001b[0m\u001b[0m\n",
      "\u001b[1;31mModuleNotFoundError\u001b[0m: No module named 'requests_oauthlib'"
     ]
    }
   ],
   "source": [
    "import tweepy"
   ]
  },
  {
   "cell_type": "code",
   "execution_count": 26,
   "metadata": {},
   "outputs": [
    {
     "ename": "NameError",
     "evalue": "name 'tweepy' is not defined",
     "output_type": "error",
     "traceback": [
      "\u001b[1;31m---------------------------------------------------------------------------\u001b[0m",
      "\u001b[1;31mNameError\u001b[0m                                 Traceback (most recent call last)",
      "\u001b[1;32m<ipython-input-26-2216c8500e8d>\u001b[0m in \u001b[0;36m<module>\u001b[1;34m()\u001b[0m\n\u001b[1;32m----> 1\u001b[1;33m \u001b[0mtweepy\u001b[0m\u001b[1;33m\u001b[0m\u001b[0m\n\u001b[0m",
      "\u001b[1;31mNameError\u001b[0m: name 'tweepy' is not defined"
     ]
    }
   ],
   "source": [
    "tweepy"
   ]
  },
  {
   "cell_type": "code",
   "execution_count": 36,
   "metadata": {},
   "outputs": [
    {
     "ename": "NameError",
     "evalue": "name 'tweepy' is not defined",
     "output_type": "error",
     "traceback": [
      "\u001b[1;31m---------------------------------------------------------------------------\u001b[0m",
      "\u001b[1;31mNameError\u001b[0m                                 Traceback (most recent call last)",
      "\u001b[1;32m<ipython-input-36-d6926c2c9fde>\u001b[0m in \u001b[0;36m<module>\u001b[1;34m()\u001b[0m\n\u001b[1;32m----> 1\u001b[1;33m \u001b[0mtweepy\u001b[0m\u001b[1;33m.\u001b[0m\u001b[0mmaster\u001b[0m\u001b[1;33m\u001b[0m\u001b[0m\n\u001b[0m",
      "\u001b[1;31mNameError\u001b[0m: name 'tweepy' is not defined"
     ]
    }
   ],
   "source": [
    "tweepy.master"
   ]
  },
  {
   "cell_type": "code",
   "execution_count": null,
   "metadata": {
    "collapsed": true
   },
   "outputs": [],
   "source": []
  }
 ],
 "metadata": {
  "kernelspec": {
   "display_name": "Python 3",
   "language": "python",
   "name": "python3"
  },
  "language_info": {
   "codemirror_mode": {
    "name": "ipython",
    "version": 3
   },
   "file_extension": ".py",
   "mimetype": "text/x-python",
   "name": "python",
   "nbconvert_exporter": "python",
   "pygments_lexer": "ipython3",
   "version": "3.6.5"
  }
 },
 "nbformat": 4,
 "nbformat_minor": 2
}
